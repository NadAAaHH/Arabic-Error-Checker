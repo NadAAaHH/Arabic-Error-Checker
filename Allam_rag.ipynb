{
  "nbformat": 4,
  "nbformat_minor": 0,
  "metadata": {
    "colab": {
      "provenance": [],
      "collapsed_sections": [
        "-FHfvGEbAw0p",
        "7bfl_8m4Jy6C",
        "0NyFVqF6QW2R"
      ],
      "authorship_tag": "ABX9TyOhZ/dD/fVY2p1jUx8aD+zJ",
      "include_colab_link": true
    },
    "kernelspec": {
      "name": "python3",
      "display_name": "Python 3"
    },
    "language_info": {
      "name": "python"
    },
    "widgets": {
      "application/vnd.jupyter.widget-state+json": {
        "b4621f60d9f2446d8d3a31f90c33f0b6": {
          "model_module": "@jupyter-widgets/controls",
          "model_name": "HBoxModel",
          "model_module_version": "1.5.0",
          "state": {
            "_dom_classes": [],
            "_model_module": "@jupyter-widgets/controls",
            "_model_module_version": "1.5.0",
            "_model_name": "HBoxModel",
            "_view_count": null,
            "_view_module": "@jupyter-widgets/controls",
            "_view_module_version": "1.5.0",
            "_view_name": "HBoxView",
            "box_style": "",
            "children": [
              "IPY_MODEL_77621ac7b1054e4cbc158eb13082032b",
              "IPY_MODEL_f8de44c1c26d429aac05f57e4890a904",
              "IPY_MODEL_4ced44d455a141bd8b452b91fc254081"
            ],
            "layout": "IPY_MODEL_3853c048ff954d0783f2e20cc5939eb4"
          }
        },
        "77621ac7b1054e4cbc158eb13082032b": {
          "model_module": "@jupyter-widgets/controls",
          "model_name": "HTMLModel",
          "model_module_version": "1.5.0",
          "state": {
            "_dom_classes": [],
            "_model_module": "@jupyter-widgets/controls",
            "_model_module_version": "1.5.0",
            "_model_name": "HTMLModel",
            "_view_count": null,
            "_view_module": "@jupyter-widgets/controls",
            "_view_module_version": "1.5.0",
            "_view_name": "HTMLView",
            "description": "",
            "description_tooltip": null,
            "layout": "IPY_MODEL_e028a198a46a47ad94fbba6c930b9d18",
            "placeholder": "​",
            "style": "IPY_MODEL_e7a957dfb4dd42eb8379fdaaea3a22ee",
            "value": "modules.json: 100%"
          }
        },
        "f8de44c1c26d429aac05f57e4890a904": {
          "model_module": "@jupyter-widgets/controls",
          "model_name": "FloatProgressModel",
          "model_module_version": "1.5.0",
          "state": {
            "_dom_classes": [],
            "_model_module": "@jupyter-widgets/controls",
            "_model_module_version": "1.5.0",
            "_model_name": "FloatProgressModel",
            "_view_count": null,
            "_view_module": "@jupyter-widgets/controls",
            "_view_module_version": "1.5.0",
            "_view_name": "ProgressView",
            "bar_style": "success",
            "description": "",
            "description_tooltip": null,
            "layout": "IPY_MODEL_d13fe55e180948e4aa696e6c45be1ec2",
            "max": 387,
            "min": 0,
            "orientation": "horizontal",
            "style": "IPY_MODEL_6f65983ed5284fd3b4ed063cc3bd77be",
            "value": 387
          }
        },
        "4ced44d455a141bd8b452b91fc254081": {
          "model_module": "@jupyter-widgets/controls",
          "model_name": "HTMLModel",
          "model_module_version": "1.5.0",
          "state": {
            "_dom_classes": [],
            "_model_module": "@jupyter-widgets/controls",
            "_model_module_version": "1.5.0",
            "_model_name": "HTMLModel",
            "_view_count": null,
            "_view_module": "@jupyter-widgets/controls",
            "_view_module_version": "1.5.0",
            "_view_name": "HTMLView",
            "description": "",
            "description_tooltip": null,
            "layout": "IPY_MODEL_452e307e95ec4f56912e700b66a0544e",
            "placeholder": "​",
            "style": "IPY_MODEL_6e9669dbe80848d0ba3d3b0c49a0aa46",
            "value": " 387/387 [00:00&lt;00:00, 24.4kB/s]"
          }
        },
        "3853c048ff954d0783f2e20cc5939eb4": {
          "model_module": "@jupyter-widgets/base",
          "model_name": "LayoutModel",
          "model_module_version": "1.2.0",
          "state": {
            "_model_module": "@jupyter-widgets/base",
            "_model_module_version": "1.2.0",
            "_model_name": "LayoutModel",
            "_view_count": null,
            "_view_module": "@jupyter-widgets/base",
            "_view_module_version": "1.2.0",
            "_view_name": "LayoutView",
            "align_content": null,
            "align_items": null,
            "align_self": null,
            "border": null,
            "bottom": null,
            "display": null,
            "flex": null,
            "flex_flow": null,
            "grid_area": null,
            "grid_auto_columns": null,
            "grid_auto_flow": null,
            "grid_auto_rows": null,
            "grid_column": null,
            "grid_gap": null,
            "grid_row": null,
            "grid_template_areas": null,
            "grid_template_columns": null,
            "grid_template_rows": null,
            "height": null,
            "justify_content": null,
            "justify_items": null,
            "left": null,
            "margin": null,
            "max_height": null,
            "max_width": null,
            "min_height": null,
            "min_width": null,
            "object_fit": null,
            "object_position": null,
            "order": null,
            "overflow": null,
            "overflow_x": null,
            "overflow_y": null,
            "padding": null,
            "right": null,
            "top": null,
            "visibility": null,
            "width": null
          }
        },
        "e028a198a46a47ad94fbba6c930b9d18": {
          "model_module": "@jupyter-widgets/base",
          "model_name": "LayoutModel",
          "model_module_version": "1.2.0",
          "state": {
            "_model_module": "@jupyter-widgets/base",
            "_model_module_version": "1.2.0",
            "_model_name": "LayoutModel",
            "_view_count": null,
            "_view_module": "@jupyter-widgets/base",
            "_view_module_version": "1.2.0",
            "_view_name": "LayoutView",
            "align_content": null,
            "align_items": null,
            "align_self": null,
            "border": null,
            "bottom": null,
            "display": null,
            "flex": null,
            "flex_flow": null,
            "grid_area": null,
            "grid_auto_columns": null,
            "grid_auto_flow": null,
            "grid_auto_rows": null,
            "grid_column": null,
            "grid_gap": null,
            "grid_row": null,
            "grid_template_areas": null,
            "grid_template_columns": null,
            "grid_template_rows": null,
            "height": null,
            "justify_content": null,
            "justify_items": null,
            "left": null,
            "margin": null,
            "max_height": null,
            "max_width": null,
            "min_height": null,
            "min_width": null,
            "object_fit": null,
            "object_position": null,
            "order": null,
            "overflow": null,
            "overflow_x": null,
            "overflow_y": null,
            "padding": null,
            "right": null,
            "top": null,
            "visibility": null,
            "width": null
          }
        },
        "e7a957dfb4dd42eb8379fdaaea3a22ee": {
          "model_module": "@jupyter-widgets/controls",
          "model_name": "DescriptionStyleModel",
          "model_module_version": "1.5.0",
          "state": {
            "_model_module": "@jupyter-widgets/controls",
            "_model_module_version": "1.5.0",
            "_model_name": "DescriptionStyleModel",
            "_view_count": null,
            "_view_module": "@jupyter-widgets/base",
            "_view_module_version": "1.2.0",
            "_view_name": "StyleView",
            "description_width": ""
          }
        },
        "d13fe55e180948e4aa696e6c45be1ec2": {
          "model_module": "@jupyter-widgets/base",
          "model_name": "LayoutModel",
          "model_module_version": "1.2.0",
          "state": {
            "_model_module": "@jupyter-widgets/base",
            "_model_module_version": "1.2.0",
            "_model_name": "LayoutModel",
            "_view_count": null,
            "_view_module": "@jupyter-widgets/base",
            "_view_module_version": "1.2.0",
            "_view_name": "LayoutView",
            "align_content": null,
            "align_items": null,
            "align_self": null,
            "border": null,
            "bottom": null,
            "display": null,
            "flex": null,
            "flex_flow": null,
            "grid_area": null,
            "grid_auto_columns": null,
            "grid_auto_flow": null,
            "grid_auto_rows": null,
            "grid_column": null,
            "grid_gap": null,
            "grid_row": null,
            "grid_template_areas": null,
            "grid_template_columns": null,
            "grid_template_rows": null,
            "height": null,
            "justify_content": null,
            "justify_items": null,
            "left": null,
            "margin": null,
            "max_height": null,
            "max_width": null,
            "min_height": null,
            "min_width": null,
            "object_fit": null,
            "object_position": null,
            "order": null,
            "overflow": null,
            "overflow_x": null,
            "overflow_y": null,
            "padding": null,
            "right": null,
            "top": null,
            "visibility": null,
            "width": null
          }
        },
        "6f65983ed5284fd3b4ed063cc3bd77be": {
          "model_module": "@jupyter-widgets/controls",
          "model_name": "ProgressStyleModel",
          "model_module_version": "1.5.0",
          "state": {
            "_model_module": "@jupyter-widgets/controls",
            "_model_module_version": "1.5.0",
            "_model_name": "ProgressStyleModel",
            "_view_count": null,
            "_view_module": "@jupyter-widgets/base",
            "_view_module_version": "1.2.0",
            "_view_name": "StyleView",
            "bar_color": null,
            "description_width": ""
          }
        },
        "452e307e95ec4f56912e700b66a0544e": {
          "model_module": "@jupyter-widgets/base",
          "model_name": "LayoutModel",
          "model_module_version": "1.2.0",
          "state": {
            "_model_module": "@jupyter-widgets/base",
            "_model_module_version": "1.2.0",
            "_model_name": "LayoutModel",
            "_view_count": null,
            "_view_module": "@jupyter-widgets/base",
            "_view_module_version": "1.2.0",
            "_view_name": "LayoutView",
            "align_content": null,
            "align_items": null,
            "align_self": null,
            "border": null,
            "bottom": null,
            "display": null,
            "flex": null,
            "flex_flow": null,
            "grid_area": null,
            "grid_auto_columns": null,
            "grid_auto_flow": null,
            "grid_auto_rows": null,
            "grid_column": null,
            "grid_gap": null,
            "grid_row": null,
            "grid_template_areas": null,
            "grid_template_columns": null,
            "grid_template_rows": null,
            "height": null,
            "justify_content": null,
            "justify_items": null,
            "left": null,
            "margin": null,
            "max_height": null,
            "max_width": null,
            "min_height": null,
            "min_width": null,
            "object_fit": null,
            "object_position": null,
            "order": null,
            "overflow": null,
            "overflow_x": null,
            "overflow_y": null,
            "padding": null,
            "right": null,
            "top": null,
            "visibility": null,
            "width": null
          }
        },
        "6e9669dbe80848d0ba3d3b0c49a0aa46": {
          "model_module": "@jupyter-widgets/controls",
          "model_name": "DescriptionStyleModel",
          "model_module_version": "1.5.0",
          "state": {
            "_model_module": "@jupyter-widgets/controls",
            "_model_module_version": "1.5.0",
            "_model_name": "DescriptionStyleModel",
            "_view_count": null,
            "_view_module": "@jupyter-widgets/base",
            "_view_module_version": "1.2.0",
            "_view_name": "StyleView",
            "description_width": ""
          }
        },
        "389d7e82628d4dbfa311e3afcbc1484a": {
          "model_module": "@jupyter-widgets/controls",
          "model_name": "HBoxModel",
          "model_module_version": "1.5.0",
          "state": {
            "_dom_classes": [],
            "_model_module": "@jupyter-widgets/controls",
            "_model_module_version": "1.5.0",
            "_model_name": "HBoxModel",
            "_view_count": null,
            "_view_module": "@jupyter-widgets/controls",
            "_view_module_version": "1.5.0",
            "_view_name": "HBoxView",
            "box_style": "",
            "children": [
              "IPY_MODEL_0334739f1d9540f0835aa2948ede43a0",
              "IPY_MODEL_750cb101095e42babb9e91d1b804e68b",
              "IPY_MODEL_27b49ce90daa4c428e1f4961338f3ff1"
            ],
            "layout": "IPY_MODEL_084d86f6e84e46a180aa024d43d013fa"
          }
        },
        "0334739f1d9540f0835aa2948ede43a0": {
          "model_module": "@jupyter-widgets/controls",
          "model_name": "HTMLModel",
          "model_module_version": "1.5.0",
          "state": {
            "_dom_classes": [],
            "_model_module": "@jupyter-widgets/controls",
            "_model_module_version": "1.5.0",
            "_model_name": "HTMLModel",
            "_view_count": null,
            "_view_module": "@jupyter-widgets/controls",
            "_view_module_version": "1.5.0",
            "_view_name": "HTMLView",
            "description": "",
            "description_tooltip": null,
            "layout": "IPY_MODEL_d78837c398f744f7afa0f0c810762eec",
            "placeholder": "​",
            "style": "IPY_MODEL_4e99fe2b763d454db9e8deff47c37e92",
            "value": "README.md: 100%"
          }
        },
        "750cb101095e42babb9e91d1b804e68b": {
          "model_module": "@jupyter-widgets/controls",
          "model_name": "FloatProgressModel",
          "model_module_version": "1.5.0",
          "state": {
            "_dom_classes": [],
            "_model_module": "@jupyter-widgets/controls",
            "_model_module_version": "1.5.0",
            "_model_name": "FloatProgressModel",
            "_view_count": null,
            "_view_module": "@jupyter-widgets/controls",
            "_view_module_version": "1.5.0",
            "_view_name": "ProgressView",
            "bar_style": "success",
            "description": "",
            "description_tooltip": null,
            "layout": "IPY_MODEL_4bd4a2175d004416a18d5746ff4aca43",
            "max": 160024,
            "min": 0,
            "orientation": "horizontal",
            "style": "IPY_MODEL_ba1a98555e9f4a19bacbc1444bfb2599",
            "value": 160024
          }
        },
        "27b49ce90daa4c428e1f4961338f3ff1": {
          "model_module": "@jupyter-widgets/controls",
          "model_name": "HTMLModel",
          "model_module_version": "1.5.0",
          "state": {
            "_dom_classes": [],
            "_model_module": "@jupyter-widgets/controls",
            "_model_module_version": "1.5.0",
            "_model_name": "HTMLModel",
            "_view_count": null,
            "_view_module": "@jupyter-widgets/controls",
            "_view_module_version": "1.5.0",
            "_view_name": "HTMLView",
            "description": "",
            "description_tooltip": null,
            "layout": "IPY_MODEL_7e7c11189da9486ebf13cc0f167dd7c7",
            "placeholder": "​",
            "style": "IPY_MODEL_d9ae2728d940493a80ee307a6b6ee94b",
            "value": " 160k/160k [00:00&lt;00:00, 887kB/s]"
          }
        },
        "084d86f6e84e46a180aa024d43d013fa": {
          "model_module": "@jupyter-widgets/base",
          "model_name": "LayoutModel",
          "model_module_version": "1.2.0",
          "state": {
            "_model_module": "@jupyter-widgets/base",
            "_model_module_version": "1.2.0",
            "_model_name": "LayoutModel",
            "_view_count": null,
            "_view_module": "@jupyter-widgets/base",
            "_view_module_version": "1.2.0",
            "_view_name": "LayoutView",
            "align_content": null,
            "align_items": null,
            "align_self": null,
            "border": null,
            "bottom": null,
            "display": null,
            "flex": null,
            "flex_flow": null,
            "grid_area": null,
            "grid_auto_columns": null,
            "grid_auto_flow": null,
            "grid_auto_rows": null,
            "grid_column": null,
            "grid_gap": null,
            "grid_row": null,
            "grid_template_areas": null,
            "grid_template_columns": null,
            "grid_template_rows": null,
            "height": null,
            "justify_content": null,
            "justify_items": null,
            "left": null,
            "margin": null,
            "max_height": null,
            "max_width": null,
            "min_height": null,
            "min_width": null,
            "object_fit": null,
            "object_position": null,
            "order": null,
            "overflow": null,
            "overflow_x": null,
            "overflow_y": null,
            "padding": null,
            "right": null,
            "top": null,
            "visibility": null,
            "width": null
          }
        },
        "d78837c398f744f7afa0f0c810762eec": {
          "model_module": "@jupyter-widgets/base",
          "model_name": "LayoutModel",
          "model_module_version": "1.2.0",
          "state": {
            "_model_module": "@jupyter-widgets/base",
            "_model_module_version": "1.2.0",
            "_model_name": "LayoutModel",
            "_view_count": null,
            "_view_module": "@jupyter-widgets/base",
            "_view_module_version": "1.2.0",
            "_view_name": "LayoutView",
            "align_content": null,
            "align_items": null,
            "align_self": null,
            "border": null,
            "bottom": null,
            "display": null,
            "flex": null,
            "flex_flow": null,
            "grid_area": null,
            "grid_auto_columns": null,
            "grid_auto_flow": null,
            "grid_auto_rows": null,
            "grid_column": null,
            "grid_gap": null,
            "grid_row": null,
            "grid_template_areas": null,
            "grid_template_columns": null,
            "grid_template_rows": null,
            "height": null,
            "justify_content": null,
            "justify_items": null,
            "left": null,
            "margin": null,
            "max_height": null,
            "max_width": null,
            "min_height": null,
            "min_width": null,
            "object_fit": null,
            "object_position": null,
            "order": null,
            "overflow": null,
            "overflow_x": null,
            "overflow_y": null,
            "padding": null,
            "right": null,
            "top": null,
            "visibility": null,
            "width": null
          }
        },
        "4e99fe2b763d454db9e8deff47c37e92": {
          "model_module": "@jupyter-widgets/controls",
          "model_name": "DescriptionStyleModel",
          "model_module_version": "1.5.0",
          "state": {
            "_model_module": "@jupyter-widgets/controls",
            "_model_module_version": "1.5.0",
            "_model_name": "DescriptionStyleModel",
            "_view_count": null,
            "_view_module": "@jupyter-widgets/base",
            "_view_module_version": "1.2.0",
            "_view_name": "StyleView",
            "description_width": ""
          }
        },
        "4bd4a2175d004416a18d5746ff4aca43": {
          "model_module": "@jupyter-widgets/base",
          "model_name": "LayoutModel",
          "model_module_version": "1.2.0",
          "state": {
            "_model_module": "@jupyter-widgets/base",
            "_model_module_version": "1.2.0",
            "_model_name": "LayoutModel",
            "_view_count": null,
            "_view_module": "@jupyter-widgets/base",
            "_view_module_version": "1.2.0",
            "_view_name": "LayoutView",
            "align_content": null,
            "align_items": null,
            "align_self": null,
            "border": null,
            "bottom": null,
            "display": null,
            "flex": null,
            "flex_flow": null,
            "grid_area": null,
            "grid_auto_columns": null,
            "grid_auto_flow": null,
            "grid_auto_rows": null,
            "grid_column": null,
            "grid_gap": null,
            "grid_row": null,
            "grid_template_areas": null,
            "grid_template_columns": null,
            "grid_template_rows": null,
            "height": null,
            "justify_content": null,
            "justify_items": null,
            "left": null,
            "margin": null,
            "max_height": null,
            "max_width": null,
            "min_height": null,
            "min_width": null,
            "object_fit": null,
            "object_position": null,
            "order": null,
            "overflow": null,
            "overflow_x": null,
            "overflow_y": null,
            "padding": null,
            "right": null,
            "top": null,
            "visibility": null,
            "width": null
          }
        },
        "ba1a98555e9f4a19bacbc1444bfb2599": {
          "model_module": "@jupyter-widgets/controls",
          "model_name": "ProgressStyleModel",
          "model_module_version": "1.5.0",
          "state": {
            "_model_module": "@jupyter-widgets/controls",
            "_model_module_version": "1.5.0",
            "_model_name": "ProgressStyleModel",
            "_view_count": null,
            "_view_module": "@jupyter-widgets/base",
            "_view_module_version": "1.2.0",
            "_view_name": "StyleView",
            "bar_color": null,
            "description_width": ""
          }
        },
        "7e7c11189da9486ebf13cc0f167dd7c7": {
          "model_module": "@jupyter-widgets/base",
          "model_name": "LayoutModel",
          "model_module_version": "1.2.0",
          "state": {
            "_model_module": "@jupyter-widgets/base",
            "_model_module_version": "1.2.0",
            "_model_name": "LayoutModel",
            "_view_count": null,
            "_view_module": "@jupyter-widgets/base",
            "_view_module_version": "1.2.0",
            "_view_name": "LayoutView",
            "align_content": null,
            "align_items": null,
            "align_self": null,
            "border": null,
            "bottom": null,
            "display": null,
            "flex": null,
            "flex_flow": null,
            "grid_area": null,
            "grid_auto_columns": null,
            "grid_auto_flow": null,
            "grid_auto_rows": null,
            "grid_column": null,
            "grid_gap": null,
            "grid_row": null,
            "grid_template_areas": null,
            "grid_template_columns": null,
            "grid_template_rows": null,
            "height": null,
            "justify_content": null,
            "justify_items": null,
            "left": null,
            "margin": null,
            "max_height": null,
            "max_width": null,
            "min_height": null,
            "min_width": null,
            "object_fit": null,
            "object_position": null,
            "order": null,
            "overflow": null,
            "overflow_x": null,
            "overflow_y": null,
            "padding": null,
            "right": null,
            "top": null,
            "visibility": null,
            "width": null
          }
        },
        "d9ae2728d940493a80ee307a6b6ee94b": {
          "model_module": "@jupyter-widgets/controls",
          "model_name": "DescriptionStyleModel",
          "model_module_version": "1.5.0",
          "state": {
            "_model_module": "@jupyter-widgets/controls",
            "_model_module_version": "1.5.0",
            "_model_name": "DescriptionStyleModel",
            "_view_count": null,
            "_view_module": "@jupyter-widgets/base",
            "_view_module_version": "1.2.0",
            "_view_name": "StyleView",
            "description_width": ""
          }
        },
        "ae03c1fa475b4f4caf30cbd1f15e1e38": {
          "model_module": "@jupyter-widgets/controls",
          "model_name": "HBoxModel",
          "model_module_version": "1.5.0",
          "state": {
            "_dom_classes": [],
            "_model_module": "@jupyter-widgets/controls",
            "_model_module_version": "1.5.0",
            "_model_name": "HBoxModel",
            "_view_count": null,
            "_view_module": "@jupyter-widgets/controls",
            "_view_module_version": "1.5.0",
            "_view_name": "HBoxView",
            "box_style": "",
            "children": [
              "IPY_MODEL_f94ac0ab61764b83b80973dc9c983219",
              "IPY_MODEL_febc635fe66c4699b6329ec74a494046",
              "IPY_MODEL_d25a2212254944729619599d0dd44c6f"
            ],
            "layout": "IPY_MODEL_e1f96292c1144c75b2afdb95d8b8203c"
          }
        },
        "f94ac0ab61764b83b80973dc9c983219": {
          "model_module": "@jupyter-widgets/controls",
          "model_name": "HTMLModel",
          "model_module_version": "1.5.0",
          "state": {
            "_dom_classes": [],
            "_model_module": "@jupyter-widgets/controls",
            "_model_module_version": "1.5.0",
            "_model_name": "HTMLModel",
            "_view_count": null,
            "_view_module": "@jupyter-widgets/controls",
            "_view_module_version": "1.5.0",
            "_view_name": "HTMLView",
            "description": "",
            "description_tooltip": null,
            "layout": "IPY_MODEL_96ecba3dacf841c2a514d24c463c86b4",
            "placeholder": "​",
            "style": "IPY_MODEL_978017e756774c69923be9c2ec5a021c",
            "value": "sentence_bert_config.json: 100%"
          }
        },
        "febc635fe66c4699b6329ec74a494046": {
          "model_module": "@jupyter-widgets/controls",
          "model_name": "FloatProgressModel",
          "model_module_version": "1.5.0",
          "state": {
            "_dom_classes": [],
            "_model_module": "@jupyter-widgets/controls",
            "_model_module_version": "1.5.0",
            "_model_name": "FloatProgressModel",
            "_view_count": null,
            "_view_module": "@jupyter-widgets/controls",
            "_view_module_version": "1.5.0",
            "_view_name": "ProgressView",
            "bar_style": "success",
            "description": "",
            "description_tooltip": null,
            "layout": "IPY_MODEL_e15c34f7872148499265bd5d2368e3ea",
            "max": 57,
            "min": 0,
            "orientation": "horizontal",
            "style": "IPY_MODEL_b4f43565dba54c05b6508ec073ddaf94",
            "value": 57
          }
        },
        "d25a2212254944729619599d0dd44c6f": {
          "model_module": "@jupyter-widgets/controls",
          "model_name": "HTMLModel",
          "model_module_version": "1.5.0",
          "state": {
            "_dom_classes": [],
            "_model_module": "@jupyter-widgets/controls",
            "_model_module_version": "1.5.0",
            "_model_name": "HTMLModel",
            "_view_count": null,
            "_view_module": "@jupyter-widgets/controls",
            "_view_module_version": "1.5.0",
            "_view_name": "HTMLView",
            "description": "",
            "description_tooltip": null,
            "layout": "IPY_MODEL_14ef020c607e47978ad881d32c2dc937",
            "placeholder": "​",
            "style": "IPY_MODEL_d5d3ea510155448794fe38b9089fd46d",
            "value": " 57.0/57.0 [00:00&lt;00:00, 2.70kB/s]"
          }
        },
        "e1f96292c1144c75b2afdb95d8b8203c": {
          "model_module": "@jupyter-widgets/base",
          "model_name": "LayoutModel",
          "model_module_version": "1.2.0",
          "state": {
            "_model_module": "@jupyter-widgets/base",
            "_model_module_version": "1.2.0",
            "_model_name": "LayoutModel",
            "_view_count": null,
            "_view_module": "@jupyter-widgets/base",
            "_view_module_version": "1.2.0",
            "_view_name": "LayoutView",
            "align_content": null,
            "align_items": null,
            "align_self": null,
            "border": null,
            "bottom": null,
            "display": null,
            "flex": null,
            "flex_flow": null,
            "grid_area": null,
            "grid_auto_columns": null,
            "grid_auto_flow": null,
            "grid_auto_rows": null,
            "grid_column": null,
            "grid_gap": null,
            "grid_row": null,
            "grid_template_areas": null,
            "grid_template_columns": null,
            "grid_template_rows": null,
            "height": null,
            "justify_content": null,
            "justify_items": null,
            "left": null,
            "margin": null,
            "max_height": null,
            "max_width": null,
            "min_height": null,
            "min_width": null,
            "object_fit": null,
            "object_position": null,
            "order": null,
            "overflow": null,
            "overflow_x": null,
            "overflow_y": null,
            "padding": null,
            "right": null,
            "top": null,
            "visibility": null,
            "width": null
          }
        },
        "96ecba3dacf841c2a514d24c463c86b4": {
          "model_module": "@jupyter-widgets/base",
          "model_name": "LayoutModel",
          "model_module_version": "1.2.0",
          "state": {
            "_model_module": "@jupyter-widgets/base",
            "_model_module_version": "1.2.0",
            "_model_name": "LayoutModel",
            "_view_count": null,
            "_view_module": "@jupyter-widgets/base",
            "_view_module_version": "1.2.0",
            "_view_name": "LayoutView",
            "align_content": null,
            "align_items": null,
            "align_self": null,
            "border": null,
            "bottom": null,
            "display": null,
            "flex": null,
            "flex_flow": null,
            "grid_area": null,
            "grid_auto_columns": null,
            "grid_auto_flow": null,
            "grid_auto_rows": null,
            "grid_column": null,
            "grid_gap": null,
            "grid_row": null,
            "grid_template_areas": null,
            "grid_template_columns": null,
            "grid_template_rows": null,
            "height": null,
            "justify_content": null,
            "justify_items": null,
            "left": null,
            "margin": null,
            "max_height": null,
            "max_width": null,
            "min_height": null,
            "min_width": null,
            "object_fit": null,
            "object_position": null,
            "order": null,
            "overflow": null,
            "overflow_x": null,
            "overflow_y": null,
            "padding": null,
            "right": null,
            "top": null,
            "visibility": null,
            "width": null
          }
        },
        "978017e756774c69923be9c2ec5a021c": {
          "model_module": "@jupyter-widgets/controls",
          "model_name": "DescriptionStyleModel",
          "model_module_version": "1.5.0",
          "state": {
            "_model_module": "@jupyter-widgets/controls",
            "_model_module_version": "1.5.0",
            "_model_name": "DescriptionStyleModel",
            "_view_count": null,
            "_view_module": "@jupyter-widgets/base",
            "_view_module_version": "1.2.0",
            "_view_name": "StyleView",
            "description_width": ""
          }
        },
        "e15c34f7872148499265bd5d2368e3ea": {
          "model_module": "@jupyter-widgets/base",
          "model_name": "LayoutModel",
          "model_module_version": "1.2.0",
          "state": {
            "_model_module": "@jupyter-widgets/base",
            "_model_module_version": "1.2.0",
            "_model_name": "LayoutModel",
            "_view_count": null,
            "_view_module": "@jupyter-widgets/base",
            "_view_module_version": "1.2.0",
            "_view_name": "LayoutView",
            "align_content": null,
            "align_items": null,
            "align_self": null,
            "border": null,
            "bottom": null,
            "display": null,
            "flex": null,
            "flex_flow": null,
            "grid_area": null,
            "grid_auto_columns": null,
            "grid_auto_flow": null,
            "grid_auto_rows": null,
            "grid_column": null,
            "grid_gap": null,
            "grid_row": null,
            "grid_template_areas": null,
            "grid_template_columns": null,
            "grid_template_rows": null,
            "height": null,
            "justify_content": null,
            "justify_items": null,
            "left": null,
            "margin": null,
            "max_height": null,
            "max_width": null,
            "min_height": null,
            "min_width": null,
            "object_fit": null,
            "object_position": null,
            "order": null,
            "overflow": null,
            "overflow_x": null,
            "overflow_y": null,
            "padding": null,
            "right": null,
            "top": null,
            "visibility": null,
            "width": null
          }
        },
        "b4f43565dba54c05b6508ec073ddaf94": {
          "model_module": "@jupyter-widgets/controls",
          "model_name": "ProgressStyleModel",
          "model_module_version": "1.5.0",
          "state": {
            "_model_module": "@jupyter-widgets/controls",
            "_model_module_version": "1.5.0",
            "_model_name": "ProgressStyleModel",
            "_view_count": null,
            "_view_module": "@jupyter-widgets/base",
            "_view_module_version": "1.2.0",
            "_view_name": "StyleView",
            "bar_color": null,
            "description_width": ""
          }
        },
        "14ef020c607e47978ad881d32c2dc937": {
          "model_module": "@jupyter-widgets/base",
          "model_name": "LayoutModel",
          "model_module_version": "1.2.0",
          "state": {
            "_model_module": "@jupyter-widgets/base",
            "_model_module_version": "1.2.0",
            "_model_name": "LayoutModel",
            "_view_count": null,
            "_view_module": "@jupyter-widgets/base",
            "_view_module_version": "1.2.0",
            "_view_name": "LayoutView",
            "align_content": null,
            "align_items": null,
            "align_self": null,
            "border": null,
            "bottom": null,
            "display": null,
            "flex": null,
            "flex_flow": null,
            "grid_area": null,
            "grid_auto_columns": null,
            "grid_auto_flow": null,
            "grid_auto_rows": null,
            "grid_column": null,
            "grid_gap": null,
            "grid_row": null,
            "grid_template_areas": null,
            "grid_template_columns": null,
            "grid_template_rows": null,
            "height": null,
            "justify_content": null,
            "justify_items": null,
            "left": null,
            "margin": null,
            "max_height": null,
            "max_width": null,
            "min_height": null,
            "min_width": null,
            "object_fit": null,
            "object_position": null,
            "order": null,
            "overflow": null,
            "overflow_x": null,
            "overflow_y": null,
            "padding": null,
            "right": null,
            "top": null,
            "visibility": null,
            "width": null
          }
        },
        "d5d3ea510155448794fe38b9089fd46d": {
          "model_module": "@jupyter-widgets/controls",
          "model_name": "DescriptionStyleModel",
          "model_module_version": "1.5.0",
          "state": {
            "_model_module": "@jupyter-widgets/controls",
            "_model_module_version": "1.5.0",
            "_model_name": "DescriptionStyleModel",
            "_view_count": null,
            "_view_module": "@jupyter-widgets/base",
            "_view_module_version": "1.2.0",
            "_view_name": "StyleView",
            "description_width": ""
          }
        },
        "1ac6b3b187f94f1281df25985b0669c2": {
          "model_module": "@jupyter-widgets/controls",
          "model_name": "HBoxModel",
          "model_module_version": "1.5.0",
          "state": {
            "_dom_classes": [],
            "_model_module": "@jupyter-widgets/controls",
            "_model_module_version": "1.5.0",
            "_model_name": "HBoxModel",
            "_view_count": null,
            "_view_module": "@jupyter-widgets/controls",
            "_view_module_version": "1.5.0",
            "_view_name": "HBoxView",
            "box_style": "",
            "children": [
              "IPY_MODEL_72cc6469a14e4509b8da171c07c19c55",
              "IPY_MODEL_fadaa0f96a41485e905269fd44b39291",
              "IPY_MODEL_6b151f15567442258701c1c0eb2ff973"
            ],
            "layout": "IPY_MODEL_165d27bfd75140ccbcaddedcae357727"
          }
        },
        "72cc6469a14e4509b8da171c07c19c55": {
          "model_module": "@jupyter-widgets/controls",
          "model_name": "HTMLModel",
          "model_module_version": "1.5.0",
          "state": {
            "_dom_classes": [],
            "_model_module": "@jupyter-widgets/controls",
            "_model_module_version": "1.5.0",
            "_model_name": "HTMLModel",
            "_view_count": null,
            "_view_module": "@jupyter-widgets/controls",
            "_view_module_version": "1.5.0",
            "_view_name": "HTMLView",
            "description": "",
            "description_tooltip": null,
            "layout": "IPY_MODEL_6fd2d782e4834591bb30e0978c598692",
            "placeholder": "​",
            "style": "IPY_MODEL_176aacd30cd9453a86f7fe12085b79de",
            "value": "config.json: 100%"
          }
        },
        "fadaa0f96a41485e905269fd44b39291": {
          "model_module": "@jupyter-widgets/controls",
          "model_name": "FloatProgressModel",
          "model_module_version": "1.5.0",
          "state": {
            "_dom_classes": [],
            "_model_module": "@jupyter-widgets/controls",
            "_model_module_version": "1.5.0",
            "_model_name": "FloatProgressModel",
            "_view_count": null,
            "_view_module": "@jupyter-widgets/controls",
            "_view_module_version": "1.5.0",
            "_view_name": "ProgressView",
            "bar_style": "success",
            "description": "",
            "description_tooltip": null,
            "layout": "IPY_MODEL_0feb3d14b1f6412eba5a4ace5ffef689",
            "max": 690,
            "min": 0,
            "orientation": "horizontal",
            "style": "IPY_MODEL_b2b9a82fdcda48cca408f3c1aaff3416",
            "value": 690
          }
        },
        "6b151f15567442258701c1c0eb2ff973": {
          "model_module": "@jupyter-widgets/controls",
          "model_name": "HTMLModel",
          "model_module_version": "1.5.0",
          "state": {
            "_dom_classes": [],
            "_model_module": "@jupyter-widgets/controls",
            "_model_module_version": "1.5.0",
            "_model_name": "HTMLModel",
            "_view_count": null,
            "_view_module": "@jupyter-widgets/controls",
            "_view_module_version": "1.5.0",
            "_view_name": "HTMLView",
            "description": "",
            "description_tooltip": null,
            "layout": "IPY_MODEL_e21a5fe2eef147f39d70cb0d9c35ae89",
            "placeholder": "​",
            "style": "IPY_MODEL_0b36a75825704104a2d48af4965af18b",
            "value": " 690/690 [00:00&lt;00:00, 28.3kB/s]"
          }
        },
        "165d27bfd75140ccbcaddedcae357727": {
          "model_module": "@jupyter-widgets/base",
          "model_name": "LayoutModel",
          "model_module_version": "1.2.0",
          "state": {
            "_model_module": "@jupyter-widgets/base",
            "_model_module_version": "1.2.0",
            "_model_name": "LayoutModel",
            "_view_count": null,
            "_view_module": "@jupyter-widgets/base",
            "_view_module_version": "1.2.0",
            "_view_name": "LayoutView",
            "align_content": null,
            "align_items": null,
            "align_self": null,
            "border": null,
            "bottom": null,
            "display": null,
            "flex": null,
            "flex_flow": null,
            "grid_area": null,
            "grid_auto_columns": null,
            "grid_auto_flow": null,
            "grid_auto_rows": null,
            "grid_column": null,
            "grid_gap": null,
            "grid_row": null,
            "grid_template_areas": null,
            "grid_template_columns": null,
            "grid_template_rows": null,
            "height": null,
            "justify_content": null,
            "justify_items": null,
            "left": null,
            "margin": null,
            "max_height": null,
            "max_width": null,
            "min_height": null,
            "min_width": null,
            "object_fit": null,
            "object_position": null,
            "order": null,
            "overflow": null,
            "overflow_x": null,
            "overflow_y": null,
            "padding": null,
            "right": null,
            "top": null,
            "visibility": null,
            "width": null
          }
        },
        "6fd2d782e4834591bb30e0978c598692": {
          "model_module": "@jupyter-widgets/base",
          "model_name": "LayoutModel",
          "model_module_version": "1.2.0",
          "state": {
            "_model_module": "@jupyter-widgets/base",
            "_model_module_version": "1.2.0",
            "_model_name": "LayoutModel",
            "_view_count": null,
            "_view_module": "@jupyter-widgets/base",
            "_view_module_version": "1.2.0",
            "_view_name": "LayoutView",
            "align_content": null,
            "align_items": null,
            "align_self": null,
            "border": null,
            "bottom": null,
            "display": null,
            "flex": null,
            "flex_flow": null,
            "grid_area": null,
            "grid_auto_columns": null,
            "grid_auto_flow": null,
            "grid_auto_rows": null,
            "grid_column": null,
            "grid_gap": null,
            "grid_row": null,
            "grid_template_areas": null,
            "grid_template_columns": null,
            "grid_template_rows": null,
            "height": null,
            "justify_content": null,
            "justify_items": null,
            "left": null,
            "margin": null,
            "max_height": null,
            "max_width": null,
            "min_height": null,
            "min_width": null,
            "object_fit": null,
            "object_position": null,
            "order": null,
            "overflow": null,
            "overflow_x": null,
            "overflow_y": null,
            "padding": null,
            "right": null,
            "top": null,
            "visibility": null,
            "width": null
          }
        },
        "176aacd30cd9453a86f7fe12085b79de": {
          "model_module": "@jupyter-widgets/controls",
          "model_name": "DescriptionStyleModel",
          "model_module_version": "1.5.0",
          "state": {
            "_model_module": "@jupyter-widgets/controls",
            "_model_module_version": "1.5.0",
            "_model_name": "DescriptionStyleModel",
            "_view_count": null,
            "_view_module": "@jupyter-widgets/base",
            "_view_module_version": "1.2.0",
            "_view_name": "StyleView",
            "description_width": ""
          }
        },
        "0feb3d14b1f6412eba5a4ace5ffef689": {
          "model_module": "@jupyter-widgets/base",
          "model_name": "LayoutModel",
          "model_module_version": "1.2.0",
          "state": {
            "_model_module": "@jupyter-widgets/base",
            "_model_module_version": "1.2.0",
            "_model_name": "LayoutModel",
            "_view_count": null,
            "_view_module": "@jupyter-widgets/base",
            "_view_module_version": "1.2.0",
            "_view_name": "LayoutView",
            "align_content": null,
            "align_items": null,
            "align_self": null,
            "border": null,
            "bottom": null,
            "display": null,
            "flex": null,
            "flex_flow": null,
            "grid_area": null,
            "grid_auto_columns": null,
            "grid_auto_flow": null,
            "grid_auto_rows": null,
            "grid_column": null,
            "grid_gap": null,
            "grid_row": null,
            "grid_template_areas": null,
            "grid_template_columns": null,
            "grid_template_rows": null,
            "height": null,
            "justify_content": null,
            "justify_items": null,
            "left": null,
            "margin": null,
            "max_height": null,
            "max_width": null,
            "min_height": null,
            "min_width": null,
            "object_fit": null,
            "object_position": null,
            "order": null,
            "overflow": null,
            "overflow_x": null,
            "overflow_y": null,
            "padding": null,
            "right": null,
            "top": null,
            "visibility": null,
            "width": null
          }
        },
        "b2b9a82fdcda48cca408f3c1aaff3416": {
          "model_module": "@jupyter-widgets/controls",
          "model_name": "ProgressStyleModel",
          "model_module_version": "1.5.0",
          "state": {
            "_model_module": "@jupyter-widgets/controls",
            "_model_module_version": "1.5.0",
            "_model_name": "ProgressStyleModel",
            "_view_count": null,
            "_view_module": "@jupyter-widgets/base",
            "_view_module_version": "1.2.0",
            "_view_name": "StyleView",
            "bar_color": null,
            "description_width": ""
          }
        },
        "e21a5fe2eef147f39d70cb0d9c35ae89": {
          "model_module": "@jupyter-widgets/base",
          "model_name": "LayoutModel",
          "model_module_version": "1.2.0",
          "state": {
            "_model_module": "@jupyter-widgets/base",
            "_model_module_version": "1.2.0",
            "_model_name": "LayoutModel",
            "_view_count": null,
            "_view_module": "@jupyter-widgets/base",
            "_view_module_version": "1.2.0",
            "_view_name": "LayoutView",
            "align_content": null,
            "align_items": null,
            "align_self": null,
            "border": null,
            "bottom": null,
            "display": null,
            "flex": null,
            "flex_flow": null,
            "grid_area": null,
            "grid_auto_columns": null,
            "grid_auto_flow": null,
            "grid_auto_rows": null,
            "grid_column": null,
            "grid_gap": null,
            "grid_row": null,
            "grid_template_areas": null,
            "grid_template_columns": null,
            "grid_template_rows": null,
            "height": null,
            "justify_content": null,
            "justify_items": null,
            "left": null,
            "margin": null,
            "max_height": null,
            "max_width": null,
            "min_height": null,
            "min_width": null,
            "object_fit": null,
            "object_position": null,
            "order": null,
            "overflow": null,
            "overflow_x": null,
            "overflow_y": null,
            "padding": null,
            "right": null,
            "top": null,
            "visibility": null,
            "width": null
          }
        },
        "0b36a75825704104a2d48af4965af18b": {
          "model_module": "@jupyter-widgets/controls",
          "model_name": "DescriptionStyleModel",
          "model_module_version": "1.5.0",
          "state": {
            "_model_module": "@jupyter-widgets/controls",
            "_model_module_version": "1.5.0",
            "_model_name": "DescriptionStyleModel",
            "_view_count": null,
            "_view_module": "@jupyter-widgets/base",
            "_view_module_version": "1.2.0",
            "_view_name": "StyleView",
            "description_width": ""
          }
        },
        "221b5b921a724d54a8c934c8cf916b03": {
          "model_module": "@jupyter-widgets/controls",
          "model_name": "HBoxModel",
          "model_module_version": "1.5.0",
          "state": {
            "_dom_classes": [],
            "_model_module": "@jupyter-widgets/controls",
            "_model_module_version": "1.5.0",
            "_model_name": "HBoxModel",
            "_view_count": null,
            "_view_module": "@jupyter-widgets/controls",
            "_view_module_version": "1.5.0",
            "_view_name": "HBoxView",
            "box_style": "",
            "children": [
              "IPY_MODEL_441ab968f28147b5926bbe5f0fdc3882",
              "IPY_MODEL_fea38b214f8341d29902797369168c61",
              "IPY_MODEL_33995bb99c274a02b8c86aa628c16923"
            ],
            "layout": "IPY_MODEL_110f46bb13004716bf6691ddf071867a"
          }
        },
        "441ab968f28147b5926bbe5f0fdc3882": {
          "model_module": "@jupyter-widgets/controls",
          "model_name": "HTMLModel",
          "model_module_version": "1.5.0",
          "state": {
            "_dom_classes": [],
            "_model_module": "@jupyter-widgets/controls",
            "_model_module_version": "1.5.0",
            "_model_name": "HTMLModel",
            "_view_count": null,
            "_view_module": "@jupyter-widgets/controls",
            "_view_module_version": "1.5.0",
            "_view_name": "HTMLView",
            "description": "",
            "description_tooltip": null,
            "layout": "IPY_MODEL_127872600a3c4ed995d7ebe2c6118112",
            "placeholder": "​",
            "style": "IPY_MODEL_f0e7303e059d44de9d0e53249866d4c9",
            "value": "model.safetensors: 100%"
          }
        },
        "fea38b214f8341d29902797369168c61": {
          "model_module": "@jupyter-widgets/controls",
          "model_name": "FloatProgressModel",
          "model_module_version": "1.5.0",
          "state": {
            "_dom_classes": [],
            "_model_module": "@jupyter-widgets/controls",
            "_model_module_version": "1.5.0",
            "_model_name": "FloatProgressModel",
            "_view_count": null,
            "_view_module": "@jupyter-widgets/controls",
            "_view_module_version": "1.5.0",
            "_view_name": "ProgressView",
            "bar_style": "success",
            "description": "",
            "description_tooltip": null,
            "layout": "IPY_MODEL_7c9d1af9964944aaa3d7825eede1a968",
            "max": 2239611368,
            "min": 0,
            "orientation": "horizontal",
            "style": "IPY_MODEL_c5ff1de0caf64f6e9b5db93d22f8a75c",
            "value": 2239611368
          }
        },
        "33995bb99c274a02b8c86aa628c16923": {
          "model_module": "@jupyter-widgets/controls",
          "model_name": "HTMLModel",
          "model_module_version": "1.5.0",
          "state": {
            "_dom_classes": [],
            "_model_module": "@jupyter-widgets/controls",
            "_model_module_version": "1.5.0",
            "_model_name": "HTMLModel",
            "_view_count": null,
            "_view_module": "@jupyter-widgets/controls",
            "_view_module_version": "1.5.0",
            "_view_name": "HTMLView",
            "description": "",
            "description_tooltip": null,
            "layout": "IPY_MODEL_0e6a2e338a214b73bd7cd0ca6539a778",
            "placeholder": "​",
            "style": "IPY_MODEL_3438456251334ae5a649a3b9d53f689e",
            "value": " 2.24G/2.24G [00:28&lt;00:00, 174MB/s]"
          }
        },
        "110f46bb13004716bf6691ddf071867a": {
          "model_module": "@jupyter-widgets/base",
          "model_name": "LayoutModel",
          "model_module_version": "1.2.0",
          "state": {
            "_model_module": "@jupyter-widgets/base",
            "_model_module_version": "1.2.0",
            "_model_name": "LayoutModel",
            "_view_count": null,
            "_view_module": "@jupyter-widgets/base",
            "_view_module_version": "1.2.0",
            "_view_name": "LayoutView",
            "align_content": null,
            "align_items": null,
            "align_self": null,
            "border": null,
            "bottom": null,
            "display": null,
            "flex": null,
            "flex_flow": null,
            "grid_area": null,
            "grid_auto_columns": null,
            "grid_auto_flow": null,
            "grid_auto_rows": null,
            "grid_column": null,
            "grid_gap": null,
            "grid_row": null,
            "grid_template_areas": null,
            "grid_template_columns": null,
            "grid_template_rows": null,
            "height": null,
            "justify_content": null,
            "justify_items": null,
            "left": null,
            "margin": null,
            "max_height": null,
            "max_width": null,
            "min_height": null,
            "min_width": null,
            "object_fit": null,
            "object_position": null,
            "order": null,
            "overflow": null,
            "overflow_x": null,
            "overflow_y": null,
            "padding": null,
            "right": null,
            "top": null,
            "visibility": null,
            "width": null
          }
        },
        "127872600a3c4ed995d7ebe2c6118112": {
          "model_module": "@jupyter-widgets/base",
          "model_name": "LayoutModel",
          "model_module_version": "1.2.0",
          "state": {
            "_model_module": "@jupyter-widgets/base",
            "_model_module_version": "1.2.0",
            "_model_name": "LayoutModel",
            "_view_count": null,
            "_view_module": "@jupyter-widgets/base",
            "_view_module_version": "1.2.0",
            "_view_name": "LayoutView",
            "align_content": null,
            "align_items": null,
            "align_self": null,
            "border": null,
            "bottom": null,
            "display": null,
            "flex": null,
            "flex_flow": null,
            "grid_area": null,
            "grid_auto_columns": null,
            "grid_auto_flow": null,
            "grid_auto_rows": null,
            "grid_column": null,
            "grid_gap": null,
            "grid_row": null,
            "grid_template_areas": null,
            "grid_template_columns": null,
            "grid_template_rows": null,
            "height": null,
            "justify_content": null,
            "justify_items": null,
            "left": null,
            "margin": null,
            "max_height": null,
            "max_width": null,
            "min_height": null,
            "min_width": null,
            "object_fit": null,
            "object_position": null,
            "order": null,
            "overflow": null,
            "overflow_x": null,
            "overflow_y": null,
            "padding": null,
            "right": null,
            "top": null,
            "visibility": null,
            "width": null
          }
        },
        "f0e7303e059d44de9d0e53249866d4c9": {
          "model_module": "@jupyter-widgets/controls",
          "model_name": "DescriptionStyleModel",
          "model_module_version": "1.5.0",
          "state": {
            "_model_module": "@jupyter-widgets/controls",
            "_model_module_version": "1.5.0",
            "_model_name": "DescriptionStyleModel",
            "_view_count": null,
            "_view_module": "@jupyter-widgets/base",
            "_view_module_version": "1.2.0",
            "_view_name": "StyleView",
            "description_width": ""
          }
        },
        "7c9d1af9964944aaa3d7825eede1a968": {
          "model_module": "@jupyter-widgets/base",
          "model_name": "LayoutModel",
          "model_module_version": "1.2.0",
          "state": {
            "_model_module": "@jupyter-widgets/base",
            "_model_module_version": "1.2.0",
            "_model_name": "LayoutModel",
            "_view_count": null,
            "_view_module": "@jupyter-widgets/base",
            "_view_module_version": "1.2.0",
            "_view_name": "LayoutView",
            "align_content": null,
            "align_items": null,
            "align_self": null,
            "border": null,
            "bottom": null,
            "display": null,
            "flex": null,
            "flex_flow": null,
            "grid_area": null,
            "grid_auto_columns": null,
            "grid_auto_flow": null,
            "grid_auto_rows": null,
            "grid_column": null,
            "grid_gap": null,
            "grid_row": null,
            "grid_template_areas": null,
            "grid_template_columns": null,
            "grid_template_rows": null,
            "height": null,
            "justify_content": null,
            "justify_items": null,
            "left": null,
            "margin": null,
            "max_height": null,
            "max_width": null,
            "min_height": null,
            "min_width": null,
            "object_fit": null,
            "object_position": null,
            "order": null,
            "overflow": null,
            "overflow_x": null,
            "overflow_y": null,
            "padding": null,
            "right": null,
            "top": null,
            "visibility": null,
            "width": null
          }
        },
        "c5ff1de0caf64f6e9b5db93d22f8a75c": {
          "model_module": "@jupyter-widgets/controls",
          "model_name": "ProgressStyleModel",
          "model_module_version": "1.5.0",
          "state": {
            "_model_module": "@jupyter-widgets/controls",
            "_model_module_version": "1.5.0",
            "_model_name": "ProgressStyleModel",
            "_view_count": null,
            "_view_module": "@jupyter-widgets/base",
            "_view_module_version": "1.2.0",
            "_view_name": "StyleView",
            "bar_color": null,
            "description_width": ""
          }
        },
        "0e6a2e338a214b73bd7cd0ca6539a778": {
          "model_module": "@jupyter-widgets/base",
          "model_name": "LayoutModel",
          "model_module_version": "1.2.0",
          "state": {
            "_model_module": "@jupyter-widgets/base",
            "_model_module_version": "1.2.0",
            "_model_name": "LayoutModel",
            "_view_count": null,
            "_view_module": "@jupyter-widgets/base",
            "_view_module_version": "1.2.0",
            "_view_name": "LayoutView",
            "align_content": null,
            "align_items": null,
            "align_self": null,
            "border": null,
            "bottom": null,
            "display": null,
            "flex": null,
            "flex_flow": null,
            "grid_area": null,
            "grid_auto_columns": null,
            "grid_auto_flow": null,
            "grid_auto_rows": null,
            "grid_column": null,
            "grid_gap": null,
            "grid_row": null,
            "grid_template_areas": null,
            "grid_template_columns": null,
            "grid_template_rows": null,
            "height": null,
            "justify_content": null,
            "justify_items": null,
            "left": null,
            "margin": null,
            "max_height": null,
            "max_width": null,
            "min_height": null,
            "min_width": null,
            "object_fit": null,
            "object_position": null,
            "order": null,
            "overflow": null,
            "overflow_x": null,
            "overflow_y": null,
            "padding": null,
            "right": null,
            "top": null,
            "visibility": null,
            "width": null
          }
        },
        "3438456251334ae5a649a3b9d53f689e": {
          "model_module": "@jupyter-widgets/controls",
          "model_name": "DescriptionStyleModel",
          "model_module_version": "1.5.0",
          "state": {
            "_model_module": "@jupyter-widgets/controls",
            "_model_module_version": "1.5.0",
            "_model_name": "DescriptionStyleModel",
            "_view_count": null,
            "_view_module": "@jupyter-widgets/base",
            "_view_module_version": "1.2.0",
            "_view_name": "StyleView",
            "description_width": ""
          }
        },
        "95c225718634473f9d9cf8dbc349c113": {
          "model_module": "@jupyter-widgets/controls",
          "model_name": "HBoxModel",
          "model_module_version": "1.5.0",
          "state": {
            "_dom_classes": [],
            "_model_module": "@jupyter-widgets/controls",
            "_model_module_version": "1.5.0",
            "_model_name": "HBoxModel",
            "_view_count": null,
            "_view_module": "@jupyter-widgets/controls",
            "_view_module_version": "1.5.0",
            "_view_name": "HBoxView",
            "box_style": "",
            "children": [
              "IPY_MODEL_a463d06d5ba94274bbfbd35a6237761d",
              "IPY_MODEL_2312c54db6f344e1b5e93cfff2db7b01",
              "IPY_MODEL_f705bb605a3a446d93f5751dde2bdc43"
            ],
            "layout": "IPY_MODEL_de10421600824375bb96a11c3d0f6266"
          }
        },
        "a463d06d5ba94274bbfbd35a6237761d": {
          "model_module": "@jupyter-widgets/controls",
          "model_name": "HTMLModel",
          "model_module_version": "1.5.0",
          "state": {
            "_dom_classes": [],
            "_model_module": "@jupyter-widgets/controls",
            "_model_module_version": "1.5.0",
            "_model_name": "HTMLModel",
            "_view_count": null,
            "_view_module": "@jupyter-widgets/controls",
            "_view_module_version": "1.5.0",
            "_view_name": "HTMLView",
            "description": "",
            "description_tooltip": null,
            "layout": "IPY_MODEL_f917fb9512944de38afe92d5b862cebc",
            "placeholder": "​",
            "style": "IPY_MODEL_f487833fdc5f423faa3cc99cc4e8c613",
            "value": "tokenizer_config.json: 100%"
          }
        },
        "2312c54db6f344e1b5e93cfff2db7b01": {
          "model_module": "@jupyter-widgets/controls",
          "model_name": "FloatProgressModel",
          "model_module_version": "1.5.0",
          "state": {
            "_dom_classes": [],
            "_model_module": "@jupyter-widgets/controls",
            "_model_module_version": "1.5.0",
            "_model_name": "FloatProgressModel",
            "_view_count": null,
            "_view_module": "@jupyter-widgets/controls",
            "_view_module_version": "1.5.0",
            "_view_name": "ProgressView",
            "bar_style": "success",
            "description": "",
            "description_tooltip": null,
            "layout": "IPY_MODEL_c46b0d7b13c64bbb8d19ba0b118f8193",
            "max": 418,
            "min": 0,
            "orientation": "horizontal",
            "style": "IPY_MODEL_dedba6e6c40a49788f7435b7cc5c8f9a",
            "value": 418
          }
        },
        "f705bb605a3a446d93f5751dde2bdc43": {
          "model_module": "@jupyter-widgets/controls",
          "model_name": "HTMLModel",
          "model_module_version": "1.5.0",
          "state": {
            "_dom_classes": [],
            "_model_module": "@jupyter-widgets/controls",
            "_model_module_version": "1.5.0",
            "_model_name": "HTMLModel",
            "_view_count": null,
            "_view_module": "@jupyter-widgets/controls",
            "_view_module_version": "1.5.0",
            "_view_name": "HTMLView",
            "description": "",
            "description_tooltip": null,
            "layout": "IPY_MODEL_64f7c9f9be2348539b0e2e3bf4cf7a83",
            "placeholder": "​",
            "style": "IPY_MODEL_74e80e1487644d8f98be02f0f1acfe44",
            "value": " 418/418 [00:00&lt;00:00, 16.6kB/s]"
          }
        },
        "de10421600824375bb96a11c3d0f6266": {
          "model_module": "@jupyter-widgets/base",
          "model_name": "LayoutModel",
          "model_module_version": "1.2.0",
          "state": {
            "_model_module": "@jupyter-widgets/base",
            "_model_module_version": "1.2.0",
            "_model_name": "LayoutModel",
            "_view_count": null,
            "_view_module": "@jupyter-widgets/base",
            "_view_module_version": "1.2.0",
            "_view_name": "LayoutView",
            "align_content": null,
            "align_items": null,
            "align_self": null,
            "border": null,
            "bottom": null,
            "display": null,
            "flex": null,
            "flex_flow": null,
            "grid_area": null,
            "grid_auto_columns": null,
            "grid_auto_flow": null,
            "grid_auto_rows": null,
            "grid_column": null,
            "grid_gap": null,
            "grid_row": null,
            "grid_template_areas": null,
            "grid_template_columns": null,
            "grid_template_rows": null,
            "height": null,
            "justify_content": null,
            "justify_items": null,
            "left": null,
            "margin": null,
            "max_height": null,
            "max_width": null,
            "min_height": null,
            "min_width": null,
            "object_fit": null,
            "object_position": null,
            "order": null,
            "overflow": null,
            "overflow_x": null,
            "overflow_y": null,
            "padding": null,
            "right": null,
            "top": null,
            "visibility": null,
            "width": null
          }
        },
        "f917fb9512944de38afe92d5b862cebc": {
          "model_module": "@jupyter-widgets/base",
          "model_name": "LayoutModel",
          "model_module_version": "1.2.0",
          "state": {
            "_model_module": "@jupyter-widgets/base",
            "_model_module_version": "1.2.0",
            "_model_name": "LayoutModel",
            "_view_count": null,
            "_view_module": "@jupyter-widgets/base",
            "_view_module_version": "1.2.0",
            "_view_name": "LayoutView",
            "align_content": null,
            "align_items": null,
            "align_self": null,
            "border": null,
            "bottom": null,
            "display": null,
            "flex": null,
            "flex_flow": null,
            "grid_area": null,
            "grid_auto_columns": null,
            "grid_auto_flow": null,
            "grid_auto_rows": null,
            "grid_column": null,
            "grid_gap": null,
            "grid_row": null,
            "grid_template_areas": null,
            "grid_template_columns": null,
            "grid_template_rows": null,
            "height": null,
            "justify_content": null,
            "justify_items": null,
            "left": null,
            "margin": null,
            "max_height": null,
            "max_width": null,
            "min_height": null,
            "min_width": null,
            "object_fit": null,
            "object_position": null,
            "order": null,
            "overflow": null,
            "overflow_x": null,
            "overflow_y": null,
            "padding": null,
            "right": null,
            "top": null,
            "visibility": null,
            "width": null
          }
        },
        "f487833fdc5f423faa3cc99cc4e8c613": {
          "model_module": "@jupyter-widgets/controls",
          "model_name": "DescriptionStyleModel",
          "model_module_version": "1.5.0",
          "state": {
            "_model_module": "@jupyter-widgets/controls",
            "_model_module_version": "1.5.0",
            "_model_name": "DescriptionStyleModel",
            "_view_count": null,
            "_view_module": "@jupyter-widgets/base",
            "_view_module_version": "1.2.0",
            "_view_name": "StyleView",
            "description_width": ""
          }
        },
        "c46b0d7b13c64bbb8d19ba0b118f8193": {
          "model_module": "@jupyter-widgets/base",
          "model_name": "LayoutModel",
          "model_module_version": "1.2.0",
          "state": {
            "_model_module": "@jupyter-widgets/base",
            "_model_module_version": "1.2.0",
            "_model_name": "LayoutModel",
            "_view_count": null,
            "_view_module": "@jupyter-widgets/base",
            "_view_module_version": "1.2.0",
            "_view_name": "LayoutView",
            "align_content": null,
            "align_items": null,
            "align_self": null,
            "border": null,
            "bottom": null,
            "display": null,
            "flex": null,
            "flex_flow": null,
            "grid_area": null,
            "grid_auto_columns": null,
            "grid_auto_flow": null,
            "grid_auto_rows": null,
            "grid_column": null,
            "grid_gap": null,
            "grid_row": null,
            "grid_template_areas": null,
            "grid_template_columns": null,
            "grid_template_rows": null,
            "height": null,
            "justify_content": null,
            "justify_items": null,
            "left": null,
            "margin": null,
            "max_height": null,
            "max_width": null,
            "min_height": null,
            "min_width": null,
            "object_fit": null,
            "object_position": null,
            "order": null,
            "overflow": null,
            "overflow_x": null,
            "overflow_y": null,
            "padding": null,
            "right": null,
            "top": null,
            "visibility": null,
            "width": null
          }
        },
        "dedba6e6c40a49788f7435b7cc5c8f9a": {
          "model_module": "@jupyter-widgets/controls",
          "model_name": "ProgressStyleModel",
          "model_module_version": "1.5.0",
          "state": {
            "_model_module": "@jupyter-widgets/controls",
            "_model_module_version": "1.5.0",
            "_model_name": "ProgressStyleModel",
            "_view_count": null,
            "_view_module": "@jupyter-widgets/base",
            "_view_module_version": "1.2.0",
            "_view_name": "StyleView",
            "bar_color": null,
            "description_width": ""
          }
        },
        "64f7c9f9be2348539b0e2e3bf4cf7a83": {
          "model_module": "@jupyter-widgets/base",
          "model_name": "LayoutModel",
          "model_module_version": "1.2.0",
          "state": {
            "_model_module": "@jupyter-widgets/base",
            "_model_module_version": "1.2.0",
            "_model_name": "LayoutModel",
            "_view_count": null,
            "_view_module": "@jupyter-widgets/base",
            "_view_module_version": "1.2.0",
            "_view_name": "LayoutView",
            "align_content": null,
            "align_items": null,
            "align_self": null,
            "border": null,
            "bottom": null,
            "display": null,
            "flex": null,
            "flex_flow": null,
            "grid_area": null,
            "grid_auto_columns": null,
            "grid_auto_flow": null,
            "grid_auto_rows": null,
            "grid_column": null,
            "grid_gap": null,
            "grid_row": null,
            "grid_template_areas": null,
            "grid_template_columns": null,
            "grid_template_rows": null,
            "height": null,
            "justify_content": null,
            "justify_items": null,
            "left": null,
            "margin": null,
            "max_height": null,
            "max_width": null,
            "min_height": null,
            "min_width": null,
            "object_fit": null,
            "object_position": null,
            "order": null,
            "overflow": null,
            "overflow_x": null,
            "overflow_y": null,
            "padding": null,
            "right": null,
            "top": null,
            "visibility": null,
            "width": null
          }
        },
        "74e80e1487644d8f98be02f0f1acfe44": {
          "model_module": "@jupyter-widgets/controls",
          "model_name": "DescriptionStyleModel",
          "model_module_version": "1.5.0",
          "state": {
            "_model_module": "@jupyter-widgets/controls",
            "_model_module_version": "1.5.0",
            "_model_name": "DescriptionStyleModel",
            "_view_count": null,
            "_view_module": "@jupyter-widgets/base",
            "_view_module_version": "1.2.0",
            "_view_name": "StyleView",
            "description_width": ""
          }
        },
        "1929bb3be9d54cb39ad9ba483be094cd": {
          "model_module": "@jupyter-widgets/controls",
          "model_name": "HBoxModel",
          "model_module_version": "1.5.0",
          "state": {
            "_dom_classes": [],
            "_model_module": "@jupyter-widgets/controls",
            "_model_module_version": "1.5.0",
            "_model_name": "HBoxModel",
            "_view_count": null,
            "_view_module": "@jupyter-widgets/controls",
            "_view_module_version": "1.5.0",
            "_view_name": "HBoxView",
            "box_style": "",
            "children": [
              "IPY_MODEL_194eb0105bb143e6aa974faeab64ae08",
              "IPY_MODEL_8752f45e99944dc691adfd763d276fd9",
              "IPY_MODEL_07cffd72e796452c800db76b94968352"
            ],
            "layout": "IPY_MODEL_736ea64e76aa44bca087f4c0367e32c0"
          }
        },
        "194eb0105bb143e6aa974faeab64ae08": {
          "model_module": "@jupyter-widgets/controls",
          "model_name": "HTMLModel",
          "model_module_version": "1.5.0",
          "state": {
            "_dom_classes": [],
            "_model_module": "@jupyter-widgets/controls",
            "_model_module_version": "1.5.0",
            "_model_name": "HTMLModel",
            "_view_count": null,
            "_view_module": "@jupyter-widgets/controls",
            "_view_module_version": "1.5.0",
            "_view_name": "HTMLView",
            "description": "",
            "description_tooltip": null,
            "layout": "IPY_MODEL_23f312731835438ab37a06a0f0ec95ef",
            "placeholder": "​",
            "style": "IPY_MODEL_51b4e77d9e0644698b3d5ebcc532957f",
            "value": "sentencepiece.bpe.model: 100%"
          }
        },
        "8752f45e99944dc691adfd763d276fd9": {
          "model_module": "@jupyter-widgets/controls",
          "model_name": "FloatProgressModel",
          "model_module_version": "1.5.0",
          "state": {
            "_dom_classes": [],
            "_model_module": "@jupyter-widgets/controls",
            "_model_module_version": "1.5.0",
            "_model_name": "FloatProgressModel",
            "_view_count": null,
            "_view_module": "@jupyter-widgets/controls",
            "_view_module_version": "1.5.0",
            "_view_name": "ProgressView",
            "bar_style": "success",
            "description": "",
            "description_tooltip": null,
            "layout": "IPY_MODEL_f5a3777dbc0843869d5d3b37dd986d03",
            "max": 5069051,
            "min": 0,
            "orientation": "horizontal",
            "style": "IPY_MODEL_2cb0ad2eb3ff43cdb51565af2550c236",
            "value": 5069051
          }
        },
        "07cffd72e796452c800db76b94968352": {
          "model_module": "@jupyter-widgets/controls",
          "model_name": "HTMLModel",
          "model_module_version": "1.5.0",
          "state": {
            "_dom_classes": [],
            "_model_module": "@jupyter-widgets/controls",
            "_model_module_version": "1.5.0",
            "_model_name": "HTMLModel",
            "_view_count": null,
            "_view_module": "@jupyter-widgets/controls",
            "_view_module_version": "1.5.0",
            "_view_name": "HTMLView",
            "description": "",
            "description_tooltip": null,
            "layout": "IPY_MODEL_3695dc0f20bb413b90e3b1ff1f8aacb9",
            "placeholder": "​",
            "style": "IPY_MODEL_97e7dcc7c4e14fa5b9b7570c197b5e3c",
            "value": " 5.07M/5.07M [00:00&lt;00:00, 94.7MB/s]"
          }
        },
        "736ea64e76aa44bca087f4c0367e32c0": {
          "model_module": "@jupyter-widgets/base",
          "model_name": "LayoutModel",
          "model_module_version": "1.2.0",
          "state": {
            "_model_module": "@jupyter-widgets/base",
            "_model_module_version": "1.2.0",
            "_model_name": "LayoutModel",
            "_view_count": null,
            "_view_module": "@jupyter-widgets/base",
            "_view_module_version": "1.2.0",
            "_view_name": "LayoutView",
            "align_content": null,
            "align_items": null,
            "align_self": null,
            "border": null,
            "bottom": null,
            "display": null,
            "flex": null,
            "flex_flow": null,
            "grid_area": null,
            "grid_auto_columns": null,
            "grid_auto_flow": null,
            "grid_auto_rows": null,
            "grid_column": null,
            "grid_gap": null,
            "grid_row": null,
            "grid_template_areas": null,
            "grid_template_columns": null,
            "grid_template_rows": null,
            "height": null,
            "justify_content": null,
            "justify_items": null,
            "left": null,
            "margin": null,
            "max_height": null,
            "max_width": null,
            "min_height": null,
            "min_width": null,
            "object_fit": null,
            "object_position": null,
            "order": null,
            "overflow": null,
            "overflow_x": null,
            "overflow_y": null,
            "padding": null,
            "right": null,
            "top": null,
            "visibility": null,
            "width": null
          }
        },
        "23f312731835438ab37a06a0f0ec95ef": {
          "model_module": "@jupyter-widgets/base",
          "model_name": "LayoutModel",
          "model_module_version": "1.2.0",
          "state": {
            "_model_module": "@jupyter-widgets/base",
            "_model_module_version": "1.2.0",
            "_model_name": "LayoutModel",
            "_view_count": null,
            "_view_module": "@jupyter-widgets/base",
            "_view_module_version": "1.2.0",
            "_view_name": "LayoutView",
            "align_content": null,
            "align_items": null,
            "align_self": null,
            "border": null,
            "bottom": null,
            "display": null,
            "flex": null,
            "flex_flow": null,
            "grid_area": null,
            "grid_auto_columns": null,
            "grid_auto_flow": null,
            "grid_auto_rows": null,
            "grid_column": null,
            "grid_gap": null,
            "grid_row": null,
            "grid_template_areas": null,
            "grid_template_columns": null,
            "grid_template_rows": null,
            "height": null,
            "justify_content": null,
            "justify_items": null,
            "left": null,
            "margin": null,
            "max_height": null,
            "max_width": null,
            "min_height": null,
            "min_width": null,
            "object_fit": null,
            "object_position": null,
            "order": null,
            "overflow": null,
            "overflow_x": null,
            "overflow_y": null,
            "padding": null,
            "right": null,
            "top": null,
            "visibility": null,
            "width": null
          }
        },
        "51b4e77d9e0644698b3d5ebcc532957f": {
          "model_module": "@jupyter-widgets/controls",
          "model_name": "DescriptionStyleModel",
          "model_module_version": "1.5.0",
          "state": {
            "_model_module": "@jupyter-widgets/controls",
            "_model_module_version": "1.5.0",
            "_model_name": "DescriptionStyleModel",
            "_view_count": null,
            "_view_module": "@jupyter-widgets/base",
            "_view_module_version": "1.2.0",
            "_view_name": "StyleView",
            "description_width": ""
          }
        },
        "f5a3777dbc0843869d5d3b37dd986d03": {
          "model_module": "@jupyter-widgets/base",
          "model_name": "LayoutModel",
          "model_module_version": "1.2.0",
          "state": {
            "_model_module": "@jupyter-widgets/base",
            "_model_module_version": "1.2.0",
            "_model_name": "LayoutModel",
            "_view_count": null,
            "_view_module": "@jupyter-widgets/base",
            "_view_module_version": "1.2.0",
            "_view_name": "LayoutView",
            "align_content": null,
            "align_items": null,
            "align_self": null,
            "border": null,
            "bottom": null,
            "display": null,
            "flex": null,
            "flex_flow": null,
            "grid_area": null,
            "grid_auto_columns": null,
            "grid_auto_flow": null,
            "grid_auto_rows": null,
            "grid_column": null,
            "grid_gap": null,
            "grid_row": null,
            "grid_template_areas": null,
            "grid_template_columns": null,
            "grid_template_rows": null,
            "height": null,
            "justify_content": null,
            "justify_items": null,
            "left": null,
            "margin": null,
            "max_height": null,
            "max_width": null,
            "min_height": null,
            "min_width": null,
            "object_fit": null,
            "object_position": null,
            "order": null,
            "overflow": null,
            "overflow_x": null,
            "overflow_y": null,
            "padding": null,
            "right": null,
            "top": null,
            "visibility": null,
            "width": null
          }
        },
        "2cb0ad2eb3ff43cdb51565af2550c236": {
          "model_module": "@jupyter-widgets/controls",
          "model_name": "ProgressStyleModel",
          "model_module_version": "1.5.0",
          "state": {
            "_model_module": "@jupyter-widgets/controls",
            "_model_module_version": "1.5.0",
            "_model_name": "ProgressStyleModel",
            "_view_count": null,
            "_view_module": "@jupyter-widgets/base",
            "_view_module_version": "1.2.0",
            "_view_name": "StyleView",
            "bar_color": null,
            "description_width": ""
          }
        },
        "3695dc0f20bb413b90e3b1ff1f8aacb9": {
          "model_module": "@jupyter-widgets/base",
          "model_name": "LayoutModel",
          "model_module_version": "1.2.0",
          "state": {
            "_model_module": "@jupyter-widgets/base",
            "_model_module_version": "1.2.0",
            "_model_name": "LayoutModel",
            "_view_count": null,
            "_view_module": "@jupyter-widgets/base",
            "_view_module_version": "1.2.0",
            "_view_name": "LayoutView",
            "align_content": null,
            "align_items": null,
            "align_self": null,
            "border": null,
            "bottom": null,
            "display": null,
            "flex": null,
            "flex_flow": null,
            "grid_area": null,
            "grid_auto_columns": null,
            "grid_auto_flow": null,
            "grid_auto_rows": null,
            "grid_column": null,
            "grid_gap": null,
            "grid_row": null,
            "grid_template_areas": null,
            "grid_template_columns": null,
            "grid_template_rows": null,
            "height": null,
            "justify_content": null,
            "justify_items": null,
            "left": null,
            "margin": null,
            "max_height": null,
            "max_width": null,
            "min_height": null,
            "min_width": null,
            "object_fit": null,
            "object_position": null,
            "order": null,
            "overflow": null,
            "overflow_x": null,
            "overflow_y": null,
            "padding": null,
            "right": null,
            "top": null,
            "visibility": null,
            "width": null
          }
        },
        "97e7dcc7c4e14fa5b9b7570c197b5e3c": {
          "model_module": "@jupyter-widgets/controls",
          "model_name": "DescriptionStyleModel",
          "model_module_version": "1.5.0",
          "state": {
            "_model_module": "@jupyter-widgets/controls",
            "_model_module_version": "1.5.0",
            "_model_name": "DescriptionStyleModel",
            "_view_count": null,
            "_view_module": "@jupyter-widgets/base",
            "_view_module_version": "1.2.0",
            "_view_name": "StyleView",
            "description_width": ""
          }
        },
        "47ed18055f1549d7b455b8dffec6551b": {
          "model_module": "@jupyter-widgets/controls",
          "model_name": "HBoxModel",
          "model_module_version": "1.5.0",
          "state": {
            "_dom_classes": [],
            "_model_module": "@jupyter-widgets/controls",
            "_model_module_version": "1.5.0",
            "_model_name": "HBoxModel",
            "_view_count": null,
            "_view_module": "@jupyter-widgets/controls",
            "_view_module_version": "1.5.0",
            "_view_name": "HBoxView",
            "box_style": "",
            "children": [
              "IPY_MODEL_227c7b7bd43e40fcbfa0f49b1ee287f1",
              "IPY_MODEL_45a6212c22564244a0065c44a28e22aa",
              "IPY_MODEL_2f8c383178a4408089ccf327da21fbf8"
            ],
            "layout": "IPY_MODEL_01b988eecda24ef5bfd9a5290b08e9ed"
          }
        },
        "227c7b7bd43e40fcbfa0f49b1ee287f1": {
          "model_module": "@jupyter-widgets/controls",
          "model_name": "HTMLModel",
          "model_module_version": "1.5.0",
          "state": {
            "_dom_classes": [],
            "_model_module": "@jupyter-widgets/controls",
            "_model_module_version": "1.5.0",
            "_model_name": "HTMLModel",
            "_view_count": null,
            "_view_module": "@jupyter-widgets/controls",
            "_view_module_version": "1.5.0",
            "_view_name": "HTMLView",
            "description": "",
            "description_tooltip": null,
            "layout": "IPY_MODEL_1b7228c2eafc47f1bf32877e7caa677b",
            "placeholder": "​",
            "style": "IPY_MODEL_bcc0448fa36f47b385cb2e14130195c9",
            "value": "tokenizer.json: 100%"
          }
        },
        "45a6212c22564244a0065c44a28e22aa": {
          "model_module": "@jupyter-widgets/controls",
          "model_name": "FloatProgressModel",
          "model_module_version": "1.5.0",
          "state": {
            "_dom_classes": [],
            "_model_module": "@jupyter-widgets/controls",
            "_model_module_version": "1.5.0",
            "_model_name": "FloatProgressModel",
            "_view_count": null,
            "_view_module": "@jupyter-widgets/controls",
            "_view_module_version": "1.5.0",
            "_view_name": "ProgressView",
            "bar_style": "success",
            "description": "",
            "description_tooltip": null,
            "layout": "IPY_MODEL_995e5cf8506047cabcf83585d574fbbd",
            "max": 17082660,
            "min": 0,
            "orientation": "horizontal",
            "style": "IPY_MODEL_3018bbc0013c46d3ad9efce3f6e9bc73",
            "value": 17082660
          }
        },
        "2f8c383178a4408089ccf327da21fbf8": {
          "model_module": "@jupyter-widgets/controls",
          "model_name": "HTMLModel",
          "model_module_version": "1.5.0",
          "state": {
            "_dom_classes": [],
            "_model_module": "@jupyter-widgets/controls",
            "_model_module_version": "1.5.0",
            "_model_name": "HTMLModel",
            "_view_count": null,
            "_view_module": "@jupyter-widgets/controls",
            "_view_module_version": "1.5.0",
            "_view_name": "HTMLView",
            "description": "",
            "description_tooltip": null,
            "layout": "IPY_MODEL_16c3ba43d1234b69933a22c707445adf",
            "placeholder": "​",
            "style": "IPY_MODEL_264e7c4bcd22473692d2480cb54cf600",
            "value": " 17.1M/17.1M [00:00&lt;00:00, 162MB/s]"
          }
        },
        "01b988eecda24ef5bfd9a5290b08e9ed": {
          "model_module": "@jupyter-widgets/base",
          "model_name": "LayoutModel",
          "model_module_version": "1.2.0",
          "state": {
            "_model_module": "@jupyter-widgets/base",
            "_model_module_version": "1.2.0",
            "_model_name": "LayoutModel",
            "_view_count": null,
            "_view_module": "@jupyter-widgets/base",
            "_view_module_version": "1.2.0",
            "_view_name": "LayoutView",
            "align_content": null,
            "align_items": null,
            "align_self": null,
            "border": null,
            "bottom": null,
            "display": null,
            "flex": null,
            "flex_flow": null,
            "grid_area": null,
            "grid_auto_columns": null,
            "grid_auto_flow": null,
            "grid_auto_rows": null,
            "grid_column": null,
            "grid_gap": null,
            "grid_row": null,
            "grid_template_areas": null,
            "grid_template_columns": null,
            "grid_template_rows": null,
            "height": null,
            "justify_content": null,
            "justify_items": null,
            "left": null,
            "margin": null,
            "max_height": null,
            "max_width": null,
            "min_height": null,
            "min_width": null,
            "object_fit": null,
            "object_position": null,
            "order": null,
            "overflow": null,
            "overflow_x": null,
            "overflow_y": null,
            "padding": null,
            "right": null,
            "top": null,
            "visibility": null,
            "width": null
          }
        },
        "1b7228c2eafc47f1bf32877e7caa677b": {
          "model_module": "@jupyter-widgets/base",
          "model_name": "LayoutModel",
          "model_module_version": "1.2.0",
          "state": {
            "_model_module": "@jupyter-widgets/base",
            "_model_module_version": "1.2.0",
            "_model_name": "LayoutModel",
            "_view_count": null,
            "_view_module": "@jupyter-widgets/base",
            "_view_module_version": "1.2.0",
            "_view_name": "LayoutView",
            "align_content": null,
            "align_items": null,
            "align_self": null,
            "border": null,
            "bottom": null,
            "display": null,
            "flex": null,
            "flex_flow": null,
            "grid_area": null,
            "grid_auto_columns": null,
            "grid_auto_flow": null,
            "grid_auto_rows": null,
            "grid_column": null,
            "grid_gap": null,
            "grid_row": null,
            "grid_template_areas": null,
            "grid_template_columns": null,
            "grid_template_rows": null,
            "height": null,
            "justify_content": null,
            "justify_items": null,
            "left": null,
            "margin": null,
            "max_height": null,
            "max_width": null,
            "min_height": null,
            "min_width": null,
            "object_fit": null,
            "object_position": null,
            "order": null,
            "overflow": null,
            "overflow_x": null,
            "overflow_y": null,
            "padding": null,
            "right": null,
            "top": null,
            "visibility": null,
            "width": null
          }
        },
        "bcc0448fa36f47b385cb2e14130195c9": {
          "model_module": "@jupyter-widgets/controls",
          "model_name": "DescriptionStyleModel",
          "model_module_version": "1.5.0",
          "state": {
            "_model_module": "@jupyter-widgets/controls",
            "_model_module_version": "1.5.0",
            "_model_name": "DescriptionStyleModel",
            "_view_count": null,
            "_view_module": "@jupyter-widgets/base",
            "_view_module_version": "1.2.0",
            "_view_name": "StyleView",
            "description_width": ""
          }
        },
        "995e5cf8506047cabcf83585d574fbbd": {
          "model_module": "@jupyter-widgets/base",
          "model_name": "LayoutModel",
          "model_module_version": "1.2.0",
          "state": {
            "_model_module": "@jupyter-widgets/base",
            "_model_module_version": "1.2.0",
            "_model_name": "LayoutModel",
            "_view_count": null,
            "_view_module": "@jupyter-widgets/base",
            "_view_module_version": "1.2.0",
            "_view_name": "LayoutView",
            "align_content": null,
            "align_items": null,
            "align_self": null,
            "border": null,
            "bottom": null,
            "display": null,
            "flex": null,
            "flex_flow": null,
            "grid_area": null,
            "grid_auto_columns": null,
            "grid_auto_flow": null,
            "grid_auto_rows": null,
            "grid_column": null,
            "grid_gap": null,
            "grid_row": null,
            "grid_template_areas": null,
            "grid_template_columns": null,
            "grid_template_rows": null,
            "height": null,
            "justify_content": null,
            "justify_items": null,
            "left": null,
            "margin": null,
            "max_height": null,
            "max_width": null,
            "min_height": null,
            "min_width": null,
            "object_fit": null,
            "object_position": null,
            "order": null,
            "overflow": null,
            "overflow_x": null,
            "overflow_y": null,
            "padding": null,
            "right": null,
            "top": null,
            "visibility": null,
            "width": null
          }
        },
        "3018bbc0013c46d3ad9efce3f6e9bc73": {
          "model_module": "@jupyter-widgets/controls",
          "model_name": "ProgressStyleModel",
          "model_module_version": "1.5.0",
          "state": {
            "_model_module": "@jupyter-widgets/controls",
            "_model_module_version": "1.5.0",
            "_model_name": "ProgressStyleModel",
            "_view_count": null,
            "_view_module": "@jupyter-widgets/base",
            "_view_module_version": "1.2.0",
            "_view_name": "StyleView",
            "bar_color": null,
            "description_width": ""
          }
        },
        "16c3ba43d1234b69933a22c707445adf": {
          "model_module": "@jupyter-widgets/base",
          "model_name": "LayoutModel",
          "model_module_version": "1.2.0",
          "state": {
            "_model_module": "@jupyter-widgets/base",
            "_model_module_version": "1.2.0",
            "_model_name": "LayoutModel",
            "_view_count": null,
            "_view_module": "@jupyter-widgets/base",
            "_view_module_version": "1.2.0",
            "_view_name": "LayoutView",
            "align_content": null,
            "align_items": null,
            "align_self": null,
            "border": null,
            "bottom": null,
            "display": null,
            "flex": null,
            "flex_flow": null,
            "grid_area": null,
            "grid_auto_columns": null,
            "grid_auto_flow": null,
            "grid_auto_rows": null,
            "grid_column": null,
            "grid_gap": null,
            "grid_row": null,
            "grid_template_areas": null,
            "grid_template_columns": null,
            "grid_template_rows": null,
            "height": null,
            "justify_content": null,
            "justify_items": null,
            "left": null,
            "margin": null,
            "max_height": null,
            "max_width": null,
            "min_height": null,
            "min_width": null,
            "object_fit": null,
            "object_position": null,
            "order": null,
            "overflow": null,
            "overflow_x": null,
            "overflow_y": null,
            "padding": null,
            "right": null,
            "top": null,
            "visibility": null,
            "width": null
          }
        },
        "264e7c4bcd22473692d2480cb54cf600": {
          "model_module": "@jupyter-widgets/controls",
          "model_name": "DescriptionStyleModel",
          "model_module_version": "1.5.0",
          "state": {
            "_model_module": "@jupyter-widgets/controls",
            "_model_module_version": "1.5.0",
            "_model_name": "DescriptionStyleModel",
            "_view_count": null,
            "_view_module": "@jupyter-widgets/base",
            "_view_module_version": "1.2.0",
            "_view_name": "StyleView",
            "description_width": ""
          }
        },
        "62df056b7b4041f0adc3c8087b236d5b": {
          "model_module": "@jupyter-widgets/controls",
          "model_name": "HBoxModel",
          "model_module_version": "1.5.0",
          "state": {
            "_dom_classes": [],
            "_model_module": "@jupyter-widgets/controls",
            "_model_module_version": "1.5.0",
            "_model_name": "HBoxModel",
            "_view_count": null,
            "_view_module": "@jupyter-widgets/controls",
            "_view_module_version": "1.5.0",
            "_view_name": "HBoxView",
            "box_style": "",
            "children": [
              "IPY_MODEL_af4544d4615c4a71aef8144412ad5f89",
              "IPY_MODEL_5cf04be5c22c489086e0e06ba5b59658",
              "IPY_MODEL_5ebe6397b3bb49bf87cb1fc7c38e08d0"
            ],
            "layout": "IPY_MODEL_10c0510912c24755b1083f44939759d3"
          }
        },
        "af4544d4615c4a71aef8144412ad5f89": {
          "model_module": "@jupyter-widgets/controls",
          "model_name": "HTMLModel",
          "model_module_version": "1.5.0",
          "state": {
            "_dom_classes": [],
            "_model_module": "@jupyter-widgets/controls",
            "_model_module_version": "1.5.0",
            "_model_name": "HTMLModel",
            "_view_count": null,
            "_view_module": "@jupyter-widgets/controls",
            "_view_module_version": "1.5.0",
            "_view_name": "HTMLView",
            "description": "",
            "description_tooltip": null,
            "layout": "IPY_MODEL_a00f2988ca834da896845abcc9054cf4",
            "placeholder": "​",
            "style": "IPY_MODEL_57713dcac4d844869d349777cbaffa11",
            "value": "special_tokens_map.json: 100%"
          }
        },
        "5cf04be5c22c489086e0e06ba5b59658": {
          "model_module": "@jupyter-widgets/controls",
          "model_name": "FloatProgressModel",
          "model_module_version": "1.5.0",
          "state": {
            "_dom_classes": [],
            "_model_module": "@jupyter-widgets/controls",
            "_model_module_version": "1.5.0",
            "_model_name": "FloatProgressModel",
            "_view_count": null,
            "_view_module": "@jupyter-widgets/controls",
            "_view_module_version": "1.5.0",
            "_view_name": "ProgressView",
            "bar_style": "success",
            "description": "",
            "description_tooltip": null,
            "layout": "IPY_MODEL_65b54d654eba4f1daa312a1c222b97ea",
            "max": 280,
            "min": 0,
            "orientation": "horizontal",
            "style": "IPY_MODEL_7505fdc34d174c3bac2d7ac466b5d89d",
            "value": 280
          }
        },
        "5ebe6397b3bb49bf87cb1fc7c38e08d0": {
          "model_module": "@jupyter-widgets/controls",
          "model_name": "HTMLModel",
          "model_module_version": "1.5.0",
          "state": {
            "_dom_classes": [],
            "_model_module": "@jupyter-widgets/controls",
            "_model_module_version": "1.5.0",
            "_model_name": "HTMLModel",
            "_view_count": null,
            "_view_module": "@jupyter-widgets/controls",
            "_view_module_version": "1.5.0",
            "_view_name": "HTMLView",
            "description": "",
            "description_tooltip": null,
            "layout": "IPY_MODEL_11046dcf96f8416586303765d5d8c9c8",
            "placeholder": "​",
            "style": "IPY_MODEL_3351d5309e754e77aa73af7f88d56ac5",
            "value": " 280/280 [00:00&lt;00:00, 17.8kB/s]"
          }
        },
        "10c0510912c24755b1083f44939759d3": {
          "model_module": "@jupyter-widgets/base",
          "model_name": "LayoutModel",
          "model_module_version": "1.2.0",
          "state": {
            "_model_module": "@jupyter-widgets/base",
            "_model_module_version": "1.2.0",
            "_model_name": "LayoutModel",
            "_view_count": null,
            "_view_module": "@jupyter-widgets/base",
            "_view_module_version": "1.2.0",
            "_view_name": "LayoutView",
            "align_content": null,
            "align_items": null,
            "align_self": null,
            "border": null,
            "bottom": null,
            "display": null,
            "flex": null,
            "flex_flow": null,
            "grid_area": null,
            "grid_auto_columns": null,
            "grid_auto_flow": null,
            "grid_auto_rows": null,
            "grid_column": null,
            "grid_gap": null,
            "grid_row": null,
            "grid_template_areas": null,
            "grid_template_columns": null,
            "grid_template_rows": null,
            "height": null,
            "justify_content": null,
            "justify_items": null,
            "left": null,
            "margin": null,
            "max_height": null,
            "max_width": null,
            "min_height": null,
            "min_width": null,
            "object_fit": null,
            "object_position": null,
            "order": null,
            "overflow": null,
            "overflow_x": null,
            "overflow_y": null,
            "padding": null,
            "right": null,
            "top": null,
            "visibility": null,
            "width": null
          }
        },
        "a00f2988ca834da896845abcc9054cf4": {
          "model_module": "@jupyter-widgets/base",
          "model_name": "LayoutModel",
          "model_module_version": "1.2.0",
          "state": {
            "_model_module": "@jupyter-widgets/base",
            "_model_module_version": "1.2.0",
            "_model_name": "LayoutModel",
            "_view_count": null,
            "_view_module": "@jupyter-widgets/base",
            "_view_module_version": "1.2.0",
            "_view_name": "LayoutView",
            "align_content": null,
            "align_items": null,
            "align_self": null,
            "border": null,
            "bottom": null,
            "display": null,
            "flex": null,
            "flex_flow": null,
            "grid_area": null,
            "grid_auto_columns": null,
            "grid_auto_flow": null,
            "grid_auto_rows": null,
            "grid_column": null,
            "grid_gap": null,
            "grid_row": null,
            "grid_template_areas": null,
            "grid_template_columns": null,
            "grid_template_rows": null,
            "height": null,
            "justify_content": null,
            "justify_items": null,
            "left": null,
            "margin": null,
            "max_height": null,
            "max_width": null,
            "min_height": null,
            "min_width": null,
            "object_fit": null,
            "object_position": null,
            "order": null,
            "overflow": null,
            "overflow_x": null,
            "overflow_y": null,
            "padding": null,
            "right": null,
            "top": null,
            "visibility": null,
            "width": null
          }
        },
        "57713dcac4d844869d349777cbaffa11": {
          "model_module": "@jupyter-widgets/controls",
          "model_name": "DescriptionStyleModel",
          "model_module_version": "1.5.0",
          "state": {
            "_model_module": "@jupyter-widgets/controls",
            "_model_module_version": "1.5.0",
            "_model_name": "DescriptionStyleModel",
            "_view_count": null,
            "_view_module": "@jupyter-widgets/base",
            "_view_module_version": "1.2.0",
            "_view_name": "StyleView",
            "description_width": ""
          }
        },
        "65b54d654eba4f1daa312a1c222b97ea": {
          "model_module": "@jupyter-widgets/base",
          "model_name": "LayoutModel",
          "model_module_version": "1.2.0",
          "state": {
            "_model_module": "@jupyter-widgets/base",
            "_model_module_version": "1.2.0",
            "_model_name": "LayoutModel",
            "_view_count": null,
            "_view_module": "@jupyter-widgets/base",
            "_view_module_version": "1.2.0",
            "_view_name": "LayoutView",
            "align_content": null,
            "align_items": null,
            "align_self": null,
            "border": null,
            "bottom": null,
            "display": null,
            "flex": null,
            "flex_flow": null,
            "grid_area": null,
            "grid_auto_columns": null,
            "grid_auto_flow": null,
            "grid_auto_rows": null,
            "grid_column": null,
            "grid_gap": null,
            "grid_row": null,
            "grid_template_areas": null,
            "grid_template_columns": null,
            "grid_template_rows": null,
            "height": null,
            "justify_content": null,
            "justify_items": null,
            "left": null,
            "margin": null,
            "max_height": null,
            "max_width": null,
            "min_height": null,
            "min_width": null,
            "object_fit": null,
            "object_position": null,
            "order": null,
            "overflow": null,
            "overflow_x": null,
            "overflow_y": null,
            "padding": null,
            "right": null,
            "top": null,
            "visibility": null,
            "width": null
          }
        },
        "7505fdc34d174c3bac2d7ac466b5d89d": {
          "model_module": "@jupyter-widgets/controls",
          "model_name": "ProgressStyleModel",
          "model_module_version": "1.5.0",
          "state": {
            "_model_module": "@jupyter-widgets/controls",
            "_model_module_version": "1.5.0",
            "_model_name": "ProgressStyleModel",
            "_view_count": null,
            "_view_module": "@jupyter-widgets/base",
            "_view_module_version": "1.2.0",
            "_view_name": "StyleView",
            "bar_color": null,
            "description_width": ""
          }
        },
        "11046dcf96f8416586303765d5d8c9c8": {
          "model_module": "@jupyter-widgets/base",
          "model_name": "LayoutModel",
          "model_module_version": "1.2.0",
          "state": {
            "_model_module": "@jupyter-widgets/base",
            "_model_module_version": "1.2.0",
            "_model_name": "LayoutModel",
            "_view_count": null,
            "_view_module": "@jupyter-widgets/base",
            "_view_module_version": "1.2.0",
            "_view_name": "LayoutView",
            "align_content": null,
            "align_items": null,
            "align_self": null,
            "border": null,
            "bottom": null,
            "display": null,
            "flex": null,
            "flex_flow": null,
            "grid_area": null,
            "grid_auto_columns": null,
            "grid_auto_flow": null,
            "grid_auto_rows": null,
            "grid_column": null,
            "grid_gap": null,
            "grid_row": null,
            "grid_template_areas": null,
            "grid_template_columns": null,
            "grid_template_rows": null,
            "height": null,
            "justify_content": null,
            "justify_items": null,
            "left": null,
            "margin": null,
            "max_height": null,
            "max_width": null,
            "min_height": null,
            "min_width": null,
            "object_fit": null,
            "object_position": null,
            "order": null,
            "overflow": null,
            "overflow_x": null,
            "overflow_y": null,
            "padding": null,
            "right": null,
            "top": null,
            "visibility": null,
            "width": null
          }
        },
        "3351d5309e754e77aa73af7f88d56ac5": {
          "model_module": "@jupyter-widgets/controls",
          "model_name": "DescriptionStyleModel",
          "model_module_version": "1.5.0",
          "state": {
            "_model_module": "@jupyter-widgets/controls",
            "_model_module_version": "1.5.0",
            "_model_name": "DescriptionStyleModel",
            "_view_count": null,
            "_view_module": "@jupyter-widgets/base",
            "_view_module_version": "1.2.0",
            "_view_name": "StyleView",
            "description_width": ""
          }
        },
        "c9c39cd73fbb43f6b46543608ff7798d": {
          "model_module": "@jupyter-widgets/controls",
          "model_name": "HBoxModel",
          "model_module_version": "1.5.0",
          "state": {
            "_dom_classes": [],
            "_model_module": "@jupyter-widgets/controls",
            "_model_module_version": "1.5.0",
            "_model_name": "HBoxModel",
            "_view_count": null,
            "_view_module": "@jupyter-widgets/controls",
            "_view_module_version": "1.5.0",
            "_view_name": "HBoxView",
            "box_style": "",
            "children": [
              "IPY_MODEL_01f412dd5afa45dfa33871c345e3667a",
              "IPY_MODEL_6397b52e0fe346eb97eea3bbcff3d6ae",
              "IPY_MODEL_cc2a6552bcd24515ac773d231ac8cf3d"
            ],
            "layout": "IPY_MODEL_c4bf6d8cd94840dc9b3e3b4afbbcac34"
          }
        },
        "01f412dd5afa45dfa33871c345e3667a": {
          "model_module": "@jupyter-widgets/controls",
          "model_name": "HTMLModel",
          "model_module_version": "1.5.0",
          "state": {
            "_dom_classes": [],
            "_model_module": "@jupyter-widgets/controls",
            "_model_module_version": "1.5.0",
            "_model_name": "HTMLModel",
            "_view_count": null,
            "_view_module": "@jupyter-widgets/controls",
            "_view_module_version": "1.5.0",
            "_view_name": "HTMLView",
            "description": "",
            "description_tooltip": null,
            "layout": "IPY_MODEL_8deb5b295ee846108fb9efd01947cb26",
            "placeholder": "​",
            "style": "IPY_MODEL_8d1ffff22b8d4e8687de2ae2a7aa1e7b",
            "value": "1_Pooling/config.json: 100%"
          }
        },
        "6397b52e0fe346eb97eea3bbcff3d6ae": {
          "model_module": "@jupyter-widgets/controls",
          "model_name": "FloatProgressModel",
          "model_module_version": "1.5.0",
          "state": {
            "_dom_classes": [],
            "_model_module": "@jupyter-widgets/controls",
            "_model_module_version": "1.5.0",
            "_model_name": "FloatProgressModel",
            "_view_count": null,
            "_view_module": "@jupyter-widgets/controls",
            "_view_module_version": "1.5.0",
            "_view_name": "ProgressView",
            "bar_style": "success",
            "description": "",
            "description_tooltip": null,
            "layout": "IPY_MODEL_d41cf0b04bc74c8face24570983b176e",
            "max": 201,
            "min": 0,
            "orientation": "horizontal",
            "style": "IPY_MODEL_03860648db8b4bb5914b8864c824708d",
            "value": 201
          }
        },
        "cc2a6552bcd24515ac773d231ac8cf3d": {
          "model_module": "@jupyter-widgets/controls",
          "model_name": "HTMLModel",
          "model_module_version": "1.5.0",
          "state": {
            "_dom_classes": [],
            "_model_module": "@jupyter-widgets/controls",
            "_model_module_version": "1.5.0",
            "_model_name": "HTMLModel",
            "_view_count": null,
            "_view_module": "@jupyter-widgets/controls",
            "_view_module_version": "1.5.0",
            "_view_name": "HTMLView",
            "description": "",
            "description_tooltip": null,
            "layout": "IPY_MODEL_fa533d6e08764d80ba5fbdc94affaa8d",
            "placeholder": "​",
            "style": "IPY_MODEL_924b0371bdeb4d839e08f76b748d8377",
            "value": " 201/201 [00:00&lt;00:00, 8.30kB/s]"
          }
        },
        "c4bf6d8cd94840dc9b3e3b4afbbcac34": {
          "model_module": "@jupyter-widgets/base",
          "model_name": "LayoutModel",
          "model_module_version": "1.2.0",
          "state": {
            "_model_module": "@jupyter-widgets/base",
            "_model_module_version": "1.2.0",
            "_model_name": "LayoutModel",
            "_view_count": null,
            "_view_module": "@jupyter-widgets/base",
            "_view_module_version": "1.2.0",
            "_view_name": "LayoutView",
            "align_content": null,
            "align_items": null,
            "align_self": null,
            "border": null,
            "bottom": null,
            "display": null,
            "flex": null,
            "flex_flow": null,
            "grid_area": null,
            "grid_auto_columns": null,
            "grid_auto_flow": null,
            "grid_auto_rows": null,
            "grid_column": null,
            "grid_gap": null,
            "grid_row": null,
            "grid_template_areas": null,
            "grid_template_columns": null,
            "grid_template_rows": null,
            "height": null,
            "justify_content": null,
            "justify_items": null,
            "left": null,
            "margin": null,
            "max_height": null,
            "max_width": null,
            "min_height": null,
            "min_width": null,
            "object_fit": null,
            "object_position": null,
            "order": null,
            "overflow": null,
            "overflow_x": null,
            "overflow_y": null,
            "padding": null,
            "right": null,
            "top": null,
            "visibility": null,
            "width": null
          }
        },
        "8deb5b295ee846108fb9efd01947cb26": {
          "model_module": "@jupyter-widgets/base",
          "model_name": "LayoutModel",
          "model_module_version": "1.2.0",
          "state": {
            "_model_module": "@jupyter-widgets/base",
            "_model_module_version": "1.2.0",
            "_model_name": "LayoutModel",
            "_view_count": null,
            "_view_module": "@jupyter-widgets/base",
            "_view_module_version": "1.2.0",
            "_view_name": "LayoutView",
            "align_content": null,
            "align_items": null,
            "align_self": null,
            "border": null,
            "bottom": null,
            "display": null,
            "flex": null,
            "flex_flow": null,
            "grid_area": null,
            "grid_auto_columns": null,
            "grid_auto_flow": null,
            "grid_auto_rows": null,
            "grid_column": null,
            "grid_gap": null,
            "grid_row": null,
            "grid_template_areas": null,
            "grid_template_columns": null,
            "grid_template_rows": null,
            "height": null,
            "justify_content": null,
            "justify_items": null,
            "left": null,
            "margin": null,
            "max_height": null,
            "max_width": null,
            "min_height": null,
            "min_width": null,
            "object_fit": null,
            "object_position": null,
            "order": null,
            "overflow": null,
            "overflow_x": null,
            "overflow_y": null,
            "padding": null,
            "right": null,
            "top": null,
            "visibility": null,
            "width": null
          }
        },
        "8d1ffff22b8d4e8687de2ae2a7aa1e7b": {
          "model_module": "@jupyter-widgets/controls",
          "model_name": "DescriptionStyleModel",
          "model_module_version": "1.5.0",
          "state": {
            "_model_module": "@jupyter-widgets/controls",
            "_model_module_version": "1.5.0",
            "_model_name": "DescriptionStyleModel",
            "_view_count": null,
            "_view_module": "@jupyter-widgets/base",
            "_view_module_version": "1.2.0",
            "_view_name": "StyleView",
            "description_width": ""
          }
        },
        "d41cf0b04bc74c8face24570983b176e": {
          "model_module": "@jupyter-widgets/base",
          "model_name": "LayoutModel",
          "model_module_version": "1.2.0",
          "state": {
            "_model_module": "@jupyter-widgets/base",
            "_model_module_version": "1.2.0",
            "_model_name": "LayoutModel",
            "_view_count": null,
            "_view_module": "@jupyter-widgets/base",
            "_view_module_version": "1.2.0",
            "_view_name": "LayoutView",
            "align_content": null,
            "align_items": null,
            "align_self": null,
            "border": null,
            "bottom": null,
            "display": null,
            "flex": null,
            "flex_flow": null,
            "grid_area": null,
            "grid_auto_columns": null,
            "grid_auto_flow": null,
            "grid_auto_rows": null,
            "grid_column": null,
            "grid_gap": null,
            "grid_row": null,
            "grid_template_areas": null,
            "grid_template_columns": null,
            "grid_template_rows": null,
            "height": null,
            "justify_content": null,
            "justify_items": null,
            "left": null,
            "margin": null,
            "max_height": null,
            "max_width": null,
            "min_height": null,
            "min_width": null,
            "object_fit": null,
            "object_position": null,
            "order": null,
            "overflow": null,
            "overflow_x": null,
            "overflow_y": null,
            "padding": null,
            "right": null,
            "top": null,
            "visibility": null,
            "width": null
          }
        },
        "03860648db8b4bb5914b8864c824708d": {
          "model_module": "@jupyter-widgets/controls",
          "model_name": "ProgressStyleModel",
          "model_module_version": "1.5.0",
          "state": {
            "_model_module": "@jupyter-widgets/controls",
            "_model_module_version": "1.5.0",
            "_model_name": "ProgressStyleModel",
            "_view_count": null,
            "_view_module": "@jupyter-widgets/base",
            "_view_module_version": "1.2.0",
            "_view_name": "StyleView",
            "bar_color": null,
            "description_width": ""
          }
        },
        "fa533d6e08764d80ba5fbdc94affaa8d": {
          "model_module": "@jupyter-widgets/base",
          "model_name": "LayoutModel",
          "model_module_version": "1.2.0",
          "state": {
            "_model_module": "@jupyter-widgets/base",
            "_model_module_version": "1.2.0",
            "_model_name": "LayoutModel",
            "_view_count": null,
            "_view_module": "@jupyter-widgets/base",
            "_view_module_version": "1.2.0",
            "_view_name": "LayoutView",
            "align_content": null,
            "align_items": null,
            "align_self": null,
            "border": null,
            "bottom": null,
            "display": null,
            "flex": null,
            "flex_flow": null,
            "grid_area": null,
            "grid_auto_columns": null,
            "grid_auto_flow": null,
            "grid_auto_rows": null,
            "grid_column": null,
            "grid_gap": null,
            "grid_row": null,
            "grid_template_areas": null,
            "grid_template_columns": null,
            "grid_template_rows": null,
            "height": null,
            "justify_content": null,
            "justify_items": null,
            "left": null,
            "margin": null,
            "max_height": null,
            "max_width": null,
            "min_height": null,
            "min_width": null,
            "object_fit": null,
            "object_position": null,
            "order": null,
            "overflow": null,
            "overflow_x": null,
            "overflow_y": null,
            "padding": null,
            "right": null,
            "top": null,
            "visibility": null,
            "width": null
          }
        },
        "924b0371bdeb4d839e08f76b748d8377": {
          "model_module": "@jupyter-widgets/controls",
          "model_name": "DescriptionStyleModel",
          "model_module_version": "1.5.0",
          "state": {
            "_model_module": "@jupyter-widgets/controls",
            "_model_module_version": "1.5.0",
            "_model_name": "DescriptionStyleModel",
            "_view_count": null,
            "_view_module": "@jupyter-widgets/base",
            "_view_module_version": "1.2.0",
            "_view_name": "StyleView",
            "description_width": ""
          }
        }
      }
    }
  },
  "cells": [
    {
      "cell_type": "markdown",
      "metadata": {
        "id": "view-in-github",
        "colab_type": "text"
      },
      "source": [
        "<a href=\"https://colab.research.google.com/github/NadAAaHH/Arabic-Error-Checker/blob/main/Allam_rag.ipynb\" target=\"_parent\"><img src=\"https://colab.research.google.com/assets/colab-badge.svg\" alt=\"Open In Colab\"/></a>"
      ]
    },
    {
      "cell_type": "code",
      "source": [
        "pip install -r requirements.txt"
      ],
      "metadata": {
        "id": "MVnR8utqvu8U",
        "colab": {
          "base_uri": "https://localhost:8080/",
          "height": 1000
        },
        "outputId": "b6541d0b-b474-453e-9bd6-eca958f70fcd"
      },
      "execution_count": 1,
      "outputs": [
        {
          "output_type": "stream",
          "name": "stdout",
          "text": [
            "Requirement already satisfied: langchain in /usr/local/lib/python3.10/dist-packages (from -r requirements.txt (line 1)) (0.3.4)\n",
            "Collecting langchain-community (from -r requirements.txt (line 2))\n",
            "  Downloading langchain_community-0.3.5-py3-none-any.whl.metadata (2.9 kB)\n",
            "Requirement already satisfied: sentence-transformers in /usr/local/lib/python3.10/dist-packages (from -r requirements.txt (line 3)) (3.2.1)\n",
            "Collecting faiss-gpu (from -r requirements.txt (line 4))\n",
            "  Downloading faiss_gpu-1.7.2-cp310-cp310-manylinux_2_17_x86_64.manylinux2014_x86_64.whl.metadata (1.4 kB)\n",
            "Collecting ibm-watsonx-ai (from -r requirements.txt (line 5))\n",
            "  Downloading ibm_watsonx_ai-1.1.20-py3-none-any.whl.metadata (6.6 kB)\n",
            "Collecting langchain_ibm (from -r requirements.txt (line 6))\n",
            "  Downloading langchain_ibm-0.3.2-py3-none-any.whl.metadata (5.2 kB)\n",
            "Collecting pydantic==1.10.2 (from -r requirements.txt (line 7))\n",
            "  Downloading pydantic-1.10.2-cp310-cp310-manylinux_2_17_x86_64.manylinux2014_x86_64.whl.metadata (140 kB)\n",
            "\u001b[2K     \u001b[90m━━━━━━━━━━━━━━━━━━━━━━━━━━━━━━━━━━━━━━━━\u001b[0m \u001b[32m140.0/140.0 kB\u001b[0m \u001b[31m3.6 MB/s\u001b[0m eta \u001b[36m0:00:00\u001b[0m\n",
            "\u001b[?25hCollecting ibm-watson-machine-learning (from -r requirements.txt (line 8))\n",
            "  Downloading ibm_watson_machine_learning-1.0.366-py3-none-any.whl.metadata (4.0 kB)\n",
            "Collecting rouge-score (from -r requirements.txt (line 9))\n",
            "  Downloading rouge_score-0.1.2.tar.gz (17 kB)\n",
            "  Preparing metadata (setup.py) ... \u001b[?25l\u001b[?25hdone\n",
            "Requirement already satisfied: typing-extensions>=4.1.0 in /usr/local/lib/python3.10/dist-packages (from pydantic==1.10.2->-r requirements.txt (line 7)) (4.12.2)\n",
            "Requirement already satisfied: PyYAML>=5.3 in /usr/local/lib/python3.10/dist-packages (from langchain->-r requirements.txt (line 1)) (6.0.2)\n",
            "Requirement already satisfied: SQLAlchemy<3,>=1.4 in /usr/local/lib/python3.10/dist-packages (from langchain->-r requirements.txt (line 1)) (2.0.36)\n",
            "Requirement already satisfied: aiohttp<4.0.0,>=3.8.3 in /usr/local/lib/python3.10/dist-packages (from langchain->-r requirements.txt (line 1)) (3.10.10)\n",
            "Requirement already satisfied: async-timeout<5.0.0,>=4.0.0 in /usr/local/lib/python3.10/dist-packages (from langchain->-r requirements.txt (line 1)) (4.0.3)\n",
            "Requirement already satisfied: langchain-core<0.4.0,>=0.3.12 in /usr/local/lib/python3.10/dist-packages (from langchain->-r requirements.txt (line 1)) (0.3.13)\n",
            "Requirement already satisfied: langchain-text-splitters<0.4.0,>=0.3.0 in /usr/local/lib/python3.10/dist-packages (from langchain->-r requirements.txt (line 1)) (0.3.0)\n",
            "Requirement already satisfied: langsmith<0.2.0,>=0.1.17 in /usr/local/lib/python3.10/dist-packages (from langchain->-r requirements.txt (line 1)) (0.1.137)\n",
            "Requirement already satisfied: numpy<2,>=1 in /usr/local/lib/python3.10/dist-packages (from langchain->-r requirements.txt (line 1)) (1.26.4)\n",
            "INFO: pip is looking at multiple versions of langchain to determine which version is compatible with other requirements. This could take a while.\n",
            "Collecting langchain (from -r requirements.txt (line 1))\n",
            "  Downloading langchain-0.3.7-py3-none-any.whl.metadata (7.1 kB)\n",
            "Collecting langchain-core<0.4.0,>=0.3.15 (from langchain->-r requirements.txt (line 1))\n",
            "  Downloading langchain_core-0.3.15-py3-none-any.whl.metadata (6.3 kB)\n",
            "Collecting langchain (from -r requirements.txt (line 1))\n",
            "  Downloading langchain-0.3.6-py3-none-any.whl.metadata (7.1 kB)\n",
            "  Downloading langchain-0.3.5-py3-none-any.whl.metadata (7.1 kB)\n",
            "  Downloading langchain-0.3.3-py3-none-any.whl.metadata (7.1 kB)\n",
            "  Downloading langchain-0.3.2-py3-none-any.whl.metadata (7.1 kB)\n",
            "  Downloading langchain-0.3.1-py3-none-any.whl.metadata (7.1 kB)\n",
            "  Downloading langchain-0.3.0-py3-none-any.whl.metadata (7.1 kB)\n",
            "INFO: pip is still looking at multiple versions of langchain to determine which version is compatible with other requirements. This could take a while.\n",
            "  Downloading langchain-0.2.16-py3-none-any.whl.metadata (7.1 kB)\n",
            "Collecting langchain-core<0.3.0,>=0.2.38 (from langchain->-r requirements.txt (line 1))\n",
            "  Downloading langchain_core-0.2.43-py3-none-any.whl.metadata (6.2 kB)\n",
            "Collecting langchain-text-splitters<0.3.0,>=0.2.0 (from langchain->-r requirements.txt (line 1))\n",
            "  Downloading langchain_text_splitters-0.2.4-py3-none-any.whl.metadata (2.3 kB)\n",
            "Requirement already satisfied: requests<3,>=2 in /usr/local/lib/python3.10/dist-packages (from langchain->-r requirements.txt (line 1)) (2.32.3)\n",
            "Collecting tenacity!=8.4.0,<9.0.0,>=8.1.0 (from langchain->-r requirements.txt (line 1))\n",
            "  Downloading tenacity-8.5.0-py3-none-any.whl.metadata (1.2 kB)\n",
            "Collecting SQLAlchemy<3,>=1.4 (from langchain->-r requirements.txt (line 1))\n",
            "  Downloading SQLAlchemy-2.0.35-cp310-cp310-manylinux_2_17_x86_64.manylinux2014_x86_64.whl.metadata (9.6 kB)\n",
            "Collecting dataclasses-json<0.7,>=0.5.7 (from langchain-community->-r requirements.txt (line 2))\n",
            "  Downloading dataclasses_json-0.6.7-py3-none-any.whl.metadata (25 kB)\n",
            "Collecting httpx-sse<0.5.0,>=0.4.0 (from langchain-community->-r requirements.txt (line 2))\n",
            "  Downloading httpx_sse-0.4.0-py3-none-any.whl.metadata (9.0 kB)\n",
            "INFO: pip is looking at multiple versions of langchain-community to determine which version is compatible with other requirements. This could take a while.\n",
            "Collecting langchain-community (from -r requirements.txt (line 2))\n",
            "  Downloading langchain_community-0.3.4-py3-none-any.whl.metadata (2.9 kB)\n",
            "  Downloading langchain_community-0.3.3-py3-none-any.whl.metadata (2.8 kB)\n",
            "  Downloading langchain_community-0.3.2-py3-none-any.whl.metadata (2.8 kB)\n",
            "  Downloading langchain_community-0.3.1-py3-none-any.whl.metadata (2.8 kB)\n",
            "  Downloading langchain_community-0.3.0-py3-none-any.whl.metadata (2.8 kB)\n",
            "  Downloading langchain_community-0.2.17-py3-none-any.whl.metadata (2.7 kB)\n",
            "Requirement already satisfied: transformers<5.0.0,>=4.41.0 in /usr/local/lib/python3.10/dist-packages (from sentence-transformers->-r requirements.txt (line 3)) (4.44.2)\n",
            "Requirement already satisfied: tqdm in /usr/local/lib/python3.10/dist-packages (from sentence-transformers->-r requirements.txt (line 3)) (4.66.6)\n",
            "Requirement already satisfied: torch>=1.11.0 in /usr/local/lib/python3.10/dist-packages (from sentence-transformers->-r requirements.txt (line 3)) (2.5.0+cu121)\n",
            "Requirement already satisfied: scikit-learn in /usr/local/lib/python3.10/dist-packages (from sentence-transformers->-r requirements.txt (line 3)) (1.5.2)\n",
            "Requirement already satisfied: scipy in /usr/local/lib/python3.10/dist-packages (from sentence-transformers->-r requirements.txt (line 3)) (1.13.1)\n",
            "Requirement already satisfied: huggingface-hub>=0.20.0 in /usr/local/lib/python3.10/dist-packages (from sentence-transformers->-r requirements.txt (line 3)) (0.24.7)\n",
            "Requirement already satisfied: Pillow in /usr/local/lib/python3.10/dist-packages (from sentence-transformers->-r requirements.txt (line 3)) (10.4.0)\n",
            "Requirement already satisfied: httpx in /usr/local/lib/python3.10/dist-packages (from ibm-watsonx-ai->-r requirements.txt (line 5)) (0.27.2)\n",
            "Requirement already satisfied: urllib3 in /usr/local/lib/python3.10/dist-packages (from ibm-watsonx-ai->-r requirements.txt (line 5)) (2.2.3)\n",
            "Collecting pandas<2.2.0,>=0.24.2 (from ibm-watsonx-ai->-r requirements.txt (line 5))\n",
            "  Downloading pandas-2.1.4-cp310-cp310-manylinux_2_17_x86_64.manylinux2014_x86_64.whl.metadata (18 kB)\n",
            "Requirement already satisfied: certifi in /usr/local/lib/python3.10/dist-packages (from ibm-watsonx-ai->-r requirements.txt (line 5)) (2024.8.30)\n",
            "Collecting lomond (from ibm-watsonx-ai->-r requirements.txt (line 5))\n",
            "  Downloading lomond-0.3.3-py2.py3-none-any.whl.metadata (4.1 kB)\n",
            "Requirement already satisfied: tabulate in /usr/local/lib/python3.10/dist-packages (from ibm-watsonx-ai->-r requirements.txt (line 5)) (0.9.0)\n",
            "Requirement already satisfied: packaging in /usr/local/lib/python3.10/dist-packages (from ibm-watsonx-ai->-r requirements.txt (line 5)) (24.1)\n",
            "Collecting ibm-cos-sdk<2.14.0,>=2.12.0 (from ibm-watsonx-ai->-r requirements.txt (line 5))\n",
            "  Downloading ibm-cos-sdk-2.13.6.tar.gz (58 kB)\n",
            "\u001b[2K     \u001b[90m━━━━━━━━━━━━━━━━━━━━━━━━━━━━━━━━━━━━━━━━\u001b[0m \u001b[32m58.6/58.6 kB\u001b[0m \u001b[31m4.2 MB/s\u001b[0m eta \u001b[36m0:00:00\u001b[0m\n",
            "\u001b[?25h  Preparing metadata (setup.py) ... \u001b[?25l\u001b[?25hdone\n",
            "Requirement already satisfied: importlib-metadata in /usr/local/lib/python3.10/dist-packages (from ibm-watsonx-ai->-r requirements.txt (line 5)) (8.5.0)\n",
            "INFO: pip is looking at multiple versions of langchain-ibm to determine which version is compatible with other requirements. This could take a while.\n",
            "Collecting langchain_ibm (from -r requirements.txt (line 6))\n",
            "  Downloading langchain_ibm-0.3.1-py3-none-any.whl.metadata (5.2 kB)\n",
            "  Downloading langchain_ibm-0.3.0-py3-none-any.whl.metadata (5.2 kB)\n",
            "  Downloading langchain_ibm-0.2.2-py3-none-any.whl.metadata (5.2 kB)\n",
            "  Downloading langchain_ibm-0.2.1-py3-none-any.whl.metadata (5.2 kB)\n",
            "  Downloading langchain_ibm-0.2.0-py3-none-any.whl.metadata (5.2 kB)\n",
            "  Downloading langchain_ibm-0.1.12-py3-none-any.whl.metadata (5.2 kB)\n",
            "Requirement already satisfied: absl-py in /usr/local/lib/python3.10/dist-packages (from rouge-score->-r requirements.txt (line 9)) (1.4.0)\n",
            "Requirement already satisfied: nltk in /usr/local/lib/python3.10/dist-packages (from rouge-score->-r requirements.txt (line 9)) (3.8.1)\n",
            "Requirement already satisfied: six>=1.14.0 in /usr/local/lib/python3.10/dist-packages (from rouge-score->-r requirements.txt (line 9)) (1.16.0)\n",
            "Requirement already satisfied: aiohappyeyeballs>=2.3.0 in /usr/local/lib/python3.10/dist-packages (from aiohttp<4.0.0,>=3.8.3->langchain->-r requirements.txt (line 1)) (2.4.3)\n",
            "Requirement already satisfied: aiosignal>=1.1.2 in /usr/local/lib/python3.10/dist-packages (from aiohttp<4.0.0,>=3.8.3->langchain->-r requirements.txt (line 1)) (1.3.1)\n",
            "Requirement already satisfied: attrs>=17.3.0 in /usr/local/lib/python3.10/dist-packages (from aiohttp<4.0.0,>=3.8.3->langchain->-r requirements.txt (line 1)) (24.2.0)\n",
            "Requirement already satisfied: frozenlist>=1.1.1 in /usr/local/lib/python3.10/dist-packages (from aiohttp<4.0.0,>=3.8.3->langchain->-r requirements.txt (line 1)) (1.5.0)\n",
            "Requirement already satisfied: multidict<7.0,>=4.5 in /usr/local/lib/python3.10/dist-packages (from aiohttp<4.0.0,>=3.8.3->langchain->-r requirements.txt (line 1)) (6.1.0)\n",
            "Requirement already satisfied: yarl<2.0,>=1.12.0 in /usr/local/lib/python3.10/dist-packages (from aiohttp<4.0.0,>=3.8.3->langchain->-r requirements.txt (line 1)) (1.17.0)\n",
            "Collecting marshmallow<4.0.0,>=3.18.0 (from dataclasses-json<0.7,>=0.5.7->langchain-community->-r requirements.txt (line 2))\n",
            "  Downloading marshmallow-3.23.1-py3-none-any.whl.metadata (7.5 kB)\n",
            "Collecting typing-inspect<1,>=0.4.0 (from dataclasses-json<0.7,>=0.5.7->langchain-community->-r requirements.txt (line 2))\n",
            "  Downloading typing_inspect-0.9.0-py3-none-any.whl.metadata (1.5 kB)\n",
            "Requirement already satisfied: filelock in /usr/local/lib/python3.10/dist-packages (from huggingface-hub>=0.20.0->sentence-transformers->-r requirements.txt (line 3)) (3.16.1)\n",
            "Requirement already satisfied: fsspec>=2023.5.0 in /usr/local/lib/python3.10/dist-packages (from huggingface-hub>=0.20.0->sentence-transformers->-r requirements.txt (line 3)) (2024.10.0)\n",
            "Collecting ibm-cos-sdk-core==2.13.6 (from ibm-cos-sdk<2.14.0,>=2.12.0->ibm-watsonx-ai->-r requirements.txt (line 5))\n",
            "  Downloading ibm-cos-sdk-core-2.13.6.tar.gz (1.1 MB)\n",
            "\u001b[2K     \u001b[90m━━━━━━━━━━━━━━━━━━━━━━━━━━━━━━━━━━━━━━━━\u001b[0m \u001b[32m1.1/1.1 MB\u001b[0m \u001b[31m22.9 MB/s\u001b[0m eta \u001b[36m0:00:00\u001b[0m\n",
            "\u001b[?25h  Preparing metadata (setup.py) ... \u001b[?25l\u001b[?25hdone\n",
            "Collecting ibm-cos-sdk-s3transfer==2.13.6 (from ibm-cos-sdk<2.14.0,>=2.12.0->ibm-watsonx-ai->-r requirements.txt (line 5))\n",
            "  Downloading ibm-cos-sdk-s3transfer-2.13.6.tar.gz (139 kB)\n",
            "\u001b[2K     \u001b[90m━━━━━━━━━━━━━━━━━━━━━━━━━━━━━━━━━━━━━━━━\u001b[0m \u001b[32m139.5/139.5 kB\u001b[0m \u001b[31m10.1 MB/s\u001b[0m eta \u001b[36m0:00:00\u001b[0m\n",
            "\u001b[?25h  Preparing metadata (setup.py) ... \u001b[?25l\u001b[?25hdone\n",
            "Collecting jmespath<=1.0.1,>=0.10.0 (from ibm-cos-sdk<2.14.0,>=2.12.0->ibm-watsonx-ai->-r requirements.txt (line 5))\n",
            "  Downloading jmespath-1.0.1-py3-none-any.whl.metadata (7.6 kB)\n",
            "Collecting python-dateutil<3.0.0,>=2.9.0 (from ibm-cos-sdk-core==2.13.6->ibm-cos-sdk<2.14.0,>=2.12.0->ibm-watsonx-ai->-r requirements.txt (line 5))\n",
            "  Downloading python_dateutil-2.9.0.post0-py2.py3-none-any.whl.metadata (8.4 kB)\n",
            "Collecting requests<3,>=2 (from langchain->-r requirements.txt (line 1))\n",
            "  Downloading requests-2.32.2-py3-none-any.whl.metadata (4.6 kB)\n",
            "Requirement already satisfied: jsonpatch<2.0,>=1.33 in /usr/local/lib/python3.10/dist-packages (from langchain-core<0.3.0,>=0.2.38->langchain->-r requirements.txt (line 1)) (1.33)\n",
            "Requirement already satisfied: orjson<4.0.0,>=3.9.14 in /usr/local/lib/python3.10/dist-packages (from langsmith<0.2.0,>=0.1.17->langchain->-r requirements.txt (line 1)) (3.10.10)\n",
            "Requirement already satisfied: requests-toolbelt<2.0.0,>=1.0.0 in /usr/local/lib/python3.10/dist-packages (from langsmith<0.2.0,>=0.1.17->langchain->-r requirements.txt (line 1)) (1.0.0)\n",
            "Requirement already satisfied: anyio in /usr/local/lib/python3.10/dist-packages (from httpx->ibm-watsonx-ai->-r requirements.txt (line 5)) (3.7.1)\n",
            "Requirement already satisfied: httpcore==1.* in /usr/local/lib/python3.10/dist-packages (from httpx->ibm-watsonx-ai->-r requirements.txt (line 5)) (1.0.6)\n",
            "Requirement already satisfied: idna in /usr/local/lib/python3.10/dist-packages (from httpx->ibm-watsonx-ai->-r requirements.txt (line 5)) (3.10)\n",
            "Requirement already satisfied: sniffio in /usr/local/lib/python3.10/dist-packages (from httpx->ibm-watsonx-ai->-r requirements.txt (line 5)) (1.3.1)\n",
            "Requirement already satisfied: h11<0.15,>=0.13 in /usr/local/lib/python3.10/dist-packages (from httpcore==1.*->httpx->ibm-watsonx-ai->-r requirements.txt (line 5)) (0.14.0)\n",
            "Requirement already satisfied: pytz>=2020.1 in /usr/local/lib/python3.10/dist-packages (from pandas<2.2.0,>=0.24.2->ibm-watsonx-ai->-r requirements.txt (line 5)) (2024.2)\n",
            "Requirement already satisfied: tzdata>=2022.1 in /usr/local/lib/python3.10/dist-packages (from pandas<2.2.0,>=0.24.2->ibm-watsonx-ai->-r requirements.txt (line 5)) (2024.2)\n",
            "Requirement already satisfied: charset-normalizer<4,>=2 in /usr/local/lib/python3.10/dist-packages (from requests<3,>=2->langchain->-r requirements.txt (line 1)) (3.4.0)\n",
            "Requirement already satisfied: greenlet!=0.4.17 in /usr/local/lib/python3.10/dist-packages (from SQLAlchemy<3,>=1.4->langchain->-r requirements.txt (line 1)) (3.1.1)\n",
            "Requirement already satisfied: networkx in /usr/local/lib/python3.10/dist-packages (from torch>=1.11.0->sentence-transformers->-r requirements.txt (line 3)) (3.4.2)\n",
            "Requirement already satisfied: jinja2 in /usr/local/lib/python3.10/dist-packages (from torch>=1.11.0->sentence-transformers->-r requirements.txt (line 3)) (3.1.4)\n",
            "Requirement already satisfied: sympy==1.13.1 in /usr/local/lib/python3.10/dist-packages (from torch>=1.11.0->sentence-transformers->-r requirements.txt (line 3)) (1.13.1)\n",
            "Requirement already satisfied: mpmath<1.4,>=1.1.0 in /usr/local/lib/python3.10/dist-packages (from sympy==1.13.1->torch>=1.11.0->sentence-transformers->-r requirements.txt (line 3)) (1.3.0)\n",
            "Requirement already satisfied: regex!=2019.12.17 in /usr/local/lib/python3.10/dist-packages (from transformers<5.0.0,>=4.41.0->sentence-transformers->-r requirements.txt (line 3)) (2024.9.11)\n",
            "Requirement already satisfied: safetensors>=0.4.1 in /usr/local/lib/python3.10/dist-packages (from transformers<5.0.0,>=4.41.0->sentence-transformers->-r requirements.txt (line 3)) (0.4.5)\n",
            "Requirement already satisfied: tokenizers<0.20,>=0.19 in /usr/local/lib/python3.10/dist-packages (from transformers<5.0.0,>=4.41.0->sentence-transformers->-r requirements.txt (line 3)) (0.19.1)\n",
            "Requirement already satisfied: zipp>=3.20 in /usr/local/lib/python3.10/dist-packages (from importlib-metadata->ibm-watsonx-ai->-r requirements.txt (line 5)) (3.20.2)\n",
            "Requirement already satisfied: click in /usr/local/lib/python3.10/dist-packages (from nltk->rouge-score->-r requirements.txt (line 9)) (8.1.7)\n",
            "Requirement already satisfied: joblib in /usr/local/lib/python3.10/dist-packages (from nltk->rouge-score->-r requirements.txt (line 9)) (1.4.2)\n",
            "Requirement already satisfied: threadpoolctl>=3.1.0 in /usr/local/lib/python3.10/dist-packages (from scikit-learn->sentence-transformers->-r requirements.txt (line 3)) (3.5.0)\n",
            "Requirement already satisfied: jsonpointer>=1.9 in /usr/local/lib/python3.10/dist-packages (from jsonpatch<2.0,>=1.33->langchain-core<0.3.0,>=0.2.38->langchain->-r requirements.txt (line 1)) (3.0.0)\n",
            "Collecting mypy-extensions>=0.3.0 (from typing-inspect<1,>=0.4.0->dataclasses-json<0.7,>=0.5.7->langchain-community->-r requirements.txt (line 2))\n",
            "  Downloading mypy_extensions-1.0.0-py3-none-any.whl.metadata (1.1 kB)\n",
            "Requirement already satisfied: propcache>=0.2.0 in /usr/local/lib/python3.10/dist-packages (from yarl<2.0,>=1.12.0->aiohttp<4.0.0,>=3.8.3->langchain->-r requirements.txt (line 1)) (0.2.0)\n",
            "Requirement already satisfied: exceptiongroup in /usr/local/lib/python3.10/dist-packages (from anyio->httpx->ibm-watsonx-ai->-r requirements.txt (line 5)) (1.2.2)\n",
            "Requirement already satisfied: MarkupSafe>=2.0 in /usr/local/lib/python3.10/dist-packages (from jinja2->torch>=1.11.0->sentence-transformers->-r requirements.txt (line 3)) (3.0.2)\n",
            "Downloading pydantic-1.10.2-cp310-cp310-manylinux_2_17_x86_64.manylinux2014_x86_64.whl (12.8 MB)\n",
            "\u001b[2K   \u001b[90m━━━━━━━━━━━━━━━━━━━━━━━━━━━━━━━━━━━━━━━━\u001b[0m \u001b[32m12.8/12.8 MB\u001b[0m \u001b[31m25.3 MB/s\u001b[0m eta \u001b[36m0:00:00\u001b[0m\n",
            "\u001b[?25hDownloading langchain-0.2.16-py3-none-any.whl (1.0 MB)\n",
            "\u001b[2K   \u001b[90m━━━━━━━━━━━━━━━━━━━━━━━━━━━━━━━━━━━━━━━━\u001b[0m \u001b[32m1.0/1.0 MB\u001b[0m \u001b[31m30.5 MB/s\u001b[0m eta \u001b[36m0:00:00\u001b[0m\n",
            "\u001b[?25hDownloading langchain_community-0.2.17-py3-none-any.whl (2.3 MB)\n",
            "\u001b[2K   \u001b[90m━━━━━━━━━━━━━━━━━━━━━━━━━━━━━━━━━━━━━━━━\u001b[0m \u001b[32m2.3/2.3 MB\u001b[0m \u001b[31m21.2 MB/s\u001b[0m eta \u001b[36m0:00:00\u001b[0m\n",
            "\u001b[?25hDownloading faiss_gpu-1.7.2-cp310-cp310-manylinux_2_17_x86_64.manylinux2014_x86_64.whl (85.5 MB)\n",
            "\u001b[2K   \u001b[90m━━━━━━━━━━━━━━━━━━━━━━━━━━━━━━━━━━━━━━━━\u001b[0m \u001b[32m85.5/85.5 MB\u001b[0m \u001b[31m8.6 MB/s\u001b[0m eta \u001b[36m0:00:00\u001b[0m\n",
            "\u001b[?25hDownloading ibm_watsonx_ai-1.1.20-py3-none-any.whl (1.0 MB)\n",
            "\u001b[2K   \u001b[90m━━━━━━━━━━━━━━━━━━━━━━━━━━━━━━━━━━━━━━━━\u001b[0m \u001b[32m1.0/1.0 MB\u001b[0m \u001b[31m34.1 MB/s\u001b[0m eta \u001b[36m0:00:00\u001b[0m\n",
            "\u001b[?25hDownloading langchain_ibm-0.1.12-py3-none-any.whl (19 kB)\n",
            "Downloading ibm_watson_machine_learning-1.0.366-py3-none-any.whl (1.3 MB)\n",
            "\u001b[2K   \u001b[90m━━━━━━━━━━━━━━━━━━━━━━━━━━━━━━━━━━━━━━━━\u001b[0m \u001b[32m1.3/1.3 MB\u001b[0m \u001b[31m45.4 MB/s\u001b[0m eta \u001b[36m0:00:00\u001b[0m\n",
            "\u001b[?25hDownloading dataclasses_json-0.6.7-py3-none-any.whl (28 kB)\n",
            "Downloading langchain_core-0.2.43-py3-none-any.whl (397 kB)\n",
            "\u001b[2K   \u001b[90m━━━━━━━━━━━━━━━━━━━━━━━━━━━━━━━━━━━━━━━━\u001b[0m \u001b[32m397.1/397.1 kB\u001b[0m \u001b[31m25.5 MB/s\u001b[0m eta \u001b[36m0:00:00\u001b[0m\n",
            "\u001b[?25hDownloading langchain_text_splitters-0.2.4-py3-none-any.whl (25 kB)\n",
            "Downloading pandas-2.1.4-cp310-cp310-manylinux_2_17_x86_64.manylinux2014_x86_64.whl (12.3 MB)\n",
            "\u001b[2K   \u001b[90m━━━━━━━━━━━━━━━━━━━━━━━━━━━━━━━━━━━━━━━━\u001b[0m \u001b[32m12.3/12.3 MB\u001b[0m \u001b[31m86.1 MB/s\u001b[0m eta \u001b[36m0:00:00\u001b[0m\n",
            "\u001b[?25hDownloading requests-2.32.2-py3-none-any.whl (63 kB)\n",
            "\u001b[2K   \u001b[90m━━━━━━━━━━━━━━━━━━━━━━━━━━━━━━━━━━━━━━━━\u001b[0m \u001b[32m63.9/63.9 kB\u001b[0m \u001b[31m3.6 MB/s\u001b[0m eta \u001b[36m0:00:00\u001b[0m\n",
            "\u001b[?25hDownloading tenacity-8.5.0-py3-none-any.whl (28 kB)\n",
            "Downloading lomond-0.3.3-py2.py3-none-any.whl (35 kB)\n",
            "Downloading jmespath-1.0.1-py3-none-any.whl (20 kB)\n",
            "Downloading marshmallow-3.23.1-py3-none-any.whl (49 kB)\n",
            "\u001b[2K   \u001b[90m━━━━━━━━━━━━━━━━━━━━━━━━━━━━━━━━━━━━━━━━\u001b[0m \u001b[32m49.5/49.5 kB\u001b[0m \u001b[31m3.4 MB/s\u001b[0m eta \u001b[36m0:00:00\u001b[0m\n",
            "\u001b[?25hDownloading python_dateutil-2.9.0.post0-py2.py3-none-any.whl (229 kB)\n",
            "\u001b[2K   \u001b[90m━━━━━━━━━━━━━━━━━━━━━━━━━━━━━━━━━━━━━━━━\u001b[0m \u001b[32m229.9/229.9 kB\u001b[0m \u001b[31m13.9 MB/s\u001b[0m eta \u001b[36m0:00:00\u001b[0m\n",
            "\u001b[?25hDownloading typing_inspect-0.9.0-py3-none-any.whl (8.8 kB)\n",
            "Downloading mypy_extensions-1.0.0-py3-none-any.whl (4.7 kB)\n",
            "Building wheels for collected packages: rouge-score, ibm-cos-sdk, ibm-cos-sdk-core, ibm-cos-sdk-s3transfer\n",
            "  Building wheel for rouge-score (setup.py) ... \u001b[?25l\u001b[?25hdone\n",
            "  Created wheel for rouge-score: filename=rouge_score-0.1.2-py3-none-any.whl size=24935 sha256=a497f88526ac3bccaec511b7603709fe857a09b95ffa291f12b53acd423c1665\n",
            "  Stored in directory: /root/.cache/pip/wheels/5f/dd/89/461065a73be61a532ff8599a28e9beef17985c9e9c31e541b4\n",
            "  Building wheel for ibm-cos-sdk (setup.py) ... \u001b[?25l\u001b[?25hdone\n",
            "  Created wheel for ibm-cos-sdk: filename=ibm_cos_sdk-2.13.6-py3-none-any.whl size=77231 sha256=05be30db813d0e4d2ac62fe52d5bb4c4b5da603129882e2746b84d0e6a07b1e7\n",
            "  Stored in directory: /root/.cache/pip/wheels/c7/c7/ef/c6899afa27e0f60b856525da93758d16b52be89d54852ae906\n",
            "  Building wheel for ibm-cos-sdk-core (setup.py) ... \u001b[?25l\u001b[?25hdone\n",
            "  Created wheel for ibm-cos-sdk-core: filename=ibm_cos_sdk_core-2.13.6-py3-none-any.whl size=661459 sha256=57cb0d9f9380be66135868ddb50196970dd0b218e76462acb6a11c4f4b1f3d17\n",
            "  Stored in directory: /root/.cache/pip/wheels/38/6e/9b/27f10308c37a531ffb880add20d61753ca3b2c24034f4530da\n",
            "  Building wheel for ibm-cos-sdk-s3transfer (setup.py) ... \u001b[?25l\u001b[?25hdone\n",
            "  Created wheel for ibm-cos-sdk-s3transfer: filename=ibm_cos_sdk_s3transfer-2.13.6-py3-none-any.whl size=90204 sha256=110783edd747a6cb387f41e244f243e472e2d17bd1ca491f6e9a056f74a5a46d\n",
            "  Stored in directory: /root/.cache/pip/wheels/81/11/8e/5cc3f2d57d16951d4a7b15995338e3bd21b71cded6b9494fb2\n",
            "Successfully built rouge-score ibm-cos-sdk ibm-cos-sdk-core ibm-cos-sdk-s3transfer\n",
            "Installing collected packages: faiss-gpu, tenacity, requests, python-dateutil, pydantic, mypy-extensions, marshmallow, lomond, jmespath, typing-inspect, rouge-score, pandas, ibm-cos-sdk-core, ibm-cos-sdk-s3transfer, dataclasses-json, langchain-core, ibm-cos-sdk, langchain-text-splitters, ibm-watsonx-ai, ibm-watson-machine-learning, langchain_ibm, langchain, langchain-community\n",
            "  Attempting uninstall: tenacity\n",
            "    Found existing installation: tenacity 9.0.0\n",
            "    Uninstalling tenacity-9.0.0:\n",
            "      Successfully uninstalled tenacity-9.0.0\n",
            "  Attempting uninstall: requests\n",
            "    Found existing installation: requests 2.32.3\n",
            "    Uninstalling requests-2.32.3:\n",
            "      Successfully uninstalled requests-2.32.3\n",
            "  Attempting uninstall: python-dateutil\n",
            "    Found existing installation: python-dateutil 2.8.2\n",
            "    Uninstalling python-dateutil-2.8.2:\n",
            "      Successfully uninstalled python-dateutil-2.8.2\n",
            "  Attempting uninstall: pydantic\n",
            "    Found existing installation: pydantic 2.9.2\n",
            "    Uninstalling pydantic-2.9.2:\n",
            "      Successfully uninstalled pydantic-2.9.2\n",
            "  Attempting uninstall: pandas\n",
            "    Found existing installation: pandas 2.2.2\n",
            "    Uninstalling pandas-2.2.2:\n",
            "      Successfully uninstalled pandas-2.2.2\n",
            "  Attempting uninstall: langchain-core\n",
            "    Found existing installation: langchain-core 0.3.13\n",
            "    Uninstalling langchain-core-0.3.13:\n",
            "      Successfully uninstalled langchain-core-0.3.13\n",
            "  Attempting uninstall: langchain-text-splitters\n",
            "    Found existing installation: langchain-text-splitters 0.3.0\n",
            "    Uninstalling langchain-text-splitters-0.3.0:\n",
            "      Successfully uninstalled langchain-text-splitters-0.3.0\n",
            "  Attempting uninstall: langchain\n",
            "    Found existing installation: langchain 0.3.4\n",
            "    Uninstalling langchain-0.3.4:\n",
            "      Successfully uninstalled langchain-0.3.4\n",
            "\u001b[31mERROR: pip's dependency resolver does not currently take into account all the packages that are installed. This behaviour is the source of the following dependency conflicts.\n",
            "albumentations 1.4.20 requires pydantic>=2.7.0, but you have pydantic 1.10.2 which is incompatible.\n",
            "google-colab 1.0.0 requires pandas==2.2.2, but you have pandas 2.1.4 which is incompatible.\n",
            "google-colab 1.0.0 requires requests==2.32.3, but you have requests 2.32.2 which is incompatible.\n",
            "mizani 0.13.0 requires pandas>=2.2.0, but you have pandas 2.1.4 which is incompatible.\n",
            "plotnine 0.14.0 requires pandas>=2.2.0, but you have pandas 2.1.4 which is incompatible.\u001b[0m\u001b[31m\n",
            "\u001b[0mSuccessfully installed dataclasses-json-0.6.7 faiss-gpu-1.7.2 ibm-cos-sdk-2.13.6 ibm-cos-sdk-core-2.13.6 ibm-cos-sdk-s3transfer-2.13.6 ibm-watson-machine-learning-1.0.366 ibm-watsonx-ai-1.1.20 jmespath-1.0.1 langchain-0.2.16 langchain-community-0.2.17 langchain-core-0.2.43 langchain-text-splitters-0.2.4 langchain_ibm-0.1.12 lomond-0.3.3 marshmallow-3.23.1 mypy-extensions-1.0.0 pandas-2.1.4 pydantic-1.10.2 python-dateutil-2.9.0.post0 requests-2.32.2 rouge-score-0.1.2 tenacity-8.5.0 typing-inspect-0.9.0\n"
          ]
        },
        {
          "output_type": "display_data",
          "data": {
            "application/vnd.colab-display-data+json": {
              "pip_warning": {
                "packages": [
                  "dateutil"
                ]
              },
              "id": "0d6b554a6c0f4ea785d47f04101d60fe"
            }
          },
          "metadata": {}
        }
      ]
    },
    {
      "cell_type": "code",
      "source": [
        "!pip install --upgrade pip setuptools wheel"
      ],
      "metadata": {
        "colab": {
          "base_uri": "https://localhost:8080/",
          "height": 517
        },
        "id": "1l9jVIMiRIsp",
        "outputId": "c0f26342-e9ad-4e08-b829-9053aa1d0deb"
      },
      "execution_count": null,
      "outputs": [
        {
          "output_type": "stream",
          "name": "stdout",
          "text": [
            "Requirement already satisfied: pip in /usr/local/lib/python3.10/dist-packages (24.1.2)\n",
            "Collecting pip\n",
            "  Using cached pip-24.2-py3-none-any.whl.metadata (3.6 kB)\n",
            "Requirement already satisfied: setuptools in /usr/local/lib/python3.10/dist-packages (71.0.4)\n",
            "Collecting setuptools\n",
            "  Using cached setuptools-75.1.0-py3-none-any.whl.metadata (6.9 kB)\n",
            "Requirement already satisfied: wheel in /usr/local/lib/python3.10/dist-packages (0.44.0)\n",
            "Using cached pip-24.2-py3-none-any.whl (1.8 MB)\n",
            "Using cached setuptools-75.1.0-py3-none-any.whl (1.2 MB)\n",
            "Installing collected packages: setuptools, pip\n",
            "  Attempting uninstall: setuptools\n",
            "    Found existing installation: setuptools 71.0.4\n",
            "    Uninstalling setuptools-71.0.4:\n",
            "      Successfully uninstalled setuptools-71.0.4\n",
            "  Attempting uninstall: pip\n",
            "    Found existing installation: pip 24.1.2\n",
            "    Uninstalling pip-24.1.2:\n",
            "      Successfully uninstalled pip-24.1.2\n",
            "\u001b[31mERROR: pip's dependency resolver does not currently take into account all the packages that are installed. This behaviour is the source of the following dependency conflicts.\n",
            "ipython 7.34.0 requires jedi>=0.16, which is not installed.\u001b[0m\u001b[31m\n",
            "\u001b[0mSuccessfully installed pip-24.2 setuptools-75.1.0\n"
          ]
        },
        {
          "output_type": "display_data",
          "data": {
            "application/vnd.colab-display-data+json": {
              "pip_warning": {
                "packages": [
                  "_distutils_hack",
                  "pkg_resources",
                  "setuptools"
                ]
              },
              "id": "e60ebbaed5a64fedb087980e0ad21345"
            }
          },
          "metadata": {}
        }
      ]
    },
    {
      "cell_type": "code",
      "execution_count": 1,
      "metadata": {
        "id": "8DUdyiTFqCTP"
      },
      "outputs": [],
      "source": [
        "import os\n",
        "import pandas as pd\n",
        "import getpass\n",
        "from sklearn.model_selection import train_test_split\n",
        "\n",
        "# Evaluation metrices\n",
        "from sklearn.metrics import accuracy_score  # Or any other metric like BLEU, ROUGE\n",
        "from nltk.translate.bleu_score import sentence_bleu\n",
        "from rouge_score import rouge_scorer\n",
        "from sklearn.metrics import f1_score\n",
        "\n",
        "\n",
        "# langchain\n",
        "import matplotlib.pyplot as plt\n",
        "from langchain_community.document_loaders.csv_loader import CSVLoader\n",
        "from langchain.text_splitter import RecursiveCharacterTextSplitter\n",
        "from langchain.vectorstores import FAISS\n",
        "from langchain.chains.question_answering import load_qa_chain\n",
        "from langchain.chains import ConversationalRetrievalChain\n",
        "from langchain_ibm import WatsonxEmbeddings\n",
        "from langchain_ibm import WatsonxLLM\n",
        "from langchain_core.prompts import PromptTemplate\n",
        "from langchain.chains import LLMChain\n",
        "\n",
        "\n",
        "# ibm_watsonx_ai\n",
        "from ibm_watsonx_ai.foundation_models.utils.enums import ModelTypes\n",
        "from ibm_watsonx_ai.metanames import GenTextParamsMetaNames as GenParams\n",
        "from ibm_watsonx_ai.foundation_models.utils.enums import DecodingMethods\n",
        "from ibm_watsonx_ai.foundation_models import Model\n",
        "from ibm_watsonx_ai import Credentials\n",
        "from ibm_watsonx_ai.metanames import EmbedTextParamsMetaNames\n",
        "from ibm_watson_machine_learning.metanames import GenTextParamsMetaNames as GenParams"
      ]
    },
    {
      "cell_type": "markdown",
      "source": [
        "# 1. Loading CSVs and chunking with LangChain\n",
        "\n"
      ],
      "metadata": {
        "id": "SB3rgACU0nnj"
      }
    },
    {
      "cell_type": "code",
      "source": [
        "# Simple method - Split by pages\n",
        "loader = CSVLoader(\"/content/الأخطاء اللغوية الشائعة (تنظيف).csv\")\n",
        "pages = loader.load_and_split()\n",
        "\n",
        "print(pages[1])\n",
        "\n",
        "# SKIP TO STEP 2 IF YOU'RE USING THIS METHOD\n",
        "chunks = pages"
      ],
      "metadata": {
        "colab": {
          "base_uri": "https://localhost:8080/"
        },
        "id": "XpCP6rmW0n6c",
        "outputId": "31be6f90-fa73-4ad0-97d8-def13f6577a1"
      },
      "execution_count": 68,
      "outputs": [
        {
          "output_type": "stream",
          "name": "stdout",
          "text": [
            "page_content='﻿Error: أَجِبْ عَلى الأسئلة الآتية.\n",
            "Correction: أَجِبْ عَن الأسئلة الآتية.\n",
            "Explanation: \" أجب عن \" بدلاً من \" أجب على \" لأن الإجابة عن الأسئلة تعني تحديد إجابتها المطلوبة، ولكن \"على الأسئلة تعني ترك الأسئلة والإجابة عن غيرها، خاصةً أن حرفَ الجر \"على\" يعني المُجاوزة وترك الشيء كما هو معروف. وهذا الخطأ يتكرر كثيراً في الاختبارات، لذا يجب أن يتنبه الَّذِين يَضَعُونَ الاختبارات لهذا الأمر. قال تعالى : ومَنْ يَبْخَلْ فإنّما يبخلُ عَنْ نَفْسِهِ\" (?) فاستخدم الحق سبحانه يبخلُ\" عن\" ولم يستخدم يبخل على والفرق واضح بين الاثنين بناءً على ما تقدم.' metadata={'source': '/content/الأخطاء اللغوية الشائعة (تنظيف).csv', 'row': 1}\n"
          ]
        }
      ]
    },
    {
      "cell_type": "markdown",
      "source": [
        "# 2. Embed text and store embeddings"
      ],
      "metadata": {
        "id": "MzrZkjih6MNo"
      }
    },
    {
      "cell_type": "markdown",
      "source": [
        "### Seting up connection with watsonx.ai and get environment Variables"
      ],
      "metadata": {
        "id": "q0AHTzCgNLpN"
      }
    },
    {
      "cell_type": "markdown",
      "source": [
        "Get watsonx URL"
      ],
      "metadata": {
        "id": "N9Z0IvT8NYu-"
      }
    },
    {
      "cell_type": "code",
      "source": [
        "try:\n",
        "    os.environ[\"WATSONX_URL\"] = wxa_url\n",
        "except NameError:\n",
        "    wxa_url = getpass.getpass(\"Please enter your watsonx.ai URL domain (hit enter): \")\n",
        "    os.environ[\"WATSONX_URL\"] = wxa_url"
      ],
      "metadata": {
        "id": "7mpm_mVJNYIq",
        "colab": {
          "base_uri": "https://localhost:8080/"
        },
        "outputId": "1f00341c-4165-4b2b-afa2-12081ddfb388"
      },
      "execution_count": 3,
      "outputs": [
        {
          "name": "stdout",
          "output_type": "stream",
          "text": [
            "Please enter your watsonx.ai URL domain (hit enter): ··········\n"
          ]
        }
      ]
    },
    {
      "cell_type": "markdown",
      "source": [
        "Get watsonx API key"
      ],
      "metadata": {
        "id": "iyIfQKaxPRJQ"
      }
    },
    {
      "cell_type": "code",
      "source": [
        "try:\n",
        "     os.environ[\"WATSONX_APIKEY\"] = wxa_api_key\n",
        "except NameError:\n",
        "    wxa_api_key = getpass.getpass(\"Please enter your watsonx.ai API key (hit enter): \")\n",
        "    os.environ[\"WATSONX_APIKEY\"] = wxa_api_key"
      ],
      "metadata": {
        "id": "7CndTf_bNyr0",
        "colab": {
          "base_uri": "https://localhost:8080/"
        },
        "outputId": "f037a050-aa00-4d91-a18e-683df4ed3c20"
      },
      "execution_count": 4,
      "outputs": [
        {
          "name": "stdout",
          "output_type": "stream",
          "text": [
            "Please enter your watsonx.ai API key (hit enter): ··········\n"
          ]
        }
      ]
    },
    {
      "cell_type": "markdown",
      "source": [
        "Get watsonx Project ID"
      ],
      "metadata": {
        "id": "LpGMfX2MNUhV"
      }
    },
    {
      "cell_type": "code",
      "source": [
        "try:\n",
        "    os.environ[\"WATSONX_PROJECT_ID\"] = wxa_project_id\n",
        "except NameError:\n",
        "    wxa_project_id = getpass.getpass(\"Please enter your watsonx.ai Project ID (hit enter): \")\n",
        "    os.environ[\"WATSONX_PROJECT_ID\"] = wxa_project_id"
      ],
      "metadata": {
        "id": "9s2kYSSGNRSU",
        "colab": {
          "base_uri": "https://localhost:8080/"
        },
        "outputId": "b563fe29-3525-4379-920b-9e9848939810"
      },
      "execution_count": 5,
      "outputs": [
        {
          "name": "stdout",
          "output_type": "stream",
          "text": [
            "Please enter your watsonx.ai Project ID (hit enter): ··········\n"
          ]
        }
      ]
    },
    {
      "cell_type": "markdown",
      "source": [
        "### Loading the embedding model"
      ],
      "metadata": {
        "id": "VRhri_yoQ0Cw"
      }
    },
    {
      "cell_type": "code",
      "source": [
        "# adjust model parameters\n",
        "embed_params = {\n",
        "    EmbedTextParamsMetaNames.TRUNCATE_INPUT_TOKENS: 3,\n",
        "    EmbedTextParamsMetaNames.RETURN_OPTIONS: {\"input_text\": True},\n",
        "}"
      ],
      "metadata": {
        "id": "SOLjzVka9MHo"
      },
      "execution_count": 69,
      "outputs": []
    },
    {
      "cell_type": "code",
      "source": [
        "multilingual_e5_embedding = WatsonxEmbeddings(\n",
        "    model_id=\"intfloat/multilingual-e5-large\",\n",
        "    params=embed_params,\n",
        "    url=wxa_url,\n",
        "    project_id=wxa_project_id\n",
        ")"
      ],
      "metadata": {
        "id": "-PejEiv3TiOb"
      },
      "execution_count": 70,
      "outputs": []
    },
    {
      "cell_type": "markdown",
      "source": [
        "### Initilaize FIASS vector database"
      ],
      "metadata": {
        "id": "dlb6DQoFJqtE"
      }
    },
    {
      "cell_type": "code",
      "source": [
        "# Create vector database\n",
        "db = FAISS.from_documents(chunks, multilingual_e5_embedding)"
      ],
      "metadata": {
        "id": "EVf1DQk60xG_"
      },
      "execution_count": 71,
      "outputs": []
    },
    {
      "cell_type": "markdown",
      "source": [
        "# 3. Setup retrieval function"
      ],
      "metadata": {
        "id": "WcuaAUUjdTw0"
      }
    },
    {
      "cell_type": "markdown",
      "source": [
        "## Loading ALLAM model"
      ],
      "metadata": {
        "id": "4IvqMTAMhcFC"
      }
    },
    {
      "cell_type": "code",
      "source": [
        "# adjust model parameters\n",
        "parameters = {\n",
        "    GenParams.DECODING_METHOD: DecodingMethods.GREEDY,\n",
        "    GenParams.MIN_NEW_TOKENS: 1,\n",
        "    GenParams.MAX_NEW_TOKENS: 500\n",
        "}"
      ],
      "metadata": {
        "id": "1LyVwR3FzIlp"
      },
      "execution_count": 72,
      "outputs": []
    },
    {
      "cell_type": "code",
      "source": [
        "allam_llm = WatsonxLLM(\n",
        "    model_id=\"sdaia/allam-1-13b-instruct\",\n",
        "    params=parameters,\n",
        "    url=wxa_url,\n",
        "    project_id=wxa_project_id\n",
        ")"
      ],
      "metadata": {
        "id": "QwKXJ85ahepu"
      },
      "execution_count": 73,
      "outputs": []
    },
    {
      "cell_type": "markdown",
      "source": [
        "### Get response from ALLAM model directly"
      ],
      "metadata": {
        "id": "XusRFu75Ys84"
      }
    },
    {
      "cell_type": "code",
      "source": [
        "Sentence = \"معلموا المبحث نشيطون.\""
      ],
      "metadata": {
        "id": "PBdDBZYKOoyI"
      },
      "execution_count": 123,
      "outputs": []
    },
    {
      "cell_type": "code",
      "source": [
        "Sentence = input(\"Please enter a sentence with error: \")"
      ],
      "metadata": {
        "colab": {
          "base_uri": "https://localhost:8080/"
        },
        "id": "MItR9SkDT938",
        "outputId": "fd8718fe-bbe7-4ebd-a400-9fef489b9790"
      },
      "execution_count": 132,
      "outputs": [
        {
          "name": "stdout",
          "output_type": "stream",
          "text": [
            "Please enter a sentence with error: أعددت وسائلاً كثيرةً.\n"
          ]
        }
      ]
    },
    {
      "cell_type": "code",
      "source": [
        "# define input query\n",
        "query = \"قم بتصحيح الجملة التالية مع توضيح الخطأ اللغوي فيها واكتب الرد باللغة العربية: \" + Sentence"
      ],
      "metadata": {
        "id": "Mpry0u3Exix9"
      },
      "execution_count": 133,
      "outputs": []
    },
    {
      "cell_type": "code",
      "source": [
        "query = query = \"قم بتصحيح الجملة التالية (\" + Sentence + \") مع توضيح الخطأ اللغوي فيها واكتب الرد باللغة العربية. اكتب الرد على النحو التالي:\\nالخطأ: الجملة\\nالصواب: تصحيح الجملة\\nالتفسير: كتابة التفسير\""
      ],
      "metadata": {
        "id": "zfAIQ1OlTAqu"
      },
      "execution_count": 134,
      "outputs": []
    },
    {
      "cell_type": "code",
      "source": [
        "allam_response = allam_llm(query)"
      ],
      "metadata": {
        "id": "pbKT5_rvxrm5"
      },
      "execution_count": 135,
      "outputs": []
    },
    {
      "cell_type": "code",
      "source": [
        "print(\"Query: \" + query)\n",
        "print(\"Response: \" + allam_response)"
      ],
      "metadata": {
        "colab": {
          "base_uri": "https://localhost:8080/"
        },
        "id": "k0T-tA4Pxvpk",
        "outputId": "71f642b3-6e25-4ca8-be0c-4731323e0c4a"
      },
      "execution_count": 136,
      "outputs": [
        {
          "output_type": "stream",
          "name": "stdout",
          "text": [
            "Query: قم بتصحيح الجملة التالية (أعددت وسائلاً كثيرةً.) مع توضيح الخطأ اللغوي فيها واكتب الرد باللغة العربية. اكتب الرد على النحو التالي:\n",
            "الخطأ: الجملة\n",
            "الصواب: تصحيح الجملة\n",
            "التفسير: كتابة التفسير\n",
            "Response:  هنا\n",
            "\n",
            "الخطأ: الجملة \"أعددت وسائلاً كثيرةً.\"\n",
            "الصواب: تصحيح الجملة \"أعددت وسائلَ كثيرةً.\"\n",
            "التفسير: في هذه الجملة، يجب استخدام \"وسائل\" بدلاً من \"وسائلاً\" لأن \"وسائل\" هي جمع تكسير للكلمة \"وسيلة\" وهي تعبر عن مجموعة من الأشياء أو الأدوات. بالإضافة إلى ذلك، يجب وضع الهمزة على الياء في \"كثيرةً\" لتصبح \"كثيرةً\" بدلاً من \"كثيرةً\" لأن الهمزة يجب أن تكون على الياء في هذه الحالة. \n"
          ]
        }
      ]
    },
    {
      "cell_type": "markdown",
      "source": [
        "### Get response from knowledge base (Create QA chain to integrate similarity search with input queries)"
      ],
      "metadata": {
        "id": "WFjQ5w1iY8Jv"
      }
    },
    {
      "cell_type": "code",
      "source": [
        "# Check that similarity search is working\n",
        "docs = db.similarity_search(query, k=10)\n",
        "for i in docs:\n",
        "  print(i)\n",
        "  print(\"-------------\")"
      ],
      "metadata": {
        "colab": {
          "base_uri": "https://localhost:8080/"
        },
        "id": "719BL9lNdd9t",
        "outputId": "78ceeee8-26c2-4727-eb10-cc7e9cc30467"
      },
      "execution_count": 137,
      "outputs": [
        {
          "output_type": "stream",
          "name": "stdout",
          "text": [
            "page_content='﻿Error: أعددت وسائلاً كثيرةً.\n",
            "Correction: أعددْتُ وسائل كثيرة.\n",
            "Explanation: لا يصح تنوين الممنوع من الصرف كما مرَّ \"وسائل\" وهذه الكلمة صيغة منتهى الجموع، وهذه الصيغة ممنوعة من الصرف أي التنوين فترفع بالضمة في حالة الرفع، وتنصب بالفتحة في حالة النصب وتجر بالفتحة في حالة الجر إلا إذا أضيفت أو عُرّفت بأل عندئذٍ تجر بالكسرة وهي الإعراب العادي الطبيعي. \r\n",
            "تقول : أُعجبتُ بالوسائل الحديثة. \r\n",
            "وتقول : أُعجبْتُ بوسائل المصادر التعليمية.' metadata={'source': '/content/الأخطاء اللغوية الشائعة (تنظيف).csv', 'row': 4}\n",
            "-------------\n",
            "page_content='﻿Error: قام المعلمين بشرح الفكرة المناسبة.\n",
            "Correction: قام المعلمون بشرح الفكرة المناسبة.\n",
            "Explanation: إذا جاءَ جمع المذكر السالم مرفوعاً يرفع بالواو، وإذا جاء منصوباً ينصب بالياء، وكذلك الجر، ولكن غير العارف بقواعد اللغة العربية ربما لا يدرك هذه الحقيقة فيجعل ما هو منصوب مرفوعاً أو العكس. قال تعالى: \"إنما المؤمنون إخوة\"، وجاء في تعريف جمع المذكر السالم في الألفية:\r\n",
            "وارْفَعْ بِواو وَبَيا أجرر وأنْصب * سَالَم جمع عَامِرٍ ومُذْنبِ والفكرة : مفرد وجمعه فَكَرُ . والفكر : مفرد وجمعه أَفكَارٌ. لذا يصح أن نقول فكر رئيسة أو أفكار رئيسة.' metadata={'source': '/content/الأخطاء اللغوية الشائعة (تنظيف).csv', 'row': 56}\n",
            "-------------\n",
            "page_content='﻿Error: قام المعلمين برسم المنظر.\n",
            "Correction: قام المعلمان برسم المنظر.\n",
            "Explanation: المثنى يرفع بالألف ويُنصب ويجرُّ بالياء؛ لذا لا يصح نصب فاعل المثنى كما في الخطأ السابق، وهكذا ينطبق هذا الكلام على المثنى والملحق به :مثل كلا وكلتا ، واثنتان، واللذان واللتان وهذان وهاتان كذلك . قال الشاعر : \r\n",
            "كِلانَا غني عن أَخِيهِ حَيَاتَهُ * ونحنُ إذا مِتْنَا أَشْد تَغَانِيَا \r\n",
            "ويمكن أن نستخدم (كلا الطالبين) أو (الطالبان كلاهما).' metadata={'source': '/content/الأخطاء اللغوية الشائعة (تنظيف).csv', 'row': 57}\n",
            "-------------\n",
            "page_content='﻿Error: كَتَبْتُ خمسين ورقاً.\n",
            "Correction: كَتَبْتُ خمسين ورقةً.\n",
            "Explanation: تمييز ألفاظ العقود من عشرين إلى تسعين يكون مفرداً منصوباً ولا يصح أن يكون جمعاً أو مجروراً ولكن يكون مفرداً منصوباً مثل : \"إِنَّ هَذَا أَخِي لَهُ تِسْعٌ وَتِسْعُونَ نَعْجَةً\" ومثل: قرأت ثلاثين كتاباً، وخمسين قصة، وهكذا، وهذا تمييز العدد كما هو معروف في لغة العرب. ورقة مفرد : وَرَقٌ. أو أوراق، أما الورق: فهي الفضة. وجاء في القرآن الكريم : \" فابْعَثُوا أحدكم بِوَرِقِكُم هَذه إلى المدينة\".' metadata={'source': '/content/الأخطاء اللغوية الشائعة (تنظيف).csv', 'row': 40}\n",
            "-------------\n",
            "page_content='﻿Error: كَتَبُوا الطلاب الدرس.\n",
            "Correction: كَتَبَ الطلاب الدرس.\n",
            "Explanation: لا يصح جمعُ الفعل إذا كان الفاعل جمعاً، ولا يصح تثنية الفعل إذا كان الفاعل مثنى بل يجب إفراد الفعل دائماً، إذا كان الفاعل مثنى أو جمعاً فتقول: قام الطالب. قام الطالبان. قام الطلاب. لكن تثنية وجمع الأفعال في حالة تثنية وجمع الفاعل لغة تسمى لغة \" يتعاقبون فيكم\" أو لغة أكلوني البراغيث. وجاء في الحديث الشريف: \"يَتَعاقَبوُنَ فيكم مَلائِكَةٌ بالليل وَمَلائِكَةٌ بالنّهار\".' metadata={'source': '/content/الأخطاء اللغوية الشائعة (تنظيف).csv', 'row': 17}\n",
            "-------------\n",
            "page_content='﻿Error: كتبت مجموعةً من الأسئلة ليقوم الطلاب بقرائتها.\n",
            "Correction: كتبت مجموعةً من الأسئلة ليقوم الطلاب بقراءتها.\n",
            "Explanation: كلمة \"قراءتها\" لا يصح أن تكتب على نبرة في هذه الكلمة إذ هي همزة متطرفة سبقت بألف ساكنة وهي مفتوحة؛ لذا فهي تكتب منفردة كما ذكر من قبل في الصواب السابق ولا يصحُ مطلقاً أن تكتب على نبرة أو على الألف أيضاً.  وهناك الفعل : \"يقرؤها فأجازوا أن نكتبه هكذا: \"يقرأها\" وإنْ كانت الكتابة الأولى تتمشى مع حركة الحرفِ ولفظه. ويُشار هنا إلى خطأ شائع لدى المتحدثين باللغة الحديثة وذلك قولهم : هذا أمر سلبي، وهذا خطأ واضح، والصواب : هذا أمر سلبي بالفتح بدلاً من الكسر ، والسلبي عكسه الإيجابي.' metadata={'source': '/content/الأخطاء اللغوية الشائعة (تنظيف).csv', 'row': 5}\n",
            "-------------\n",
            "page_content='﻿Error: مَنْ يسعى في الخير يلقى الجزاء.\n",
            "Correction: مَنْ يسعَ في الخير يلق الجزاء.\n",
            "Explanation: فعل الشرط وجواب الشرط مجزومان، ويكون الجزم بالسكون إذا كان الفعل صحيح الآخر مثل: من يدرس ينجح. ويكون الجزم بحذف النون مع الأفعال الخمسة مثل: \"يأيها الَّذِينَ آمَنُوا إِنْ تَنْصُرُوا اللهَ ينصِّركُمْ ويثبت أقدامكم\" ويكون الجزم بحذف حرف العلة إذا كان الفعل معتل الآخر ، وحروف العلة : الألف والواو والياء، وفي الصواب السابق حذفت الألف من يسعى\" وحذفت الألف من \"يلقى\" لكون الفعلين مجزومين لأنهما واقعان في الشرط والجواب.' metadata={'source': '/content/الأخطاء اللغوية الشائعة (تنظيف).csv', 'row': 46}\n",
            "-------------\n",
            "page_content='﻿Error: مُصْطَفي طالبٌ مجتهد.\n",
            "Correction: مصطفى طالب مجتهد .\n",
            "Explanation: لا يصح وضع نقطتن تحت كلمة مصطفى؛ لأنه اسم مقصور والاسم المقصور بالألف لا نضع نقطتين تحتها وإلا أصبحت حرف ياء، إلا إذا كانت لهجة عربية تميل الألف إلى الياء. وتقول في تثنيه :مُصطفى: مُصْطَفيان. وتقول في جمعه: مُصْطَفَوْن. قال تعالى: \"وإنّهم عِنْدنَا لَمِن المُصْطَفْين الأخيار\" ويشار هنا إلى الفعل \"لقي\" فإذا أسند إلى واو الجماعة قيل فيه: \"لَقُوا\" فينطقون هذا الفعل \"لَقَوْا\" والصواب بالضم؛ لأن الضمة نقلت إلى الحرف قبلها ثم حذفت الياء فبقيت الضمة \"لقُوا\".' metadata={'source': '/content/الأخطاء اللغوية الشائعة (تنظيف).csv', 'row': 33}\n",
            "-------------\n",
            "page_content='﻿Error: ملائمة الأهداف للخطة الموضوعة.\n",
            "Correction: ملاءمة الأهداف للخطة الموضوعة.\n",
            "Explanation: من الواضح أن كلمة \" ملاءمة\" بها همزة قبلها ألف وهي مفتوحة، عندئذٍ يجب أن تكتب منفردة كما مرَّ في \r\n",
            "الصواب، أما كلمة ملائمة بالكسر فتكتب الهمزة على نبرة. لكن بعض كَتَّاب اللغة يأتون بالكلمة \"ملائمة\" بالكسر، ويريدون \"ملاءمة بالفتح ، وهذا خلط واضح بين الكلمتين. \r\n",
            "وملاءمة: اسم مفعول. \r\n",
            "وملائمة : اسم فاعل. \r\n",
            "والأول هو الذي وقع عليه الفعل. \r\n",
            "والثاني هو الذي قام بالفعل، والفرق واضح بين الاثنين.' metadata={'source': '/content/الأخطاء اللغوية الشائعة (تنظيف).csv', 'row': 2}\n",
            "-------------\n",
            "page_content='﻿Error: قرأتُ سورة المؤمنين.\n",
            "Correction: قرأتُ سورة المؤمنون.\n",
            "Explanation: استخدم الحق سبحانه وتعالى أسماء للسور القرآنية بإيحاء ذلك لنبيه محمد - صلى الله عليه وسلم – وأُطلق على كل سورة اسم من الأسماء ، ومن هذه الأسماء \" سورة المؤمنون\" وهذا الاسم أصبح علماً يُنقل ويحكى كما هو في الرفع والنصب والجر مع أنها اسم جمع مذكر سالم واسم فاعل جمع لكلمة \"مؤمن\" وتعرب كلمة \"المؤمنون\" : مضاف إليه مجرور بالكسرة المقدرة منع من ظهورها اشتغال المحل بحركة الحكاية للاسم على غير عادة إعراب جمع المذكر السالم. قال تعالى: \"قَدْ أَفْلَح المُؤمِنُونَ، الذينَ هُمْ في صَلاتِهِمْ خَاشِعُونَ . \" المؤمنون\" : جمع مذكر سالم مرفوع وعلامة رفعه الواو .' metadata={'source': '/content/الأخطاء اللغوية الشائعة (تنظيف).csv', 'row': 62}\n",
            "-------------\n"
          ]
        }
      ]
    },
    {
      "cell_type": "code",
      "source": [
        "chain = load_qa_chain(allam_llm, chain_type=\"stuff\")\n",
        "allam_response_RAG = chain.run(input_documents=docs, question=query)"
      ],
      "metadata": {
        "id": "lclEY2n6ggfV"
      },
      "execution_count": 138,
      "outputs": []
    },
    {
      "cell_type": "code",
      "source": [
        "print(\"Query: \" + query)\n",
        "print(\"Response: \" + allam_response_RAG)"
      ],
      "metadata": {
        "colab": {
          "base_uri": "https://localhost:8080/"
        },
        "id": "iyaGu4nseT2D",
        "outputId": "a85ce375-857a-4687-8daa-8f22efbe0edd"
      },
      "execution_count": 139,
      "outputs": [
        {
          "output_type": "stream",
          "name": "stdout",
          "text": [
            "Query: قم بتصحيح الجملة التالية (أعددت وسائلاً كثيرةً.) مع توضيح الخطأ اللغوي فيها واكتب الرد باللغة العربية. اكتب الرد على النحو التالي:\n",
            "الخطأ: الجملة\n",
            "الصواب: تصحيح الجملة\n",
            "التفسير: كتابة التفسير\n",
            "Response: \n",
            "\n",
            "الخطأ: أعددت وسائلاً كثيرةً.\n",
            "الصواب: أعددْتُ وسائل كثيرة.\n",
            "التفسير: لا يصح تنوين الممنوع من الصرف كما مرَّ \"وسائل\" وهذه الكلمة صيغة منتهى الجموع، وهذه الصيغة ممنوعة من الصرف أي التنوين فترفع بالضمة في حالة الرفع، وتنصب بالفتحة في حالة النصب وتجر بالفتحة في حالة الجر إلا إذا أضيفت أو عُرّفت بأل عندئذٍ تجر بالكسرة وهي الإعراب العادي الطبيعي. تقول : أُعجبتُ بالوسائل الحديثة. وتقول : أُعجبْتُ بوسائل المصادر التعليمية. \n"
          ]
        }
      ]
    },
    {
      "cell_type": "markdown",
      "source": [
        "### Paraphrase the Original Query"
      ],
      "metadata": {
        "id": "JB3mzAckBSpZ"
      }
    },
    {
      "cell_type": "code",
      "source": [
        "# define input query\n",
        "query = \"أعد صياغة الجملة التالية بخمس طرق غير متشابهة واجعل كل جملة في سطر جديد  : \" + Sentence"
      ],
      "metadata": {
        "id": "EkaNvtcNBYOO"
      },
      "execution_count": 88,
      "outputs": []
    },
    {
      "cell_type": "code",
      "source": [
        "allam_response_paraphrase = allam_llm(query)"
      ],
      "metadata": {
        "id": "vmZutuYOBhHt"
      },
      "execution_count": 89,
      "outputs": []
    },
    {
      "cell_type": "code",
      "source": [
        "print(\"Query: \" + query)\n",
        "print(\"Response: \" + allam_response_paraphrase)"
      ],
      "metadata": {
        "colab": {
          "base_uri": "https://localhost:8080/"
        },
        "id": "-0H7LzqoBhYb",
        "outputId": "ef05a855-5e21-4b37-e6af-fcb67cee8045"
      },
      "execution_count": 90,
      "outputs": [
        {
          "output_type": "stream",
          "name": "stdout",
          "text": [
            "Query: أعد صياغة الجملة التالية بخمس طرق غير متشابهة واجعل كل جملة في سطر جديد  : أَجِبْ عَلى الأسئلة الآتية.\n",
            "Response:  \n"
          ]
        }
      ]
    },
    {
      "cell_type": "markdown",
      "source": [
        "# 4. Evaluation"
      ],
      "metadata": {
        "id": "JBjepWAyEEpu"
      }
    },
    {
      "cell_type": "code",
      "source": [
        "# Function to find match in original file and return corrrections\n",
        "def get_ground_truth(csv_path, search_value):\n",
        "  df = pd.read_csv(csv_path)\n",
        "  # Filter the DataFrame based on column A value\n",
        "  match_val = df[df['Error'] == search_value]\n",
        "  df['Combined'] = match_val['Correction']+ \" \" + match_val['Explanation']\n",
        "  return df['Combined'].dropna().tolist()[0]"
      ],
      "metadata": {
        "colab": {
          "base_uri": "https://localhost:8080/",
          "height": 72
        },
        "id": "Z08r55y0MzJ5",
        "outputId": "df22a8fa-8dc5-4e34-81b7-83ecfedfe112"
      },
      "execution_count": null,
      "outputs": [
        {
          "output_type": "execute_result",
          "data": {
            "text/plain": [
              "'\\n  # Concatenate columns Correction and Explanation\\n  if not match_val.empty:\\n    #result = match_val.apply(lambda row: f\"{row[\\'Correction\\']} {row[\\'Explanation\\']}\", axis=1)\\n    result = match_val[\\'Correction\\']+ \" \" + match_val[\\'Explanation\\']\\n    return result\\n  else:\\n    return \"No match found.\"\\n  '"
            ],
            "application/vnd.google.colaboratory.intrinsic+json": {
              "type": "string"
            }
          },
          "metadata": {},
          "execution_count": 46
        }
      ]
    },
    {
      "cell_type": "code",
      "source": [
        "# Get ground truth\n",
        "real_response = get_ground_truth(\"/content/الأخطاء اللغوية الشائعة (تنظيف).csv\", query.split(\":\")[1].strip())"
      ],
      "metadata": {
        "id": "O2JvjcNLQV4I"
      },
      "execution_count": null,
      "outputs": []
    },
    {
      "cell_type": "code",
      "source": [
        "real_response"
      ],
      "metadata": {
        "colab": {
          "base_uri": "https://localhost:8080/",
          "height": 72
        },
        "id": "znae5GNSRDxr",
        "outputId": "151da0b9-874a-4a61-feb2-6aea5eac50b3"
      },
      "execution_count": null,
      "outputs": [
        {
          "output_type": "execute_result",
          "data": {
            "text/plain": [
              "'الطالبات كتبْنَ الدرس. الطالبات مبتدأ مرفوع وهو جمع مؤنث سالم ثم الفعل الذي يليه يجب أن يُسند لنون النسوة وليس إلى واو الجماعة كما ورد في الخطأ السابق. والفعل كتبن: فعل ماض مبني على السكون لاتصاله بنون النسوة، والنون ضمير مبني في محل رفع الفاعل والجملة من الفعل والفاعل في محل رفع خبر المبتدأ\" الطالبات وجاء في تعريف المبتدأ: \\r\\nمُبتدأً زَيْدٌ وَعادَرٌ خَبَرْ * إنْ قُلْتَ زِيدٌ عَاذِرٌ مَنِ اعْتذَرْ \\r\\nوأول مبتدأ والثاني* فاعل أغنى في : أسارٍ ذانِ؟'"
            ],
            "application/vnd.google.colaboratory.intrinsic+json": {
              "type": "string"
            }
          },
          "metadata": {},
          "execution_count": 48
        }
      ]
    },
    {
      "cell_type": "code",
      "source": [
        "allam_response_RAG_modified = allam_response_RAG.split(\"Explanation: \", 1)[1].strip()\n",
        "allam_response_RAG_modified"
      ],
      "metadata": {
        "colab": {
          "base_uri": "https://localhost:8080/",
          "height": 54
        },
        "id": "iYx5NDQl8RHA",
        "outputId": "fd8c4dde-b68d-463e-b46a-811b597e04a3"
      },
      "execution_count": null,
      "outputs": [
        {
          "output_type": "execute_result",
          "data": {
            "text/plain": [
              "'في الجملة الأصلية، تم استخدام \"كتبوا\" بدلاً من \"كتبْنَ\" مع الطالبات. الفعل \"كتبوا\" هو فعل ماضٍ للمذكر الغائب، ولكن في هذه الجملة، الفاعل هم الطالبات، وهن إناث. لذا يجب استخدام \"كتبْنَ\" بدلاً من \"كتبوا\" لأن \"كتبْنَ\" هو فعل ماضٍ للمذكر الغائب المؤنث. الطالبات كتبْنَ الدرس.'"
            ],
            "application/vnd.google.colaboratory.intrinsic+json": {
              "type": "string"
            }
          },
          "metadata": {},
          "execution_count": 52
        }
      ]
    },
    {
      "cell_type": "markdown",
      "source": [
        "Define Accuracy (Exact Match)"
      ],
      "metadata": {
        "id": "WnsI5FSyDuHS"
      }
    },
    {
      "cell_type": "code",
      "source": [
        "def calculate_accuracy(predictions, targets):\n",
        "    correct = sum([1 if pred == target else 0 for pred, target in zip(predictions, targets)])\n",
        "    accuracy = correct / len(targets)\n",
        "    return accuracy"
      ],
      "metadata": {
        "id": "hL0QUeIwDo3s"
      },
      "execution_count": null,
      "outputs": []
    },
    {
      "cell_type": "code",
      "source": [
        "# Calculate accuracy\n",
        "accuracy_score = calculate_accuracy(allam_response_RAG_modified, real_response)\n",
        "print(\"Accuracy Score:\", accuracy_score)"
      ],
      "metadata": {
        "colab": {
          "base_uri": "https://localhost:8080/"
        },
        "id": "wzIP8NF2QW-J",
        "outputId": "61041536-22a6-477f-920f-9d2e3ff8fbd8"
      },
      "execution_count": null,
      "outputs": [
        {
          "output_type": "stream",
          "name": "stdout",
          "text": [
            "Accuracy Score: 0.03571428571428571\n"
          ]
        }
      ]
    },
    {
      "cell_type": "markdown",
      "source": [
        "BLEU Score (Bilingual Evaluation Understudy)"
      ],
      "metadata": {
        "id": "tfoI5oM4EPiA"
      }
    },
    {
      "cell_type": "code",
      "source": [
        "def calculate_bleu(predictions, targets):\n",
        "    scores = [sentence_bleu([target.split()], pred.split()) for pred, target in zip(predictions, targets)]\n",
        "    return sum(scores) / len(scores)"
      ],
      "metadata": {
        "id": "_XgknR-bESkC"
      },
      "execution_count": null,
      "outputs": []
    },
    {
      "cell_type": "code",
      "source": [
        "# Calculate BLEU score\n",
        "bleu_score = calculate_bleu(allam_response_RAG_modified, real_response)\n",
        "print(\"BLEU Score:\", bleu_score)"
      ],
      "metadata": {
        "colab": {
          "base_uri": "https://localhost:8080/"
        },
        "id": "iisYH-JSQXss",
        "outputId": "5c84ae6b-c1e6-4a26-84b8-727388bfad73"
      },
      "execution_count": null,
      "outputs": [
        {
          "output_type": "stream",
          "name": "stdout",
          "text": [
            "BLEU Score: 6.050364540593388e-233\n"
          ]
        },
        {
          "output_type": "stream",
          "name": "stderr",
          "text": [
            "/usr/local/lib/python3.10/dist-packages/nltk/translate/bleu_score.py:552: UserWarning: \n",
            "The hypothesis contains 0 counts of 2-gram overlaps.\n",
            "Therefore the BLEU score evaluates to 0, independently of\n",
            "how many N-gram overlaps of lower order it contains.\n",
            "Consider using lower n-gram order or use SmoothingFunction()\n",
            "  warnings.warn(_msg)\n",
            "/usr/local/lib/python3.10/dist-packages/nltk/translate/bleu_score.py:552: UserWarning: \n",
            "The hypothesis contains 0 counts of 3-gram overlaps.\n",
            "Therefore the BLEU score evaluates to 0, independently of\n",
            "how many N-gram overlaps of lower order it contains.\n",
            "Consider using lower n-gram order or use SmoothingFunction()\n",
            "  warnings.warn(_msg)\n",
            "/usr/local/lib/python3.10/dist-packages/nltk/translate/bleu_score.py:552: UserWarning: \n",
            "The hypothesis contains 0 counts of 4-gram overlaps.\n",
            "Therefore the BLEU score evaluates to 0, independently of\n",
            "how many N-gram overlaps of lower order it contains.\n",
            "Consider using lower n-gram order or use SmoothingFunction()\n",
            "  warnings.warn(_msg)\n"
          ]
        }
      ]
    },
    {
      "cell_type": "markdown",
      "source": [
        "ROUGE Score"
      ],
      "metadata": {
        "id": "53ir0EsYEXQt"
      }
    },
    {
      "cell_type": "code",
      "source": [
        "def calculate_rouge(predictions, targets):\n",
        "    scorer = rouge_scorer.RougeScorer(['rouge1', 'rougeL'], use_stemmer=True)\n",
        "    scores = [scorer.score(target, pred) for pred, target in zip(predictions, targets)]\n",
        "    avg_rouge = {\n",
        "        'rouge1': sum([score['rouge1'].fmeasure for score in scores]) / len(scores),\n",
        "        'rougeL': sum([score['rougeL'].fmeasure for score in scores]) / len(scores),\n",
        "    }\n",
        "    return avg_rouge"
      ],
      "metadata": {
        "id": "0voKqkMYEVAE"
      },
      "execution_count": null,
      "outputs": []
    },
    {
      "cell_type": "code",
      "source": [
        "# Calculate ROUGE scores\n",
        "rouge_results = calculate_rouge(allam_response_RAG_modified, real_response)\n",
        "print(f\"Average ROUGE-1 F1 Score: {rouge_results['rouge1']}\")\n",
        "print(f\"Average ROUGE-L F1 Score: {rouge_results['rougeL']}\")"
      ],
      "metadata": {
        "colab": {
          "base_uri": "https://localhost:8080/"
        },
        "id": "F7Vu9ORzQckj",
        "outputId": "a5637184-8c3c-46e2-b245-e8c180a37cce"
      },
      "execution_count": null,
      "outputs": [
        {
          "output_type": "stream",
          "name": "stdout",
          "text": [
            "Average ROUGE-1 F1 Score: 0.0\n",
            "Average ROUGE-L F1 Score: 0.0\n"
          ]
        }
      ]
    },
    {
      "cell_type": "markdown",
      "source": [
        "# 5. Hyperparameter Tuning"
      ],
      "metadata": {
        "id": "-FHfvGEbAw0p"
      }
    },
    {
      "cell_type": "markdown",
      "source": [
        "Define test dataset"
      ],
      "metadata": {
        "id": "IFVsiLjBEp5R"
      }
    },
    {
      "cell_type": "code",
      "source": [
        "# Load the CSV file\n",
        "df = pd.read_csv('/content/الأخطاء اللغوية الشائعة (تنظيف).csv')\n",
        "\n",
        "# Display the first few rows to ensure it's loaded correctly\n",
        "df.head()"
      ],
      "metadata": {
        "colab": {
          "base_uri": "https://localhost:8080/",
          "height": 206
        },
        "id": "qN2qnXc4Es0T",
        "outputId": "817abf55-2057-4f1d-c5a9-077b62b7a5d1"
      },
      "execution_count": null,
      "outputs": [
        {
          "output_type": "execute_result",
          "data": {
            "text/plain": [
              "                            Error                      Correction  \\\n",
              "0          أُكتب المُلخص السبوري.           أكتب المُلخص السبوري.   \n",
              "1     أَجِبْ عَلى الأسئلة الآتية.      أَجِبْ عَن الأسئلة الآتية.   \n",
              "2  ملائمة الأهداف للخطة الموضوعة.  ملاءمة الأهداف للخطة الموضوعة.   \n",
              "3           معلموا المبحث نشيطون.            معلمو المبحث نشيطون.   \n",
              "4           أعددت وسائلاً كثيرةً.            أعددْتُ وسائل كثيرة.   \n",
              "\n",
              "                                         Explanation  \n",
              "0  الفعل \" اكتب \" فعل أمر للفعل الثلاثي للمخاطب ا...  \n",
              "1  \" أجب عن \" بدلاً من \" أجب على \" لأن الإجابة عن...  \n",
              "2  من الواضح أن كلمة \" ملاءمة\" بها همزة قبلها ألف...  \n",
              "3  كلمة \"معلمو\" أصلها \"معلمون\" اسم فاعل للفعل \"عَ...  \n",
              "4  لا يصح تنوين الممنوع من الصرف كما مرَّ \"وسائل\"...  "
            ],
            "text/html": [
              "\n",
              "  <div id=\"df-bce85a5a-08df-4464-bbe2-9f3055e4a03f\" class=\"colab-df-container\">\n",
              "    <div>\n",
              "<style scoped>\n",
              "    .dataframe tbody tr th:only-of-type {\n",
              "        vertical-align: middle;\n",
              "    }\n",
              "\n",
              "    .dataframe tbody tr th {\n",
              "        vertical-align: top;\n",
              "    }\n",
              "\n",
              "    .dataframe thead th {\n",
              "        text-align: right;\n",
              "    }\n",
              "</style>\n",
              "<table border=\"1\" class=\"dataframe\">\n",
              "  <thead>\n",
              "    <tr style=\"text-align: right;\">\n",
              "      <th></th>\n",
              "      <th>Error</th>\n",
              "      <th>Correction</th>\n",
              "      <th>Explanation</th>\n",
              "    </tr>\n",
              "  </thead>\n",
              "  <tbody>\n",
              "    <tr>\n",
              "      <th>0</th>\n",
              "      <td>أُكتب المُلخص السبوري.</td>\n",
              "      <td>أكتب المُلخص السبوري.</td>\n",
              "      <td>الفعل \" اكتب \" فعل أمر للفعل الثلاثي للمخاطب ا...</td>\n",
              "    </tr>\n",
              "    <tr>\n",
              "      <th>1</th>\n",
              "      <td>أَجِبْ عَلى الأسئلة الآتية.</td>\n",
              "      <td>أَجِبْ عَن الأسئلة الآتية.</td>\n",
              "      <td>\" أجب عن \" بدلاً من \" أجب على \" لأن الإجابة عن...</td>\n",
              "    </tr>\n",
              "    <tr>\n",
              "      <th>2</th>\n",
              "      <td>ملائمة الأهداف للخطة الموضوعة.</td>\n",
              "      <td>ملاءمة الأهداف للخطة الموضوعة.</td>\n",
              "      <td>من الواضح أن كلمة \" ملاءمة\" بها همزة قبلها ألف...</td>\n",
              "    </tr>\n",
              "    <tr>\n",
              "      <th>3</th>\n",
              "      <td>معلموا المبحث نشيطون.</td>\n",
              "      <td>معلمو المبحث نشيطون.</td>\n",
              "      <td>كلمة \"معلمو\" أصلها \"معلمون\" اسم فاعل للفعل \"عَ...</td>\n",
              "    </tr>\n",
              "    <tr>\n",
              "      <th>4</th>\n",
              "      <td>أعددت وسائلاً كثيرةً.</td>\n",
              "      <td>أعددْتُ وسائل كثيرة.</td>\n",
              "      <td>لا يصح تنوين الممنوع من الصرف كما مرَّ \"وسائل\"...</td>\n",
              "    </tr>\n",
              "  </tbody>\n",
              "</table>\n",
              "</div>\n",
              "    <div class=\"colab-df-buttons\">\n",
              "\n",
              "  <div class=\"colab-df-container\">\n",
              "    <button class=\"colab-df-convert\" onclick=\"convertToInteractive('df-bce85a5a-08df-4464-bbe2-9f3055e4a03f')\"\n",
              "            title=\"Convert this dataframe to an interactive table.\"\n",
              "            style=\"display:none;\">\n",
              "\n",
              "  <svg xmlns=\"http://www.w3.org/2000/svg\" height=\"24px\" viewBox=\"0 -960 960 960\">\n",
              "    <path d=\"M120-120v-720h720v720H120Zm60-500h600v-160H180v160Zm220 220h160v-160H400v160Zm0 220h160v-160H400v160ZM180-400h160v-160H180v160Zm440 0h160v-160H620v160ZM180-180h160v-160H180v160Zm440 0h160v-160H620v160Z\"/>\n",
              "  </svg>\n",
              "    </button>\n",
              "\n",
              "  <style>\n",
              "    .colab-df-container {\n",
              "      display:flex;\n",
              "      gap: 12px;\n",
              "    }\n",
              "\n",
              "    .colab-df-convert {\n",
              "      background-color: #E8F0FE;\n",
              "      border: none;\n",
              "      border-radius: 50%;\n",
              "      cursor: pointer;\n",
              "      display: none;\n",
              "      fill: #1967D2;\n",
              "      height: 32px;\n",
              "      padding: 0 0 0 0;\n",
              "      width: 32px;\n",
              "    }\n",
              "\n",
              "    .colab-df-convert:hover {\n",
              "      background-color: #E2EBFA;\n",
              "      box-shadow: 0px 1px 2px rgba(60, 64, 67, 0.3), 0px 1px 3px 1px rgba(60, 64, 67, 0.15);\n",
              "      fill: #174EA6;\n",
              "    }\n",
              "\n",
              "    .colab-df-buttons div {\n",
              "      margin-bottom: 4px;\n",
              "    }\n",
              "\n",
              "    [theme=dark] .colab-df-convert {\n",
              "      background-color: #3B4455;\n",
              "      fill: #D2E3FC;\n",
              "    }\n",
              "\n",
              "    [theme=dark] .colab-df-convert:hover {\n",
              "      background-color: #434B5C;\n",
              "      box-shadow: 0px 1px 3px 1px rgba(0, 0, 0, 0.15);\n",
              "      filter: drop-shadow(0px 1px 2px rgba(0, 0, 0, 0.3));\n",
              "      fill: #FFFFFF;\n",
              "    }\n",
              "  </style>\n",
              "\n",
              "    <script>\n",
              "      const buttonEl =\n",
              "        document.querySelector('#df-bce85a5a-08df-4464-bbe2-9f3055e4a03f button.colab-df-convert');\n",
              "      buttonEl.style.display =\n",
              "        google.colab.kernel.accessAllowed ? 'block' : 'none';\n",
              "\n",
              "      async function convertToInteractive(key) {\n",
              "        const element = document.querySelector('#df-bce85a5a-08df-4464-bbe2-9f3055e4a03f');\n",
              "        const dataTable =\n",
              "          await google.colab.kernel.invokeFunction('convertToInteractive',\n",
              "                                                    [key], {});\n",
              "        if (!dataTable) return;\n",
              "\n",
              "        const docLinkHtml = 'Like what you see? Visit the ' +\n",
              "          '<a target=\"_blank\" href=https://colab.research.google.com/notebooks/data_table.ipynb>data table notebook</a>'\n",
              "          + ' to learn more about interactive tables.';\n",
              "        element.innerHTML = '';\n",
              "        dataTable['output_type'] = 'display_data';\n",
              "        await google.colab.output.renderOutput(dataTable, element);\n",
              "        const docLink = document.createElement('div');\n",
              "        docLink.innerHTML = docLinkHtml;\n",
              "        element.appendChild(docLink);\n",
              "      }\n",
              "    </script>\n",
              "  </div>\n",
              "\n",
              "\n",
              "<div id=\"df-33b3120e-1bf5-4498-89df-601aebcc1b33\">\n",
              "  <button class=\"colab-df-quickchart\" onclick=\"quickchart('df-33b3120e-1bf5-4498-89df-601aebcc1b33')\"\n",
              "            title=\"Suggest charts\"\n",
              "            style=\"display:none;\">\n",
              "\n",
              "<svg xmlns=\"http://www.w3.org/2000/svg\" height=\"24px\"viewBox=\"0 0 24 24\"\n",
              "     width=\"24px\">\n",
              "    <g>\n",
              "        <path d=\"M19 3H5c-1.1 0-2 .9-2 2v14c0 1.1.9 2 2 2h14c1.1 0 2-.9 2-2V5c0-1.1-.9-2-2-2zM9 17H7v-7h2v7zm4 0h-2V7h2v10zm4 0h-2v-4h2v4z\"/>\n",
              "    </g>\n",
              "</svg>\n",
              "  </button>\n",
              "\n",
              "<style>\n",
              "  .colab-df-quickchart {\n",
              "      --bg-color: #E8F0FE;\n",
              "      --fill-color: #1967D2;\n",
              "      --hover-bg-color: #E2EBFA;\n",
              "      --hover-fill-color: #174EA6;\n",
              "      --disabled-fill-color: #AAA;\n",
              "      --disabled-bg-color: #DDD;\n",
              "  }\n",
              "\n",
              "  [theme=dark] .colab-df-quickchart {\n",
              "      --bg-color: #3B4455;\n",
              "      --fill-color: #D2E3FC;\n",
              "      --hover-bg-color: #434B5C;\n",
              "      --hover-fill-color: #FFFFFF;\n",
              "      --disabled-bg-color: #3B4455;\n",
              "      --disabled-fill-color: #666;\n",
              "  }\n",
              "\n",
              "  .colab-df-quickchart {\n",
              "    background-color: var(--bg-color);\n",
              "    border: none;\n",
              "    border-radius: 50%;\n",
              "    cursor: pointer;\n",
              "    display: none;\n",
              "    fill: var(--fill-color);\n",
              "    height: 32px;\n",
              "    padding: 0;\n",
              "    width: 32px;\n",
              "  }\n",
              "\n",
              "  .colab-df-quickchart:hover {\n",
              "    background-color: var(--hover-bg-color);\n",
              "    box-shadow: 0 1px 2px rgba(60, 64, 67, 0.3), 0 1px 3px 1px rgba(60, 64, 67, 0.15);\n",
              "    fill: var(--button-hover-fill-color);\n",
              "  }\n",
              "\n",
              "  .colab-df-quickchart-complete:disabled,\n",
              "  .colab-df-quickchart-complete:disabled:hover {\n",
              "    background-color: var(--disabled-bg-color);\n",
              "    fill: var(--disabled-fill-color);\n",
              "    box-shadow: none;\n",
              "  }\n",
              "\n",
              "  .colab-df-spinner {\n",
              "    border: 2px solid var(--fill-color);\n",
              "    border-color: transparent;\n",
              "    border-bottom-color: var(--fill-color);\n",
              "    animation:\n",
              "      spin 1s steps(1) infinite;\n",
              "  }\n",
              "\n",
              "  @keyframes spin {\n",
              "    0% {\n",
              "      border-color: transparent;\n",
              "      border-bottom-color: var(--fill-color);\n",
              "      border-left-color: var(--fill-color);\n",
              "    }\n",
              "    20% {\n",
              "      border-color: transparent;\n",
              "      border-left-color: var(--fill-color);\n",
              "      border-top-color: var(--fill-color);\n",
              "    }\n",
              "    30% {\n",
              "      border-color: transparent;\n",
              "      border-left-color: var(--fill-color);\n",
              "      border-top-color: var(--fill-color);\n",
              "      border-right-color: var(--fill-color);\n",
              "    }\n",
              "    40% {\n",
              "      border-color: transparent;\n",
              "      border-right-color: var(--fill-color);\n",
              "      border-top-color: var(--fill-color);\n",
              "    }\n",
              "    60% {\n",
              "      border-color: transparent;\n",
              "      border-right-color: var(--fill-color);\n",
              "    }\n",
              "    80% {\n",
              "      border-color: transparent;\n",
              "      border-right-color: var(--fill-color);\n",
              "      border-bottom-color: var(--fill-color);\n",
              "    }\n",
              "    90% {\n",
              "      border-color: transparent;\n",
              "      border-bottom-color: var(--fill-color);\n",
              "    }\n",
              "  }\n",
              "</style>\n",
              "\n",
              "  <script>\n",
              "    async function quickchart(key) {\n",
              "      const quickchartButtonEl =\n",
              "        document.querySelector('#' + key + ' button');\n",
              "      quickchartButtonEl.disabled = true;  // To prevent multiple clicks.\n",
              "      quickchartButtonEl.classList.add('colab-df-spinner');\n",
              "      try {\n",
              "        const charts = await google.colab.kernel.invokeFunction(\n",
              "            'suggestCharts', [key], {});\n",
              "      } catch (error) {\n",
              "        console.error('Error during call to suggestCharts:', error);\n",
              "      }\n",
              "      quickchartButtonEl.classList.remove('colab-df-spinner');\n",
              "      quickchartButtonEl.classList.add('colab-df-quickchart-complete');\n",
              "    }\n",
              "    (() => {\n",
              "      let quickchartButtonEl =\n",
              "        document.querySelector('#df-33b3120e-1bf5-4498-89df-601aebcc1b33 button');\n",
              "      quickchartButtonEl.style.display =\n",
              "        google.colab.kernel.accessAllowed ? 'block' : 'none';\n",
              "    })();\n",
              "  </script>\n",
              "</div>\n",
              "\n",
              "    </div>\n",
              "  </div>\n"
            ],
            "application/vnd.google.colaboratory.intrinsic+json": {
              "type": "dataframe",
              "variable_name": "df",
              "summary": "{\n  \"name\": \"df\",\n  \"rows\": 84,\n  \"fields\": [\n    {\n      \"column\": \"Error\",\n      \"properties\": {\n        \"dtype\": \"string\",\n        \"num_unique_values\": 83,\n        \"samples\": [\n          \"\\u064a\\u0642\\u0648\\u0644\\u064f \\u0627\\u0644\\u0645\\u0639\\u0644\\u0645\\u064f \\u0639\\u0646 \\u0646\\u0641\\u0633\\u0647 : \\u0642\\u064e\\u0631\\u064e\\u0623\\u0652\\u062a\\u064e \\u0627\\u0644\\u0643\\u062a\\u0627\\u0628.\",\n          \"\\u0623\\u064f\\u0643\\u062a\\u0628 \\u0627\\u0644\\u0645\\u064f\\u0644\\u062e\\u0635 \\u0627\\u0644\\u0633\\u0628\\u0648\\u0631\\u064a.\",\n          \"\\u062e\\u064e\\u0636\\u0652\\u0631\\u064e\\u0648\\u0627\\u062a\\u064f \\u0641\\u0650\\u0644\\u064e\\u0633\\u0652\\u0637\\u0650\\u064a\\u0646\\u064e \\u0645\\u062a\\u0646\\u0648\\u0639\\u0629.\"\n        ],\n        \"semantic_type\": \"\",\n        \"description\": \"\"\n      }\n    },\n    {\n      \"column\": \"Correction\",\n      \"properties\": {\n        \"dtype\": \"string\",\n        \"num_unique_values\": 83,\n        \"samples\": [\n          \"\\u064a\\u0642\\u0648\\u0644\\u064f \\u0627\\u0644\\u0645\\u0639\\u0644\\u0645 \\u0639\\u0646 \\u0646\\u0641\\u0633\\u0647 : \\u0642\\u064e\\u0631\\u064e\\u0623\\u0652\\u062a\\u064f \\u0627\\u0644\\u0643\\u062a\\u0627\\u0628.\",\n          \"\\u0623\\u0643\\u062a\\u0628 \\u0627\\u0644\\u0645\\u064f\\u0644\\u062e\\u0635 \\u0627\\u0644\\u0633\\u0628\\u0648\\u0631\\u064a.\",\n          \"\\u062e\\u064e\\u0636\\u0652\\u0631\\u0627\\u0648\\u064e\\u0627\\u062a\\u064f \\u0641\\u0650\\u0644\\u064e\\u0633\\u0652\\u0637\\u0650\\u064a\\u0646\\u064e \\u0645\\u062a\\u0646\\u0648\\u0639\\u0629.\"\n        ],\n        \"semantic_type\": \"\",\n        \"description\": \"\"\n      }\n    },\n    {\n      \"column\": \"Explanation\",\n      \"properties\": {\n        \"dtype\": \"string\",\n        \"num_unique_values\": 83,\n        \"samples\": [\n          \"\\u0644\\u0627 \\u064a\\u0635\\u062d \\u0644\\u0644\\u0645\\u062a\\u0643\\u0644\\u0645 \\u0627\\u0644\\u0645\\u0639\\u0628\\u0631 \\u0639\\u0646 \\u0646\\u0641\\u0633\\u0647 \\u0623\\u0646 \\u064a\\u0642\\u0648\\u0644: \\u0642\\u0631\\u0623\\u062a \\u0648\\u0625\\u0644\\u0627 \\u0623\\u0635\\u0628\\u062d \\u0645\\u0639\\u0646\\u0649 \\u0622\\u062e\\u0631 \\u063a\\u064a\\u0631 \\u0627\\u0644\\u0645\\u0631\\u0627\\u062f\\u060c \\u0648\\u0627\\u0644\\u0645\\u062a\\u062d\\u062f\\u062b \\u0627\\u0644\\u0630\\u064a \\u064a\\u062a\\u0643\\u0644\\u0645 \\u0639\\u0646 \\u0646\\u0641\\u0633\\u0647 \\u064a\\u062c\\u0628 \\u0623\\u0646 \\u064a\\u0642\\u0648\\u0644 : \\u0642\\u0631\\u0623\\u062a\\u064f\\u060c \\u0633\\u0645\\u0639\\u062a\\u064f\\u060c \\u0634\\u0627\\u0647\\u062f\\u062a\\u064f\\u060c \\u0631\\u0623\\u064a\\u0652\\u062a\\u064f. \\u0648\\u0647\\u0643\\u0630\\u0627. \\u0647\\u0630\\u0627 \\u0648\\u0644\\u0648 \\u0623\\u0646\\u064e\\u0651 \\u0642\\u0627\\u0631\\u0626\\u0627\\u064b \\u0642\\u0631\\u0623 \\u0627\\u0644\\u0641\\u0627\\u062a\\u062d\\u0629 \\u0645\\u0646 \\u0627\\u0644\\u0642\\u0631\\u0622\\u0646 \\u0627\\u0644\\u0643\\u0631\\u064a\\u0645 \\u0641\\u0642\\u0627\\u0644: \\\"\\u0635\\u0650\\u0631\\u0627\\u0637\\u064e \\u0627\\u0644\\u064e\\u0651\\u0630\\u0650\\u064a\\u0646\\u064e \\u0623\\u0646\\u0639\\u0645\\u062a\\u064f \\u0639\\u0644\\u064a\\u0647\\u0645 \\u0644\\u0643\\u0627\\u0646 \\u0645\\u0639\\u0646\\u0627\\u0647 : \\u0623\\u0646\\u0647 \\u0627\\u0644\\u0645\\u0646\\u0639\\u0645 \\u060c \\u0645\\u0639 \\u0623\\u0646 \\u0627\\u0644\\u0622\\u064a\\u0629 \\u062c\\u0627\\u0621\\u062a: \\\"\\u0635\\u0650\\u0631\\u0627\\u0637\\u064e \\u0627\\u0644\\u064e\\u0651\\u0630\\u064a\\u0646\\u064e \\u0623\\u0646\\u0639\\u0645\\u062a \\u0639\\u0644\\u064a\\u0647\\u0645\\\". \\u0648\\u0627\\u0644\\u0645\\u0639\\u0646\\u0649: \\u0623\\u064e\\u0646\\u064e\\u0651 \\u0627\\u0644\\u0652\\u0645\\u064f\\u0646\\u0652\\u0639\\u0650\\u0645\\u064e \\u0647\\u0648 \\u0627\\u0644\\u0644\\u0647 \\u062a\\u0639\\u0627\\u0644\\u0649\\u060c \\u0648\\u0644\\u0627\\u062d\\u0638 \\u0627\\u0644\\u0641\\u0631\\u0642 \\u0628\\u064a\\u0646 \\u0627\\u0644\\u062a\\u0639\\u0628\\u064a\\u0631\\u064a\\u0646 \\u0627\\u0644\\u0633\\u0627\\u0628\\u0642\\u064a\\u0646\\u061b \\u0644\\u0647\\u0630\\u0627 \\u0646\\u062d\\u0631\\u0635 \\u0639\\u0644\\u0649 \\u062f\\u0642\\u0629 \\u0627\\u0644\\u062d\\u0631\\u0643\\u0629 \\u0641\\u064a \\u0627\\u0644\\u0644\\u063a\\u0629 \\u0627\\u0644\\u0639\\u0631\\u0628\\u064a\\u0629 \\u0644\\u062f\\u0644\\u0627\\u0644\\u062a\\u0647\\u0627 \\u0639\\u0644\\u0649 \\u0627\\u0644\\u0645\\u0639\\u0646\\u0649 \\u0627\\u0644\\u062f\\u0642\\u064a\\u0642 \\u0648\\u0627\\u0644\\u0645\\u0631\\u0627\\u062f \\u0628\\u0634\\u0643\\u0644 \\u0644\\u0627 \\u064a\\u063a\\u064a\\u0651\\u0631 \\u0627\\u0644\\u0645\\u0639\\u0646\\u0649 \\u0627\\u0644\\u0645\\u0642\\u0635\\u0648\\u062f.\",\n          \"\\u0627\\u0644\\u0641\\u0639\\u0644 \\\" \\u0627\\u0643\\u062a\\u0628 \\\" \\u0641\\u0639\\u0644 \\u0623\\u0645\\u0631 \\u0644\\u0644\\u0641\\u0639\\u0644 \\u0627\\u0644\\u062b\\u0644\\u0627\\u062b\\u064a \\u0644\\u0644\\u0645\\u062e\\u0627\\u0637\\u0628 \\u0627\\u0644\\u0645\\u0630\\u0643\\u0631 \\u0648\\u0648\\u0627\\u0636\\u062d \\u0623\\u0646 \\u0641\\u0639\\u0644 \\u0627\\u0644\\u0623\\u0645\\u0631 \\u0647\\u0645\\u0632\\u062a\\u0647 \\u0648\\u0635\\u0644\\u060c \\u0644\\u0630\\u0627 \\u0644\\u0627 \\u064a\\u0635\\u062d \\u0648\\u0636\\u0639 \\u0647\\u0645\\u0632\\u0629 \\u0627\\u0644\\u0642\\u0637\\u0639 \\u0639\\u0644\\u0649 \\u0647\\u0645\\u0632\\u0629 \\u0627\\u0644\\u0648\\u0635\\u0644 \\u0643\\u0645\\u0627 \\u0647\\u0648 \\u0645\\u0628\\u064a\\u0646 \\u0641\\u064a \\u0623\\u0639\\u0644\\u0649 \\u0627\\u0644\\u0635\\u0641\\u062d\\u0629. \\u0648\\u0647\\u0630\\u0627 \\u062e\\u0637\\u0623 \\u0643\\u062b\\u064a\\u0631 \\u0648\\u0634\\u0627\\u0626\\u0639 \\u0644\\u062f\\u0649 \\u0627\\u0644\\u0643\\u062b\\u064a\\u0631 \\u0645\\u0646 \\u0627\\u0644\\u0645\\u062a\\u062d\\u062f\\u062b\\u064a\\u0646 \\u0628\\u0627\\u0644\\u0644\\u063a\\u0629 \\u0627\\u0644\\u0639\\u0631\\u0628\\u064a\\u0629 \\u0627\\u0644\\u0645\\u0639\\u0627\\u0635\\u0631\\u0629 \\u0648\\u0642\\u0627\\u0644 \\u062a\\u0639\\u0627\\u0644\\u0649 : \\u0648\\u0642\\u064f\\u0644\\u0652\\u0646\\u0627\\\" \\u064a\\u0627 \\u0622\\u062f\\u064e\\u0645\\u064f \\u0627\\u0633\\u0652\\u0643\\u064f\\u0646\\u0652 \\u0623\\u064e\\u0646\\u0652\\u062a\\u064e \\u0648\\u064e\\u0632\\u064e\\u0648\\u0652\\u062c\\u0650\\u0643\\u064e \\u0627\\u0644\\u062c\\u0646\\u0629\\\" \\u0648\\u0627\\u0644\\u0622\\u064a\\u0629 \\u0627\\u0644\\u0642\\u0631\\u0622\\u0646\\u064a\\u0629 \\u0630\\u0643\\u0631\\u062a \\u0641\\u0639\\u0644 \\u0627\\u0644\\u0623\\u0645\\u0631 \\\" \\u0627\\u0633\\u0643\\u0646 \\\" \\u0627\\u0644\\u0630\\u064a \\u0647\\u0645\\u0632\\u062a\\u0647 \\u0647\\u0645\\u0632\\u0629 \\u0648\\u0635\\u0644 \\u0644\\u0623\\u0646\\u0647 \\u0623\\u0645\\u0631 \\u0627\\u0644\\u0641\\u0639\\u0644 \\u0627\\u0644\\u062b\\u0644\\u0627\\u062b\\u064a. \\u0648\\u0647\\u0643\\u0630\\u0627 \\u0643\\u0644 \\u0641\\u0639\\u0644 \\u0623\\u0645\\u0631 \\u0639\\u0644\\u0649 \\u0634\\u0627\\u0643\\u0644\\u062a\\u0647.\",\n          \"\\u0644\\u0627 \\u064a\\u0635\\u062d \\u062d\\u0630\\u0641 \\u0627\\u0644\\u0623\\u0644\\u0641 \\u0641\\u064a \\u0643\\u0644\\u0645\\u0629 \\u062e\\u0636\\u0631\\u0627\\u0648\\u0627\\u062a\\u061b \\u0644\\u0623\\u0646 \\u0643\\u0644\\u0645\\u0629 \\u062e\\u0636\\u0631\\u0627\\u0621 \\u0647\\u0645\\u0632\\u062a\\u0647\\u0627 \\u0632\\u0627\\u0626\\u062f\\u0629 \\u0644\\u0644\\u062a\\u0623\\u0646\\u064a\\u062b \\u0641\\u062a\\u0642\\u0644\\u0628 \\u0627\\u0644\\u0647\\u0645\\u0632\\u0629 \\u0648\\u0627\\u0648\\u0627\\u064b \\u0639\\u0646\\u062f \\u0627\\u0644\\u062c\\u0645\\u0639 \\u062c\\u0645\\u0639 \\u0645\\u0624\\u0646\\u062b \\u0633\\u0627\\u0644\\u0645\\u0627\\u064b \\u0641\\u062a\\u0642\\u0648\\u0644 : \\u062e\\u0636\\u0631\\u0627\\u0648\\u0627\\u062a. \\u0648\\u0647\\u0643\\u0630\\u0627 \\u0623\\u0645\\u0627 \\u062d\\u0630\\u0641 \\u0627\\u0644\\u0623\\u0644\\u0641 \\u0641\\u0644\\u0627 \\u062f\\u0644\\u064a\\u0644 \\u0639\\u0644\\u0649 \\u0635\\u062d\\u0629 \\u0648\\u062f\\u0642\\u0629 \\u0647\\u0630\\u0627 \\u0627\\u0644\\u062d\\u0630\\u0641. \\u0648\\u062e\\u0636\\u0631\\u0627\\u0648\\u0627\\u062a : \\u0645\\u0628\\u062a\\u062f\\u0623 \\u0645\\u0631\\u0641\\u0648\\u0639 \\u0648\\u0639\\u0644\\u0627\\u0645\\u0629 \\u0631\\u0641\\u0639\\u0647 \\u0627\\u0644\\u0636\\u0645\\u0629 \\u0627\\u0644\\u0638\\u0627\\u0647\\u0631\\u0629 \\u0639\\u0644\\u0649 \\u0622\\u062e\\u0631\\u0647. \\u0648\\u0641\\u0644\\u0633\\u0637\\u064a\\u0646: \\u0645\\u0636\\u0627\\u0641 \\u0625\\u0644\\u064a\\u0647 \\u0645\\u062c\\u0631\\u0648\\u0631 \\u0648\\u0639\\u0644\\u0627\\u0645\\u0629 \\u062c\\u0631\\u0647 \\u0627\\u0644\\u0641\\u062a\\u062d\\u0629 \\u0646\\u064a\\u0627\\u0628\\u0629 \\u0639\\u0646 \\u0627\\u0644\\u0643\\u0633\\u0631\\u0629\\u061b \\u0644\\u0623\\u0646\\u0647 \\u0645\\u0645\\u0646\\u0648\\u0639 \\u0645\\u0646 \\u0627\\u0644\\u0635\\u0631\\u0641 \\u0628\\u0633\\u0628\\u0628 \\u0627\\u0644\\u0639\\u0644\\u0645\\u064a\\u0629 \\u0648\\u0627\\u0644\\u0639\\u062c\\u0645\\u0629. \\u0648\\u0645\\u062a\\u0646\\u0648\\u0639\\u0629 : \\u062e\\u0628\\u0631 \\u0627\\u0644\\u0645\\u0628\\u062a\\u062f\\u0623 \\u0645\\u0631\\u0641\\u0648\\u0639 \\u0648\\u0639\\u0644\\u0627\\u0645\\u0629 \\u0631\\u0641\\u0639\\u0647 \\u0627\\u0644\\u0636\\u0645\\u0629 \\u0627\\u0644\\u0638\\u0627\\u0647\\u0631\\u0629 \\u0639\\u0644\\u0649 \\u0622\\u062e\\u0631\\u0647.\"\n        ],\n        \"semantic_type\": \"\",\n        \"description\": \"\"\n      }\n    }\n  ]\n}"
            }
          },
          "metadata": {},
          "execution_count": 27
        }
      ]
    },
    {
      "cell_type": "code",
      "source": [
        "# Merge the correction and explanation columns into a new column\n",
        "df['Correction_with_Explanation'] = df['Correction'] + \" - \" + df['Explanation']\n",
        "df.head()"
      ],
      "metadata": {
        "colab": {
          "base_uri": "https://localhost:8080/",
          "height": 206
        },
        "id": "lfQLnzFnGb9B",
        "outputId": "ff6a4ae2-bd81-41da-b5e6-c14090ae505a"
      },
      "execution_count": null,
      "outputs": [
        {
          "output_type": "execute_result",
          "data": {
            "text/plain": [
              "                            Error                      Correction  \\\n",
              "0          أُكتب المُلخص السبوري.           أكتب المُلخص السبوري.   \n",
              "1     أَجِبْ عَلى الأسئلة الآتية.      أَجِبْ عَن الأسئلة الآتية.   \n",
              "2  ملائمة الأهداف للخطة الموضوعة.  ملاءمة الأهداف للخطة الموضوعة.   \n",
              "3           معلموا المبحث نشيطون.            معلمو المبحث نشيطون.   \n",
              "4           أعددت وسائلاً كثيرةً.            أعددْتُ وسائل كثيرة.   \n",
              "\n",
              "                                         Explanation  \\\n",
              "0  الفعل \" اكتب \" فعل أمر للفعل الثلاثي للمخاطب ا...   \n",
              "1  \" أجب عن \" بدلاً من \" أجب على \" لأن الإجابة عن...   \n",
              "2  من الواضح أن كلمة \" ملاءمة\" بها همزة قبلها ألف...   \n",
              "3  كلمة \"معلمو\" أصلها \"معلمون\" اسم فاعل للفعل \"عَ...   \n",
              "4  لا يصح تنوين الممنوع من الصرف كما مرَّ \"وسائل\"...   \n",
              "\n",
              "                         Correction_with_Explanation  \n",
              "0  أكتب المُلخص السبوري. - الفعل \" اكتب \" فعل أمر...  \n",
              "1  أَجِبْ عَن الأسئلة الآتية. - \" أجب عن \" بدلاً ...  \n",
              "2  ملاءمة الأهداف للخطة الموضوعة. - من الواضح أن ...  \n",
              "3  معلمو المبحث نشيطون. - كلمة \"معلمو\" أصلها \"معل...  \n",
              "4  أعددْتُ وسائل كثيرة. - لا يصح تنوين الممنوع من...  "
            ],
            "text/html": [
              "\n",
              "  <div id=\"df-92bf3935-1c29-465f-8955-ed444b81fc58\" class=\"colab-df-container\">\n",
              "    <div>\n",
              "<style scoped>\n",
              "    .dataframe tbody tr th:only-of-type {\n",
              "        vertical-align: middle;\n",
              "    }\n",
              "\n",
              "    .dataframe tbody tr th {\n",
              "        vertical-align: top;\n",
              "    }\n",
              "\n",
              "    .dataframe thead th {\n",
              "        text-align: right;\n",
              "    }\n",
              "</style>\n",
              "<table border=\"1\" class=\"dataframe\">\n",
              "  <thead>\n",
              "    <tr style=\"text-align: right;\">\n",
              "      <th></th>\n",
              "      <th>Error</th>\n",
              "      <th>Correction</th>\n",
              "      <th>Explanation</th>\n",
              "      <th>Correction_with_Explanation</th>\n",
              "    </tr>\n",
              "  </thead>\n",
              "  <tbody>\n",
              "    <tr>\n",
              "      <th>0</th>\n",
              "      <td>أُكتب المُلخص السبوري.</td>\n",
              "      <td>أكتب المُلخص السبوري.</td>\n",
              "      <td>الفعل \" اكتب \" فعل أمر للفعل الثلاثي للمخاطب ا...</td>\n",
              "      <td>أكتب المُلخص السبوري. - الفعل \" اكتب \" فعل أمر...</td>\n",
              "    </tr>\n",
              "    <tr>\n",
              "      <th>1</th>\n",
              "      <td>أَجِبْ عَلى الأسئلة الآتية.</td>\n",
              "      <td>أَجِبْ عَن الأسئلة الآتية.</td>\n",
              "      <td>\" أجب عن \" بدلاً من \" أجب على \" لأن الإجابة عن...</td>\n",
              "      <td>أَجِبْ عَن الأسئلة الآتية. - \" أجب عن \" بدلاً ...</td>\n",
              "    </tr>\n",
              "    <tr>\n",
              "      <th>2</th>\n",
              "      <td>ملائمة الأهداف للخطة الموضوعة.</td>\n",
              "      <td>ملاءمة الأهداف للخطة الموضوعة.</td>\n",
              "      <td>من الواضح أن كلمة \" ملاءمة\" بها همزة قبلها ألف...</td>\n",
              "      <td>ملاءمة الأهداف للخطة الموضوعة. - من الواضح أن ...</td>\n",
              "    </tr>\n",
              "    <tr>\n",
              "      <th>3</th>\n",
              "      <td>معلموا المبحث نشيطون.</td>\n",
              "      <td>معلمو المبحث نشيطون.</td>\n",
              "      <td>كلمة \"معلمو\" أصلها \"معلمون\" اسم فاعل للفعل \"عَ...</td>\n",
              "      <td>معلمو المبحث نشيطون. - كلمة \"معلمو\" أصلها \"معل...</td>\n",
              "    </tr>\n",
              "    <tr>\n",
              "      <th>4</th>\n",
              "      <td>أعددت وسائلاً كثيرةً.</td>\n",
              "      <td>أعددْتُ وسائل كثيرة.</td>\n",
              "      <td>لا يصح تنوين الممنوع من الصرف كما مرَّ \"وسائل\"...</td>\n",
              "      <td>أعددْتُ وسائل كثيرة. - لا يصح تنوين الممنوع من...</td>\n",
              "    </tr>\n",
              "  </tbody>\n",
              "</table>\n",
              "</div>\n",
              "    <div class=\"colab-df-buttons\">\n",
              "\n",
              "  <div class=\"colab-df-container\">\n",
              "    <button class=\"colab-df-convert\" onclick=\"convertToInteractive('df-92bf3935-1c29-465f-8955-ed444b81fc58')\"\n",
              "            title=\"Convert this dataframe to an interactive table.\"\n",
              "            style=\"display:none;\">\n",
              "\n",
              "  <svg xmlns=\"http://www.w3.org/2000/svg\" height=\"24px\" viewBox=\"0 -960 960 960\">\n",
              "    <path d=\"M120-120v-720h720v720H120Zm60-500h600v-160H180v160Zm220 220h160v-160H400v160Zm0 220h160v-160H400v160ZM180-400h160v-160H180v160Zm440 0h160v-160H620v160ZM180-180h160v-160H180v160Zm440 0h160v-160H620v160Z\"/>\n",
              "  </svg>\n",
              "    </button>\n",
              "\n",
              "  <style>\n",
              "    .colab-df-container {\n",
              "      display:flex;\n",
              "      gap: 12px;\n",
              "    }\n",
              "\n",
              "    .colab-df-convert {\n",
              "      background-color: #E8F0FE;\n",
              "      border: none;\n",
              "      border-radius: 50%;\n",
              "      cursor: pointer;\n",
              "      display: none;\n",
              "      fill: #1967D2;\n",
              "      height: 32px;\n",
              "      padding: 0 0 0 0;\n",
              "      width: 32px;\n",
              "    }\n",
              "\n",
              "    .colab-df-convert:hover {\n",
              "      background-color: #E2EBFA;\n",
              "      box-shadow: 0px 1px 2px rgba(60, 64, 67, 0.3), 0px 1px 3px 1px rgba(60, 64, 67, 0.15);\n",
              "      fill: #174EA6;\n",
              "    }\n",
              "\n",
              "    .colab-df-buttons div {\n",
              "      margin-bottom: 4px;\n",
              "    }\n",
              "\n",
              "    [theme=dark] .colab-df-convert {\n",
              "      background-color: #3B4455;\n",
              "      fill: #D2E3FC;\n",
              "    }\n",
              "\n",
              "    [theme=dark] .colab-df-convert:hover {\n",
              "      background-color: #434B5C;\n",
              "      box-shadow: 0px 1px 3px 1px rgba(0, 0, 0, 0.15);\n",
              "      filter: drop-shadow(0px 1px 2px rgba(0, 0, 0, 0.3));\n",
              "      fill: #FFFFFF;\n",
              "    }\n",
              "  </style>\n",
              "\n",
              "    <script>\n",
              "      const buttonEl =\n",
              "        document.querySelector('#df-92bf3935-1c29-465f-8955-ed444b81fc58 button.colab-df-convert');\n",
              "      buttonEl.style.display =\n",
              "        google.colab.kernel.accessAllowed ? 'block' : 'none';\n",
              "\n",
              "      async function convertToInteractive(key) {\n",
              "        const element = document.querySelector('#df-92bf3935-1c29-465f-8955-ed444b81fc58');\n",
              "        const dataTable =\n",
              "          await google.colab.kernel.invokeFunction('convertToInteractive',\n",
              "                                                    [key], {});\n",
              "        if (!dataTable) return;\n",
              "\n",
              "        const docLinkHtml = 'Like what you see? Visit the ' +\n",
              "          '<a target=\"_blank\" href=https://colab.research.google.com/notebooks/data_table.ipynb>data table notebook</a>'\n",
              "          + ' to learn more about interactive tables.';\n",
              "        element.innerHTML = '';\n",
              "        dataTable['output_type'] = 'display_data';\n",
              "        await google.colab.output.renderOutput(dataTable, element);\n",
              "        const docLink = document.createElement('div');\n",
              "        docLink.innerHTML = docLinkHtml;\n",
              "        element.appendChild(docLink);\n",
              "      }\n",
              "    </script>\n",
              "  </div>\n",
              "\n",
              "\n",
              "<div id=\"df-7b12e96d-24d4-43cf-bbe2-387b20112cf7\">\n",
              "  <button class=\"colab-df-quickchart\" onclick=\"quickchart('df-7b12e96d-24d4-43cf-bbe2-387b20112cf7')\"\n",
              "            title=\"Suggest charts\"\n",
              "            style=\"display:none;\">\n",
              "\n",
              "<svg xmlns=\"http://www.w3.org/2000/svg\" height=\"24px\"viewBox=\"0 0 24 24\"\n",
              "     width=\"24px\">\n",
              "    <g>\n",
              "        <path d=\"M19 3H5c-1.1 0-2 .9-2 2v14c0 1.1.9 2 2 2h14c1.1 0 2-.9 2-2V5c0-1.1-.9-2-2-2zM9 17H7v-7h2v7zm4 0h-2V7h2v10zm4 0h-2v-4h2v4z\"/>\n",
              "    </g>\n",
              "</svg>\n",
              "  </button>\n",
              "\n",
              "<style>\n",
              "  .colab-df-quickchart {\n",
              "      --bg-color: #E8F0FE;\n",
              "      --fill-color: #1967D2;\n",
              "      --hover-bg-color: #E2EBFA;\n",
              "      --hover-fill-color: #174EA6;\n",
              "      --disabled-fill-color: #AAA;\n",
              "      --disabled-bg-color: #DDD;\n",
              "  }\n",
              "\n",
              "  [theme=dark] .colab-df-quickchart {\n",
              "      --bg-color: #3B4455;\n",
              "      --fill-color: #D2E3FC;\n",
              "      --hover-bg-color: #434B5C;\n",
              "      --hover-fill-color: #FFFFFF;\n",
              "      --disabled-bg-color: #3B4455;\n",
              "      --disabled-fill-color: #666;\n",
              "  }\n",
              "\n",
              "  .colab-df-quickchart {\n",
              "    background-color: var(--bg-color);\n",
              "    border: none;\n",
              "    border-radius: 50%;\n",
              "    cursor: pointer;\n",
              "    display: none;\n",
              "    fill: var(--fill-color);\n",
              "    height: 32px;\n",
              "    padding: 0;\n",
              "    width: 32px;\n",
              "  }\n",
              "\n",
              "  .colab-df-quickchart:hover {\n",
              "    background-color: var(--hover-bg-color);\n",
              "    box-shadow: 0 1px 2px rgba(60, 64, 67, 0.3), 0 1px 3px 1px rgba(60, 64, 67, 0.15);\n",
              "    fill: var(--button-hover-fill-color);\n",
              "  }\n",
              "\n",
              "  .colab-df-quickchart-complete:disabled,\n",
              "  .colab-df-quickchart-complete:disabled:hover {\n",
              "    background-color: var(--disabled-bg-color);\n",
              "    fill: var(--disabled-fill-color);\n",
              "    box-shadow: none;\n",
              "  }\n",
              "\n",
              "  .colab-df-spinner {\n",
              "    border: 2px solid var(--fill-color);\n",
              "    border-color: transparent;\n",
              "    border-bottom-color: var(--fill-color);\n",
              "    animation:\n",
              "      spin 1s steps(1) infinite;\n",
              "  }\n",
              "\n",
              "  @keyframes spin {\n",
              "    0% {\n",
              "      border-color: transparent;\n",
              "      border-bottom-color: var(--fill-color);\n",
              "      border-left-color: var(--fill-color);\n",
              "    }\n",
              "    20% {\n",
              "      border-color: transparent;\n",
              "      border-left-color: var(--fill-color);\n",
              "      border-top-color: var(--fill-color);\n",
              "    }\n",
              "    30% {\n",
              "      border-color: transparent;\n",
              "      border-left-color: var(--fill-color);\n",
              "      border-top-color: var(--fill-color);\n",
              "      border-right-color: var(--fill-color);\n",
              "    }\n",
              "    40% {\n",
              "      border-color: transparent;\n",
              "      border-right-color: var(--fill-color);\n",
              "      border-top-color: var(--fill-color);\n",
              "    }\n",
              "    60% {\n",
              "      border-color: transparent;\n",
              "      border-right-color: var(--fill-color);\n",
              "    }\n",
              "    80% {\n",
              "      border-color: transparent;\n",
              "      border-right-color: var(--fill-color);\n",
              "      border-bottom-color: var(--fill-color);\n",
              "    }\n",
              "    90% {\n",
              "      border-color: transparent;\n",
              "      border-bottom-color: var(--fill-color);\n",
              "    }\n",
              "  }\n",
              "</style>\n",
              "\n",
              "  <script>\n",
              "    async function quickchart(key) {\n",
              "      const quickchartButtonEl =\n",
              "        document.querySelector('#' + key + ' button');\n",
              "      quickchartButtonEl.disabled = true;  // To prevent multiple clicks.\n",
              "      quickchartButtonEl.classList.add('colab-df-spinner');\n",
              "      try {\n",
              "        const charts = await google.colab.kernel.invokeFunction(\n",
              "            'suggestCharts', [key], {});\n",
              "      } catch (error) {\n",
              "        console.error('Error during call to suggestCharts:', error);\n",
              "      }\n",
              "      quickchartButtonEl.classList.remove('colab-df-spinner');\n",
              "      quickchartButtonEl.classList.add('colab-df-quickchart-complete');\n",
              "    }\n",
              "    (() => {\n",
              "      let quickchartButtonEl =\n",
              "        document.querySelector('#df-7b12e96d-24d4-43cf-bbe2-387b20112cf7 button');\n",
              "      quickchartButtonEl.style.display =\n",
              "        google.colab.kernel.accessAllowed ? 'block' : 'none';\n",
              "    })();\n",
              "  </script>\n",
              "</div>\n",
              "\n",
              "    </div>\n",
              "  </div>\n"
            ],
            "application/vnd.google.colaboratory.intrinsic+json": {
              "type": "dataframe",
              "variable_name": "df",
              "summary": "{\n  \"name\": \"df\",\n  \"rows\": 84,\n  \"fields\": [\n    {\n      \"column\": \"Error\",\n      \"properties\": {\n        \"dtype\": \"string\",\n        \"num_unique_values\": 83,\n        \"samples\": [\n          \"\\u064a\\u0642\\u0648\\u0644\\u064f \\u0627\\u0644\\u0645\\u0639\\u0644\\u0645\\u064f \\u0639\\u0646 \\u0646\\u0641\\u0633\\u0647 : \\u0642\\u064e\\u0631\\u064e\\u0623\\u0652\\u062a\\u064e \\u0627\\u0644\\u0643\\u062a\\u0627\\u0628.\",\n          \"\\u0623\\u064f\\u0643\\u062a\\u0628 \\u0627\\u0644\\u0645\\u064f\\u0644\\u062e\\u0635 \\u0627\\u0644\\u0633\\u0628\\u0648\\u0631\\u064a.\",\n          \"\\u062e\\u064e\\u0636\\u0652\\u0631\\u064e\\u0648\\u0627\\u062a\\u064f \\u0641\\u0650\\u0644\\u064e\\u0633\\u0652\\u0637\\u0650\\u064a\\u0646\\u064e \\u0645\\u062a\\u0646\\u0648\\u0639\\u0629.\"\n        ],\n        \"semantic_type\": \"\",\n        \"description\": \"\"\n      }\n    },\n    {\n      \"column\": \"Correction\",\n      \"properties\": {\n        \"dtype\": \"string\",\n        \"num_unique_values\": 83,\n        \"samples\": [\n          \"\\u064a\\u0642\\u0648\\u0644\\u064f \\u0627\\u0644\\u0645\\u0639\\u0644\\u0645 \\u0639\\u0646 \\u0646\\u0641\\u0633\\u0647 : \\u0642\\u064e\\u0631\\u064e\\u0623\\u0652\\u062a\\u064f \\u0627\\u0644\\u0643\\u062a\\u0627\\u0628.\",\n          \"\\u0623\\u0643\\u062a\\u0628 \\u0627\\u0644\\u0645\\u064f\\u0644\\u062e\\u0635 \\u0627\\u0644\\u0633\\u0628\\u0648\\u0631\\u064a.\",\n          \"\\u062e\\u064e\\u0636\\u0652\\u0631\\u0627\\u0648\\u064e\\u0627\\u062a\\u064f \\u0641\\u0650\\u0644\\u064e\\u0633\\u0652\\u0637\\u0650\\u064a\\u0646\\u064e \\u0645\\u062a\\u0646\\u0648\\u0639\\u0629.\"\n        ],\n        \"semantic_type\": \"\",\n        \"description\": \"\"\n      }\n    },\n    {\n      \"column\": \"Explanation\",\n      \"properties\": {\n        \"dtype\": \"string\",\n        \"num_unique_values\": 83,\n        \"samples\": [\n          \"\\u0644\\u0627 \\u064a\\u0635\\u062d \\u0644\\u0644\\u0645\\u062a\\u0643\\u0644\\u0645 \\u0627\\u0644\\u0645\\u0639\\u0628\\u0631 \\u0639\\u0646 \\u0646\\u0641\\u0633\\u0647 \\u0623\\u0646 \\u064a\\u0642\\u0648\\u0644: \\u0642\\u0631\\u0623\\u062a \\u0648\\u0625\\u0644\\u0627 \\u0623\\u0635\\u0628\\u062d \\u0645\\u0639\\u0646\\u0649 \\u0622\\u062e\\u0631 \\u063a\\u064a\\u0631 \\u0627\\u0644\\u0645\\u0631\\u0627\\u062f\\u060c \\u0648\\u0627\\u0644\\u0645\\u062a\\u062d\\u062f\\u062b \\u0627\\u0644\\u0630\\u064a \\u064a\\u062a\\u0643\\u0644\\u0645 \\u0639\\u0646 \\u0646\\u0641\\u0633\\u0647 \\u064a\\u062c\\u0628 \\u0623\\u0646 \\u064a\\u0642\\u0648\\u0644 : \\u0642\\u0631\\u0623\\u062a\\u064f\\u060c \\u0633\\u0645\\u0639\\u062a\\u064f\\u060c \\u0634\\u0627\\u0647\\u062f\\u062a\\u064f\\u060c \\u0631\\u0623\\u064a\\u0652\\u062a\\u064f. \\u0648\\u0647\\u0643\\u0630\\u0627. \\u0647\\u0630\\u0627 \\u0648\\u0644\\u0648 \\u0623\\u0646\\u064e\\u0651 \\u0642\\u0627\\u0631\\u0626\\u0627\\u064b \\u0642\\u0631\\u0623 \\u0627\\u0644\\u0641\\u0627\\u062a\\u062d\\u0629 \\u0645\\u0646 \\u0627\\u0644\\u0642\\u0631\\u0622\\u0646 \\u0627\\u0644\\u0643\\u0631\\u064a\\u0645 \\u0641\\u0642\\u0627\\u0644: \\\"\\u0635\\u0650\\u0631\\u0627\\u0637\\u064e \\u0627\\u0644\\u064e\\u0651\\u0630\\u0650\\u064a\\u0646\\u064e \\u0623\\u0646\\u0639\\u0645\\u062a\\u064f \\u0639\\u0644\\u064a\\u0647\\u0645 \\u0644\\u0643\\u0627\\u0646 \\u0645\\u0639\\u0646\\u0627\\u0647 : \\u0623\\u0646\\u0647 \\u0627\\u0644\\u0645\\u0646\\u0639\\u0645 \\u060c \\u0645\\u0639 \\u0623\\u0646 \\u0627\\u0644\\u0622\\u064a\\u0629 \\u062c\\u0627\\u0621\\u062a: \\\"\\u0635\\u0650\\u0631\\u0627\\u0637\\u064e \\u0627\\u0644\\u064e\\u0651\\u0630\\u064a\\u0646\\u064e \\u0623\\u0646\\u0639\\u0645\\u062a \\u0639\\u0644\\u064a\\u0647\\u0645\\\". \\u0648\\u0627\\u0644\\u0645\\u0639\\u0646\\u0649: \\u0623\\u064e\\u0646\\u064e\\u0651 \\u0627\\u0644\\u0652\\u0645\\u064f\\u0646\\u0652\\u0639\\u0650\\u0645\\u064e \\u0647\\u0648 \\u0627\\u0644\\u0644\\u0647 \\u062a\\u0639\\u0627\\u0644\\u0649\\u060c \\u0648\\u0644\\u0627\\u062d\\u0638 \\u0627\\u0644\\u0641\\u0631\\u0642 \\u0628\\u064a\\u0646 \\u0627\\u0644\\u062a\\u0639\\u0628\\u064a\\u0631\\u064a\\u0646 \\u0627\\u0644\\u0633\\u0627\\u0628\\u0642\\u064a\\u0646\\u061b \\u0644\\u0647\\u0630\\u0627 \\u0646\\u062d\\u0631\\u0635 \\u0639\\u0644\\u0649 \\u062f\\u0642\\u0629 \\u0627\\u0644\\u062d\\u0631\\u0643\\u0629 \\u0641\\u064a \\u0627\\u0644\\u0644\\u063a\\u0629 \\u0627\\u0644\\u0639\\u0631\\u0628\\u064a\\u0629 \\u0644\\u062f\\u0644\\u0627\\u0644\\u062a\\u0647\\u0627 \\u0639\\u0644\\u0649 \\u0627\\u0644\\u0645\\u0639\\u0646\\u0649 \\u0627\\u0644\\u062f\\u0642\\u064a\\u0642 \\u0648\\u0627\\u0644\\u0645\\u0631\\u0627\\u062f \\u0628\\u0634\\u0643\\u0644 \\u0644\\u0627 \\u064a\\u063a\\u064a\\u0651\\u0631 \\u0627\\u0644\\u0645\\u0639\\u0646\\u0649 \\u0627\\u0644\\u0645\\u0642\\u0635\\u0648\\u062f.\",\n          \"\\u0627\\u0644\\u0641\\u0639\\u0644 \\\" \\u0627\\u0643\\u062a\\u0628 \\\" \\u0641\\u0639\\u0644 \\u0623\\u0645\\u0631 \\u0644\\u0644\\u0641\\u0639\\u0644 \\u0627\\u0644\\u062b\\u0644\\u0627\\u062b\\u064a \\u0644\\u0644\\u0645\\u062e\\u0627\\u0637\\u0628 \\u0627\\u0644\\u0645\\u0630\\u0643\\u0631 \\u0648\\u0648\\u0627\\u0636\\u062d \\u0623\\u0646 \\u0641\\u0639\\u0644 \\u0627\\u0644\\u0623\\u0645\\u0631 \\u0647\\u0645\\u0632\\u062a\\u0647 \\u0648\\u0635\\u0644\\u060c \\u0644\\u0630\\u0627 \\u0644\\u0627 \\u064a\\u0635\\u062d \\u0648\\u0636\\u0639 \\u0647\\u0645\\u0632\\u0629 \\u0627\\u0644\\u0642\\u0637\\u0639 \\u0639\\u0644\\u0649 \\u0647\\u0645\\u0632\\u0629 \\u0627\\u0644\\u0648\\u0635\\u0644 \\u0643\\u0645\\u0627 \\u0647\\u0648 \\u0645\\u0628\\u064a\\u0646 \\u0641\\u064a \\u0623\\u0639\\u0644\\u0649 \\u0627\\u0644\\u0635\\u0641\\u062d\\u0629. \\u0648\\u0647\\u0630\\u0627 \\u062e\\u0637\\u0623 \\u0643\\u062b\\u064a\\u0631 \\u0648\\u0634\\u0627\\u0626\\u0639 \\u0644\\u062f\\u0649 \\u0627\\u0644\\u0643\\u062b\\u064a\\u0631 \\u0645\\u0646 \\u0627\\u0644\\u0645\\u062a\\u062d\\u062f\\u062b\\u064a\\u0646 \\u0628\\u0627\\u0644\\u0644\\u063a\\u0629 \\u0627\\u0644\\u0639\\u0631\\u0628\\u064a\\u0629 \\u0627\\u0644\\u0645\\u0639\\u0627\\u0635\\u0631\\u0629 \\u0648\\u0642\\u0627\\u0644 \\u062a\\u0639\\u0627\\u0644\\u0649 : \\u0648\\u0642\\u064f\\u0644\\u0652\\u0646\\u0627\\\" \\u064a\\u0627 \\u0622\\u062f\\u064e\\u0645\\u064f \\u0627\\u0633\\u0652\\u0643\\u064f\\u0646\\u0652 \\u0623\\u064e\\u0646\\u0652\\u062a\\u064e \\u0648\\u064e\\u0632\\u064e\\u0648\\u0652\\u062c\\u0650\\u0643\\u064e \\u0627\\u0644\\u062c\\u0646\\u0629\\\" \\u0648\\u0627\\u0644\\u0622\\u064a\\u0629 \\u0627\\u0644\\u0642\\u0631\\u0622\\u0646\\u064a\\u0629 \\u0630\\u0643\\u0631\\u062a \\u0641\\u0639\\u0644 \\u0627\\u0644\\u0623\\u0645\\u0631 \\\" \\u0627\\u0633\\u0643\\u0646 \\\" \\u0627\\u0644\\u0630\\u064a \\u0647\\u0645\\u0632\\u062a\\u0647 \\u0647\\u0645\\u0632\\u0629 \\u0648\\u0635\\u0644 \\u0644\\u0623\\u0646\\u0647 \\u0623\\u0645\\u0631 \\u0627\\u0644\\u0641\\u0639\\u0644 \\u0627\\u0644\\u062b\\u0644\\u0627\\u062b\\u064a. \\u0648\\u0647\\u0643\\u0630\\u0627 \\u0643\\u0644 \\u0641\\u0639\\u0644 \\u0623\\u0645\\u0631 \\u0639\\u0644\\u0649 \\u0634\\u0627\\u0643\\u0644\\u062a\\u0647.\",\n          \"\\u0644\\u0627 \\u064a\\u0635\\u062d \\u062d\\u0630\\u0641 \\u0627\\u0644\\u0623\\u0644\\u0641 \\u0641\\u064a \\u0643\\u0644\\u0645\\u0629 \\u062e\\u0636\\u0631\\u0627\\u0648\\u0627\\u062a\\u061b \\u0644\\u0623\\u0646 \\u0643\\u0644\\u0645\\u0629 \\u062e\\u0636\\u0631\\u0627\\u0621 \\u0647\\u0645\\u0632\\u062a\\u0647\\u0627 \\u0632\\u0627\\u0626\\u062f\\u0629 \\u0644\\u0644\\u062a\\u0623\\u0646\\u064a\\u062b \\u0641\\u062a\\u0642\\u0644\\u0628 \\u0627\\u0644\\u0647\\u0645\\u0632\\u0629 \\u0648\\u0627\\u0648\\u0627\\u064b \\u0639\\u0646\\u062f \\u0627\\u0644\\u062c\\u0645\\u0639 \\u062c\\u0645\\u0639 \\u0645\\u0624\\u0646\\u062b \\u0633\\u0627\\u0644\\u0645\\u0627\\u064b \\u0641\\u062a\\u0642\\u0648\\u0644 : \\u062e\\u0636\\u0631\\u0627\\u0648\\u0627\\u062a. \\u0648\\u0647\\u0643\\u0630\\u0627 \\u0623\\u0645\\u0627 \\u062d\\u0630\\u0641 \\u0627\\u0644\\u0623\\u0644\\u0641 \\u0641\\u0644\\u0627 \\u062f\\u0644\\u064a\\u0644 \\u0639\\u0644\\u0649 \\u0635\\u062d\\u0629 \\u0648\\u062f\\u0642\\u0629 \\u0647\\u0630\\u0627 \\u0627\\u0644\\u062d\\u0630\\u0641. \\u0648\\u062e\\u0636\\u0631\\u0627\\u0648\\u0627\\u062a : \\u0645\\u0628\\u062a\\u062f\\u0623 \\u0645\\u0631\\u0641\\u0648\\u0639 \\u0648\\u0639\\u0644\\u0627\\u0645\\u0629 \\u0631\\u0641\\u0639\\u0647 \\u0627\\u0644\\u0636\\u0645\\u0629 \\u0627\\u0644\\u0638\\u0627\\u0647\\u0631\\u0629 \\u0639\\u0644\\u0649 \\u0622\\u062e\\u0631\\u0647. \\u0648\\u0641\\u0644\\u0633\\u0637\\u064a\\u0646: \\u0645\\u0636\\u0627\\u0641 \\u0625\\u0644\\u064a\\u0647 \\u0645\\u062c\\u0631\\u0648\\u0631 \\u0648\\u0639\\u0644\\u0627\\u0645\\u0629 \\u062c\\u0631\\u0647 \\u0627\\u0644\\u0641\\u062a\\u062d\\u0629 \\u0646\\u064a\\u0627\\u0628\\u0629 \\u0639\\u0646 \\u0627\\u0644\\u0643\\u0633\\u0631\\u0629\\u061b \\u0644\\u0623\\u0646\\u0647 \\u0645\\u0645\\u0646\\u0648\\u0639 \\u0645\\u0646 \\u0627\\u0644\\u0635\\u0631\\u0641 \\u0628\\u0633\\u0628\\u0628 \\u0627\\u0644\\u0639\\u0644\\u0645\\u064a\\u0629 \\u0648\\u0627\\u0644\\u0639\\u062c\\u0645\\u0629. \\u0648\\u0645\\u062a\\u0646\\u0648\\u0639\\u0629 : \\u062e\\u0628\\u0631 \\u0627\\u0644\\u0645\\u0628\\u062a\\u062f\\u0623 \\u0645\\u0631\\u0641\\u0648\\u0639 \\u0648\\u0639\\u0644\\u0627\\u0645\\u0629 \\u0631\\u0641\\u0639\\u0647 \\u0627\\u0644\\u0636\\u0645\\u0629 \\u0627\\u0644\\u0638\\u0627\\u0647\\u0631\\u0629 \\u0639\\u0644\\u0649 \\u0622\\u062e\\u0631\\u0647.\"\n        ],\n        \"semantic_type\": \"\",\n        \"description\": \"\"\n      }\n    },\n    {\n      \"column\": \"Correction_with_Explanation\",\n      \"properties\": {\n        \"dtype\": \"string\",\n        \"num_unique_values\": 83,\n        \"samples\": [\n          \"\\u064a\\u0642\\u0648\\u0644\\u064f \\u0627\\u0644\\u0645\\u0639\\u0644\\u0645 \\u0639\\u0646 \\u0646\\u0641\\u0633\\u0647 : \\u0642\\u064e\\u0631\\u064e\\u0623\\u0652\\u062a\\u064f \\u0627\\u0644\\u0643\\u062a\\u0627\\u0628. - \\u0644\\u0627 \\u064a\\u0635\\u062d \\u0644\\u0644\\u0645\\u062a\\u0643\\u0644\\u0645 \\u0627\\u0644\\u0645\\u0639\\u0628\\u0631 \\u0639\\u0646 \\u0646\\u0641\\u0633\\u0647 \\u0623\\u0646 \\u064a\\u0642\\u0648\\u0644: \\u0642\\u0631\\u0623\\u062a \\u0648\\u0625\\u0644\\u0627 \\u0623\\u0635\\u0628\\u062d \\u0645\\u0639\\u0646\\u0649 \\u0622\\u062e\\u0631 \\u063a\\u064a\\u0631 \\u0627\\u0644\\u0645\\u0631\\u0627\\u062f\\u060c \\u0648\\u0627\\u0644\\u0645\\u062a\\u062d\\u062f\\u062b \\u0627\\u0644\\u0630\\u064a \\u064a\\u062a\\u0643\\u0644\\u0645 \\u0639\\u0646 \\u0646\\u0641\\u0633\\u0647 \\u064a\\u062c\\u0628 \\u0623\\u0646 \\u064a\\u0642\\u0648\\u0644 : \\u0642\\u0631\\u0623\\u062a\\u064f\\u060c \\u0633\\u0645\\u0639\\u062a\\u064f\\u060c \\u0634\\u0627\\u0647\\u062f\\u062a\\u064f\\u060c \\u0631\\u0623\\u064a\\u0652\\u062a\\u064f. \\u0648\\u0647\\u0643\\u0630\\u0627. \\u0647\\u0630\\u0627 \\u0648\\u0644\\u0648 \\u0623\\u0646\\u064e\\u0651 \\u0642\\u0627\\u0631\\u0626\\u0627\\u064b \\u0642\\u0631\\u0623 \\u0627\\u0644\\u0641\\u0627\\u062a\\u062d\\u0629 \\u0645\\u0646 \\u0627\\u0644\\u0642\\u0631\\u0622\\u0646 \\u0627\\u0644\\u0643\\u0631\\u064a\\u0645 \\u0641\\u0642\\u0627\\u0644: \\\"\\u0635\\u0650\\u0631\\u0627\\u0637\\u064e \\u0627\\u0644\\u064e\\u0651\\u0630\\u0650\\u064a\\u0646\\u064e \\u0623\\u0646\\u0639\\u0645\\u062a\\u064f \\u0639\\u0644\\u064a\\u0647\\u0645 \\u0644\\u0643\\u0627\\u0646 \\u0645\\u0639\\u0646\\u0627\\u0647 : \\u0623\\u0646\\u0647 \\u0627\\u0644\\u0645\\u0646\\u0639\\u0645 \\u060c \\u0645\\u0639 \\u0623\\u0646 \\u0627\\u0644\\u0622\\u064a\\u0629 \\u062c\\u0627\\u0621\\u062a: \\\"\\u0635\\u0650\\u0631\\u0627\\u0637\\u064e \\u0627\\u0644\\u064e\\u0651\\u0630\\u064a\\u0646\\u064e \\u0623\\u0646\\u0639\\u0645\\u062a \\u0639\\u0644\\u064a\\u0647\\u0645\\\". \\u0648\\u0627\\u0644\\u0645\\u0639\\u0646\\u0649: \\u0623\\u064e\\u0646\\u064e\\u0651 \\u0627\\u0644\\u0652\\u0645\\u064f\\u0646\\u0652\\u0639\\u0650\\u0645\\u064e \\u0647\\u0648 \\u0627\\u0644\\u0644\\u0647 \\u062a\\u0639\\u0627\\u0644\\u0649\\u060c \\u0648\\u0644\\u0627\\u062d\\u0638 \\u0627\\u0644\\u0641\\u0631\\u0642 \\u0628\\u064a\\u0646 \\u0627\\u0644\\u062a\\u0639\\u0628\\u064a\\u0631\\u064a\\u0646 \\u0627\\u0644\\u0633\\u0627\\u0628\\u0642\\u064a\\u0646\\u061b \\u0644\\u0647\\u0630\\u0627 \\u0646\\u062d\\u0631\\u0635 \\u0639\\u0644\\u0649 \\u062f\\u0642\\u0629 \\u0627\\u0644\\u062d\\u0631\\u0643\\u0629 \\u0641\\u064a \\u0627\\u0644\\u0644\\u063a\\u0629 \\u0627\\u0644\\u0639\\u0631\\u0628\\u064a\\u0629 \\u0644\\u062f\\u0644\\u0627\\u0644\\u062a\\u0647\\u0627 \\u0639\\u0644\\u0649 \\u0627\\u0644\\u0645\\u0639\\u0646\\u0649 \\u0627\\u0644\\u062f\\u0642\\u064a\\u0642 \\u0648\\u0627\\u0644\\u0645\\u0631\\u0627\\u062f \\u0628\\u0634\\u0643\\u0644 \\u0644\\u0627 \\u064a\\u063a\\u064a\\u0651\\u0631 \\u0627\\u0644\\u0645\\u0639\\u0646\\u0649 \\u0627\\u0644\\u0645\\u0642\\u0635\\u0648\\u062f.\",\n          \"\\u0623\\u0643\\u062a\\u0628 \\u0627\\u0644\\u0645\\u064f\\u0644\\u062e\\u0635 \\u0627\\u0644\\u0633\\u0628\\u0648\\u0631\\u064a. - \\u0627\\u0644\\u0641\\u0639\\u0644 \\\" \\u0627\\u0643\\u062a\\u0628 \\\" \\u0641\\u0639\\u0644 \\u0623\\u0645\\u0631 \\u0644\\u0644\\u0641\\u0639\\u0644 \\u0627\\u0644\\u062b\\u0644\\u0627\\u062b\\u064a \\u0644\\u0644\\u0645\\u062e\\u0627\\u0637\\u0628 \\u0627\\u0644\\u0645\\u0630\\u0643\\u0631 \\u0648\\u0648\\u0627\\u0636\\u062d \\u0623\\u0646 \\u0641\\u0639\\u0644 \\u0627\\u0644\\u0623\\u0645\\u0631 \\u0647\\u0645\\u0632\\u062a\\u0647 \\u0648\\u0635\\u0644\\u060c \\u0644\\u0630\\u0627 \\u0644\\u0627 \\u064a\\u0635\\u062d \\u0648\\u0636\\u0639 \\u0647\\u0645\\u0632\\u0629 \\u0627\\u0644\\u0642\\u0637\\u0639 \\u0639\\u0644\\u0649 \\u0647\\u0645\\u0632\\u0629 \\u0627\\u0644\\u0648\\u0635\\u0644 \\u0643\\u0645\\u0627 \\u0647\\u0648 \\u0645\\u0628\\u064a\\u0646 \\u0641\\u064a \\u0623\\u0639\\u0644\\u0649 \\u0627\\u0644\\u0635\\u0641\\u062d\\u0629. \\u0648\\u0647\\u0630\\u0627 \\u062e\\u0637\\u0623 \\u0643\\u062b\\u064a\\u0631 \\u0648\\u0634\\u0627\\u0626\\u0639 \\u0644\\u062f\\u0649 \\u0627\\u0644\\u0643\\u062b\\u064a\\u0631 \\u0645\\u0646 \\u0627\\u0644\\u0645\\u062a\\u062d\\u062f\\u062b\\u064a\\u0646 \\u0628\\u0627\\u0644\\u0644\\u063a\\u0629 \\u0627\\u0644\\u0639\\u0631\\u0628\\u064a\\u0629 \\u0627\\u0644\\u0645\\u0639\\u0627\\u0635\\u0631\\u0629 \\u0648\\u0642\\u0627\\u0644 \\u062a\\u0639\\u0627\\u0644\\u0649 : \\u0648\\u0642\\u064f\\u0644\\u0652\\u0646\\u0627\\\" \\u064a\\u0627 \\u0622\\u062f\\u064e\\u0645\\u064f \\u0627\\u0633\\u0652\\u0643\\u064f\\u0646\\u0652 \\u0623\\u064e\\u0646\\u0652\\u062a\\u064e \\u0648\\u064e\\u0632\\u064e\\u0648\\u0652\\u062c\\u0650\\u0643\\u064e \\u0627\\u0644\\u062c\\u0646\\u0629\\\" \\u0648\\u0627\\u0644\\u0622\\u064a\\u0629 \\u0627\\u0644\\u0642\\u0631\\u0622\\u0646\\u064a\\u0629 \\u0630\\u0643\\u0631\\u062a \\u0641\\u0639\\u0644 \\u0627\\u0644\\u0623\\u0645\\u0631 \\\" \\u0627\\u0633\\u0643\\u0646 \\\" \\u0627\\u0644\\u0630\\u064a \\u0647\\u0645\\u0632\\u062a\\u0647 \\u0647\\u0645\\u0632\\u0629 \\u0648\\u0635\\u0644 \\u0644\\u0623\\u0646\\u0647 \\u0623\\u0645\\u0631 \\u0627\\u0644\\u0641\\u0639\\u0644 \\u0627\\u0644\\u062b\\u0644\\u0627\\u062b\\u064a. \\u0648\\u0647\\u0643\\u0630\\u0627 \\u0643\\u0644 \\u0641\\u0639\\u0644 \\u0623\\u0645\\u0631 \\u0639\\u0644\\u0649 \\u0634\\u0627\\u0643\\u0644\\u062a\\u0647.\",\n          \"\\u062e\\u064e\\u0636\\u0652\\u0631\\u0627\\u0648\\u064e\\u0627\\u062a\\u064f \\u0641\\u0650\\u0644\\u064e\\u0633\\u0652\\u0637\\u0650\\u064a\\u0646\\u064e \\u0645\\u062a\\u0646\\u0648\\u0639\\u0629. - \\u0644\\u0627 \\u064a\\u0635\\u062d \\u062d\\u0630\\u0641 \\u0627\\u0644\\u0623\\u0644\\u0641 \\u0641\\u064a \\u0643\\u0644\\u0645\\u0629 \\u062e\\u0636\\u0631\\u0627\\u0648\\u0627\\u062a\\u061b \\u0644\\u0623\\u0646 \\u0643\\u0644\\u0645\\u0629 \\u062e\\u0636\\u0631\\u0627\\u0621 \\u0647\\u0645\\u0632\\u062a\\u0647\\u0627 \\u0632\\u0627\\u0626\\u062f\\u0629 \\u0644\\u0644\\u062a\\u0623\\u0646\\u064a\\u062b \\u0641\\u062a\\u0642\\u0644\\u0628 \\u0627\\u0644\\u0647\\u0645\\u0632\\u0629 \\u0648\\u0627\\u0648\\u0627\\u064b \\u0639\\u0646\\u062f \\u0627\\u0644\\u062c\\u0645\\u0639 \\u062c\\u0645\\u0639 \\u0645\\u0624\\u0646\\u062b \\u0633\\u0627\\u0644\\u0645\\u0627\\u064b \\u0641\\u062a\\u0642\\u0648\\u0644 : \\u062e\\u0636\\u0631\\u0627\\u0648\\u0627\\u062a. \\u0648\\u0647\\u0643\\u0630\\u0627 \\u0623\\u0645\\u0627 \\u062d\\u0630\\u0641 \\u0627\\u0644\\u0623\\u0644\\u0641 \\u0641\\u0644\\u0627 \\u062f\\u0644\\u064a\\u0644 \\u0639\\u0644\\u0649 \\u0635\\u062d\\u0629 \\u0648\\u062f\\u0642\\u0629 \\u0647\\u0630\\u0627 \\u0627\\u0644\\u062d\\u0630\\u0641. \\u0648\\u062e\\u0636\\u0631\\u0627\\u0648\\u0627\\u062a : \\u0645\\u0628\\u062a\\u062f\\u0623 \\u0645\\u0631\\u0641\\u0648\\u0639 \\u0648\\u0639\\u0644\\u0627\\u0645\\u0629 \\u0631\\u0641\\u0639\\u0647 \\u0627\\u0644\\u0636\\u0645\\u0629 \\u0627\\u0644\\u0638\\u0627\\u0647\\u0631\\u0629 \\u0639\\u0644\\u0649 \\u0622\\u062e\\u0631\\u0647. \\u0648\\u0641\\u0644\\u0633\\u0637\\u064a\\u0646: \\u0645\\u0636\\u0627\\u0641 \\u0625\\u0644\\u064a\\u0647 \\u0645\\u062c\\u0631\\u0648\\u0631 \\u0648\\u0639\\u0644\\u0627\\u0645\\u0629 \\u062c\\u0631\\u0647 \\u0627\\u0644\\u0641\\u062a\\u062d\\u0629 \\u0646\\u064a\\u0627\\u0628\\u0629 \\u0639\\u0646 \\u0627\\u0644\\u0643\\u0633\\u0631\\u0629\\u061b \\u0644\\u0623\\u0646\\u0647 \\u0645\\u0645\\u0646\\u0648\\u0639 \\u0645\\u0646 \\u0627\\u0644\\u0635\\u0631\\u0641 \\u0628\\u0633\\u0628\\u0628 \\u0627\\u0644\\u0639\\u0644\\u0645\\u064a\\u0629 \\u0648\\u0627\\u0644\\u0639\\u062c\\u0645\\u0629. \\u0648\\u0645\\u062a\\u0646\\u0648\\u0639\\u0629 : \\u062e\\u0628\\u0631 \\u0627\\u0644\\u0645\\u0628\\u062a\\u062f\\u0623 \\u0645\\u0631\\u0641\\u0648\\u0639 \\u0648\\u0639\\u0644\\u0627\\u0645\\u0629 \\u0631\\u0641\\u0639\\u0647 \\u0627\\u0644\\u0636\\u0645\\u0629 \\u0627\\u0644\\u0638\\u0627\\u0647\\u0631\\u0629 \\u0639\\u0644\\u0649 \\u0622\\u062e\\u0631\\u0647.\"\n        ],\n        \"semantic_type\": \"\",\n        \"description\": \"\"\n      }\n    }\n  ]\n}"
            }
          },
          "metadata": {},
          "execution_count": 28
        }
      ]
    },
    {
      "cell_type": "code",
      "source": [
        "# Split the dataset (80% training, 20% testing)\n",
        "train_df, test_df = train_test_split(df, test_size=0.6, random_state=42)\n",
        "\n",
        "# Display the size of the splits\n",
        "print(\"Training set size:\", len(train_df))\n",
        "print(\"Testing set size:\", len(test_df))"
      ],
      "metadata": {
        "colab": {
          "base_uri": "https://localhost:8080/"
        },
        "id": "FfNogoGxJOII",
        "outputId": "2a049925-7d9c-4f46-89ff-97b6f7f5b769"
      },
      "execution_count": null,
      "outputs": [
        {
          "output_type": "stream",
          "name": "stdout",
          "text": [
            "Training set size: 33\n",
            "Testing set size: 51\n"
          ]
        }
      ]
    },
    {
      "cell_type": "code",
      "source": [
        "# Save the testing set to a new CSV file\n",
        "test_df.to_csv('test_set.csv', index=False)"
      ],
      "metadata": {
        "id": "2zNDfugkJ10v"
      },
      "execution_count": null,
      "outputs": []
    },
    {
      "cell_type": "code",
      "source": [
        "test_queries = df['Explanation'].tolist()\n",
        "correct_responses = df['Correction'].tolist()"
      ],
      "metadata": {
        "id": "MXfhri9tOs8P"
      },
      "execution_count": null,
      "outputs": []
    },
    {
      "cell_type": "code",
      "source": [
        "# Generate model predictions for each error\n",
        "predictions = []\n",
        "for error in test_queries:\n",
        "    response = allam_llm(error)\n",
        "    predictions.append(response)\n",
        "\n",
        "# Calculate ROUGE scores\n",
        "rouge_scores = evaluate_rouge(predictions, expected_corrections)\n",
        "\n",
        "# Print ROUGE scores for each prediction\n",
        "for i, score in enumerate(rouge_scores):\n",
        "    print(f\"Error: {test_errors[i]}\")\n",
        "    print(f\"Expected Correction: {expected_corrections[i]}\")\n",
        "    print(f\"Model Correction: {predictions[i]}\")\n",
        "    print(f\"ROUGE Score: {score}\")\n",
        "    print(\"-------------\")\n",
        "\n",
        "# Optionally, calculate average ROUGE score\n",
        "avg_rouge1 = sum([score['rouge1'].fmeasure for score in rouge_scores]) / len(rouge_scores)\n",
        "avg_rougeL = sum([score['rougeL'].fmeasure for score in rouge_scores]) / len(rouge_scores)\n",
        "\n",
        "print(f\"Average ROUGE-1 F1 Score: {avg_rouge1}\")\n",
        "print(f\"Average ROUGE-L F1 Score: {avg_rougeL}\")"
      ],
      "metadata": {
        "id": "NHenvf0JFk2Q"
      },
      "execution_count": null,
      "outputs": []
    },
    {
      "cell_type": "code",
      "source": [
        "# Define hyperparameter space to tune\n",
        "hyperparameter_grid = {\n",
        "    'DECODING_METHOD': [DecodingMethods.GREEDY, DecodingMethods.SAMPLE],  # Decoding methods\n",
        "    'MAX_NEW_TOKENS': [100, 300, 500],  # Maximum number of tokens in response\n",
        "    'MIN_NEW_TOKENS': [1, 5],  # Minimum number of tokens in response\n",
        "    'TRUNCATE_INPUT_TOKENS': [3, 4],  # Truncate input tokens for embeddings\n",
        "}"
      ],
      "metadata": {
        "id": "BtAuyVioCgL8"
      },
      "execution_count": null,
      "outputs": []
    },
    {
      "cell_type": "code",
      "source": [
        "# Store results for different hyperparameters\n",
        "results = []"
      ],
      "metadata": {
        "id": "-wjrJym2Cm4F"
      },
      "execution_count": null,
      "outputs": []
    },
    {
      "cell_type": "code",
      "source": [
        "# Loop over hyperparameter combinations\n",
        "for decoding_method in hyperparameter_grid['DECODING_METHOD']:\n",
        "    for max_new_tokens in hyperparameter_grid['MAX_NEW_TOKENS']:\n",
        "        for min_new_tokens in hyperparameter_grid['MIN_NEW_TOKENS']:\n",
        "            for truncate_tokens in hyperparameter_grid['TRUNCATE_INPUT_TOKENS']:\n",
        "\n",
        "                        # Set up LLM with current hyperparameters\n",
        "                        parameters = {\n",
        "                            GenParams.DECODING_METHOD: decoding_method,\n",
        "                            GenParams.MAX_NEW_TOKENS: max_new_tokens,\n",
        "                            GenParams.MIN_NEW_TOKENS: min_new_tokens\n",
        "                        }\n",
        "\n",
        "                        # Initialize Watson LLM with hyperparameters\n",
        "                        allam_llm = WatsonxLLM(\n",
        "                            model_id=\"sdaia/allam-1-13b-instruct\",\n",
        "                            params=parameters,\n",
        "                            url=wxa_url,\n",
        "                            project_id=wxa_project_id\n",
        "                        )\n",
        "\n",
        "                        # Set up embeddings with truncate tokens and return options\n",
        "                        embed_params = {\n",
        "                            EmbedTextParamsMetaNames.TRUNCATE_INPUT_TOKENS: truncate_tokens,\n",
        "                        }\n",
        "\n",
        "                        multilingual_e5_embedding = WatsonxEmbeddings(\n",
        "                            model_id=\"intfloat/multilingual-e5-large\",\n",
        "                            params=embed_params,\n",
        "                            url=wxa_url,\n",
        "                            project_id=wxa_project_id\n",
        "                        )\n",
        "\n",
        "                        # Rebuild FAISS vector database with the new embeddings\n",
        "                        db = FAISS.from_documents(chunks, multilingual_e5_embedding)\n",
        "\n",
        "                        # Evaluate the model\n",
        "                        predictions = []\n",
        "                        for query in test_queries:\n",
        "                            # Retrieve top-k documents\n",
        "                            docs = db.similarity_search(query, k=10)\n",
        "\n",
        "                            # Run QA chain or just the model\n",
        "                            response = chain.run(input_documents=docs, question=query)\n",
        "                            predictions.append(response)\n",
        "\n",
        "                        # Calculate accuracy (or any other metric like BLEU)\n",
        "                        accuracy = accuracy_score(correct_responses, predictions)\n",
        "\n",
        "                        # Store the results for this combination\n",
        "                        results.append({\n",
        "                            'DECODING_METHOD': decoding_method,\n",
        "                            'MAX_NEW_TOKENS': max_new_tokens,\n",
        "                            'MIN_NEW_TOKENS': min_new_tokens,\n",
        "                            'TRUNCATE_INPUT_TOKENS': truncate_tokens,\n",
        "                            'accuracy': accuracy\n",
        "                        })\n",
        "\n",
        "                        print(f\"Tested: {decoding_method}, MAX_NEW_TOKENS: {max_new_tokens}, \"\n",
        "                              f\"MIN_NEW_TOKENS: {min_new_tokens}, TRUNCATE_INPUT_TOKENS: {truncate_tokens}, \"\n",
        "                              f\"Accuracy: {accuracy}\")"
      ],
      "metadata": {
        "colab": {
          "base_uri": "https://localhost:8080/",
          "height": 480
        },
        "id": "l7e96HQqClTL",
        "outputId": "3bb70d6f-0aac-4523-bc92-094f6412d6d3"
      },
      "execution_count": null,
      "outputs": [
        {
          "output_type": "stream",
          "name": "stderr",
          "text": [
            "WARNING:ibm_watsonx_ai.wml_client_error:Failure during generate. (POST https://eu-de.ml.cloud.ibm.com/ml/v1/text/embeddings?version=2024-10-01)\n",
            "Status code: 400, body: {\"errors\":[{\"code\":\"invalid_request_entity\",\"message\":\"Failed to deserialize json: 'invalid character 'N' looking for beginning of value'.\",\"more_info\":\"https://cloud.ibm.com/apidocs/watsonx-ai\"}],\"trace\":\"36af5b549a53deb3609ee3c5dd928294\",\"status_code\":400}\n"
          ]
        },
        {
          "output_type": "error",
          "ename": "ApiRequestFailure",
          "evalue": "Failure during generate. (POST https://eu-de.ml.cloud.ibm.com/ml/v1/text/embeddings?version=2024-10-01)\nStatus code: 400, body: {\"errors\":[{\"code\":\"invalid_request_entity\",\"message\":\"Failed to deserialize json: 'invalid character 'N' looking for beginning of value'.\",\"more_info\":\"https://cloud.ibm.com/apidocs/watsonx-ai\"}],\"trace\":\"36af5b549a53deb3609ee3c5dd928294\",\"status_code\":400}",
          "traceback": [
            "\u001b[0;31m---------------------------------------------------------------------------\u001b[0m",
            "\u001b[0;31mApiRequestFailure\u001b[0m                         Traceback (most recent call last)",
            "\u001b[0;32m<ipython-input-29-66ea21aa2785>\u001b[0m in \u001b[0;36m<cell line: 2>\u001b[0;34m()\u001b[0m\n\u001b[1;32m     39\u001b[0m                         \u001b[0;32mfor\u001b[0m \u001b[0mquery\u001b[0m \u001b[0;32min\u001b[0m \u001b[0mtest_queries\u001b[0m\u001b[0;34m:\u001b[0m\u001b[0;34m\u001b[0m\u001b[0;34m\u001b[0m\u001b[0m\n\u001b[1;32m     40\u001b[0m                             \u001b[0;31m# Retrieve top-k documents\u001b[0m\u001b[0;34m\u001b[0m\u001b[0;34m\u001b[0m\u001b[0m\n\u001b[0;32m---> 41\u001b[0;31m                             \u001b[0mdocs\u001b[0m \u001b[0;34m=\u001b[0m \u001b[0mdb\u001b[0m\u001b[0;34m.\u001b[0m\u001b[0msimilarity_search\u001b[0m\u001b[0;34m(\u001b[0m\u001b[0mquery\u001b[0m\u001b[0;34m,\u001b[0m \u001b[0mk\u001b[0m\u001b[0;34m=\u001b[0m\u001b[0;36m10\u001b[0m\u001b[0;34m)\u001b[0m\u001b[0;34m\u001b[0m\u001b[0;34m\u001b[0m\u001b[0m\n\u001b[0m\u001b[1;32m     42\u001b[0m \u001b[0;34m\u001b[0m\u001b[0m\n\u001b[1;32m     43\u001b[0m                             \u001b[0;31m# Run QA chain or just the model\u001b[0m\u001b[0;34m\u001b[0m\u001b[0;34m\u001b[0m\u001b[0m\n",
            "\u001b[0;32m/usr/local/lib/python3.10/dist-packages/langchain_community/vectorstores/faiss.py\u001b[0m in \u001b[0;36msimilarity_search\u001b[0;34m(self, query, k, filter, fetch_k, **kwargs)\u001b[0m\n\u001b[1;32m    639\u001b[0m             \u001b[0mList\u001b[0m \u001b[0mof\u001b[0m \u001b[0mDocuments\u001b[0m \u001b[0mmost\u001b[0m \u001b[0msimilar\u001b[0m \u001b[0mto\u001b[0m \u001b[0mthe\u001b[0m \u001b[0mquery\u001b[0m\u001b[0;34m.\u001b[0m\u001b[0;34m\u001b[0m\u001b[0;34m\u001b[0m\u001b[0m\n\u001b[1;32m    640\u001b[0m         \"\"\"\n\u001b[0;32m--> 641\u001b[0;31m         docs_and_scores = self.similarity_search_with_score(\n\u001b[0m\u001b[1;32m    642\u001b[0m             \u001b[0mquery\u001b[0m\u001b[0;34m,\u001b[0m \u001b[0mk\u001b[0m\u001b[0;34m,\u001b[0m \u001b[0mfilter\u001b[0m\u001b[0;34m=\u001b[0m\u001b[0mfilter\u001b[0m\u001b[0;34m,\u001b[0m \u001b[0mfetch_k\u001b[0m\u001b[0;34m=\u001b[0m\u001b[0mfetch_k\u001b[0m\u001b[0;34m,\u001b[0m \u001b[0;34m**\u001b[0m\u001b[0mkwargs\u001b[0m\u001b[0;34m\u001b[0m\u001b[0;34m\u001b[0m\u001b[0m\n\u001b[1;32m    643\u001b[0m         )\n",
            "\u001b[0;32m/usr/local/lib/python3.10/dist-packages/langchain_community/vectorstores/faiss.py\u001b[0m in \u001b[0;36msimilarity_search_with_score\u001b[0;34m(self, query, k, filter, fetch_k, **kwargs)\u001b[0m\n\u001b[1;32m    511\u001b[0m             \u001b[0mL2\u001b[0m \u001b[0mdistance\u001b[0m \u001b[0;32min\u001b[0m \u001b[0mfloat\u001b[0m\u001b[0;34m.\u001b[0m \u001b[0mLower\u001b[0m \u001b[0mscore\u001b[0m \u001b[0mrepresents\u001b[0m \u001b[0mmore\u001b[0m \u001b[0msimilarity\u001b[0m\u001b[0;34m.\u001b[0m\u001b[0;34m\u001b[0m\u001b[0;34m\u001b[0m\u001b[0m\n\u001b[1;32m    512\u001b[0m         \"\"\"\n\u001b[0;32m--> 513\u001b[0;31m         \u001b[0membedding\u001b[0m \u001b[0;34m=\u001b[0m \u001b[0mself\u001b[0m\u001b[0;34m.\u001b[0m\u001b[0m_embed_query\u001b[0m\u001b[0;34m(\u001b[0m\u001b[0mquery\u001b[0m\u001b[0;34m)\u001b[0m\u001b[0;34m\u001b[0m\u001b[0;34m\u001b[0m\u001b[0m\n\u001b[0m\u001b[1;32m    514\u001b[0m         docs = self.similarity_search_with_score_by_vector(\n\u001b[1;32m    515\u001b[0m             \u001b[0membedding\u001b[0m\u001b[0;34m,\u001b[0m\u001b[0;34m\u001b[0m\u001b[0;34m\u001b[0m\u001b[0m\n",
            "\u001b[0;32m/usr/local/lib/python3.10/dist-packages/langchain_community/vectorstores/faiss.py\u001b[0m in \u001b[0;36m_embed_query\u001b[0;34m(self, text)\u001b[0m\n\u001b[1;32m    263\u001b[0m     \u001b[0;32mdef\u001b[0m \u001b[0m_embed_query\u001b[0m\u001b[0;34m(\u001b[0m\u001b[0mself\u001b[0m\u001b[0;34m,\u001b[0m \u001b[0mtext\u001b[0m\u001b[0;34m:\u001b[0m \u001b[0mstr\u001b[0m\u001b[0;34m)\u001b[0m \u001b[0;34m->\u001b[0m \u001b[0mList\u001b[0m\u001b[0;34m[\u001b[0m\u001b[0mfloat\u001b[0m\u001b[0;34m]\u001b[0m\u001b[0;34m:\u001b[0m\u001b[0;34m\u001b[0m\u001b[0;34m\u001b[0m\u001b[0m\n\u001b[1;32m    264\u001b[0m         \u001b[0;32mif\u001b[0m \u001b[0misinstance\u001b[0m\u001b[0;34m(\u001b[0m\u001b[0mself\u001b[0m\u001b[0;34m.\u001b[0m\u001b[0membedding_function\u001b[0m\u001b[0;34m,\u001b[0m \u001b[0mEmbeddings\u001b[0m\u001b[0;34m)\u001b[0m\u001b[0;34m:\u001b[0m\u001b[0;34m\u001b[0m\u001b[0;34m\u001b[0m\u001b[0m\n\u001b[0;32m--> 265\u001b[0;31m             \u001b[0;32mreturn\u001b[0m \u001b[0mself\u001b[0m\u001b[0;34m.\u001b[0m\u001b[0membedding_function\u001b[0m\u001b[0;34m.\u001b[0m\u001b[0membed_query\u001b[0m\u001b[0;34m(\u001b[0m\u001b[0mtext\u001b[0m\u001b[0;34m)\u001b[0m\u001b[0;34m\u001b[0m\u001b[0;34m\u001b[0m\u001b[0m\n\u001b[0m\u001b[1;32m    266\u001b[0m         \u001b[0;32melse\u001b[0m\u001b[0;34m:\u001b[0m\u001b[0;34m\u001b[0m\u001b[0;34m\u001b[0m\u001b[0m\n\u001b[1;32m    267\u001b[0m             \u001b[0;32mreturn\u001b[0m \u001b[0mself\u001b[0m\u001b[0;34m.\u001b[0m\u001b[0membedding_function\u001b[0m\u001b[0;34m(\u001b[0m\u001b[0mtext\u001b[0m\u001b[0;34m)\u001b[0m\u001b[0;34m\u001b[0m\u001b[0;34m\u001b[0m\u001b[0m\n",
            "\u001b[0;32m/usr/local/lib/python3.10/dist-packages/langchain_ibm/embeddings.py\u001b[0m in \u001b[0;36membed_query\u001b[0;34m(self, text)\u001b[0m\n\u001b[1;32m    171\u001b[0m     \u001b[0;32mdef\u001b[0m \u001b[0membed_query\u001b[0m\u001b[0;34m(\u001b[0m\u001b[0mself\u001b[0m\u001b[0;34m,\u001b[0m \u001b[0mtext\u001b[0m\u001b[0;34m:\u001b[0m \u001b[0mstr\u001b[0m\u001b[0;34m)\u001b[0m \u001b[0;34m->\u001b[0m \u001b[0mList\u001b[0m\u001b[0;34m[\u001b[0m\u001b[0mfloat\u001b[0m\u001b[0;34m]\u001b[0m\u001b[0;34m:\u001b[0m\u001b[0;34m\u001b[0m\u001b[0;34m\u001b[0m\u001b[0m\n\u001b[1;32m    172\u001b[0m         \u001b[0;34m\"\"\"Embed query text.\"\"\"\u001b[0m\u001b[0;34m\u001b[0m\u001b[0;34m\u001b[0m\u001b[0m\n\u001b[0;32m--> 173\u001b[0;31m         \u001b[0;32mreturn\u001b[0m \u001b[0mself\u001b[0m\u001b[0;34m.\u001b[0m\u001b[0membed_documents\u001b[0m\u001b[0;34m(\u001b[0m\u001b[0;34m[\u001b[0m\u001b[0mtext\u001b[0m\u001b[0;34m]\u001b[0m\u001b[0;34m)\u001b[0m\u001b[0;34m[\u001b[0m\u001b[0;36m0\u001b[0m\u001b[0;34m]\u001b[0m\u001b[0;34m\u001b[0m\u001b[0;34m\u001b[0m\u001b[0m\n\u001b[0m",
            "\u001b[0;32m/usr/local/lib/python3.10/dist-packages/langchain_ibm/embeddings.py\u001b[0m in \u001b[0;36membed_documents\u001b[0;34m(self, texts)\u001b[0m\n\u001b[1;32m    167\u001b[0m     \u001b[0;32mdef\u001b[0m \u001b[0membed_documents\u001b[0m\u001b[0;34m(\u001b[0m\u001b[0mself\u001b[0m\u001b[0;34m,\u001b[0m \u001b[0mtexts\u001b[0m\u001b[0;34m:\u001b[0m \u001b[0mList\u001b[0m\u001b[0;34m[\u001b[0m\u001b[0mstr\u001b[0m\u001b[0;34m]\u001b[0m\u001b[0;34m)\u001b[0m \u001b[0;34m->\u001b[0m \u001b[0mList\u001b[0m\u001b[0;34m[\u001b[0m\u001b[0mList\u001b[0m\u001b[0;34m[\u001b[0m\u001b[0mfloat\u001b[0m\u001b[0;34m]\u001b[0m\u001b[0;34m]\u001b[0m\u001b[0;34m:\u001b[0m\u001b[0;34m\u001b[0m\u001b[0;34m\u001b[0m\u001b[0m\n\u001b[1;32m    168\u001b[0m         \u001b[0;34m\"\"\"Embed search docs.\"\"\"\u001b[0m\u001b[0;34m\u001b[0m\u001b[0;34m\u001b[0m\u001b[0m\n\u001b[0;32m--> 169\u001b[0;31m         \u001b[0;32mreturn\u001b[0m \u001b[0mself\u001b[0m\u001b[0;34m.\u001b[0m\u001b[0mwatsonx_embed\u001b[0m\u001b[0;34m.\u001b[0m\u001b[0membed_documents\u001b[0m\u001b[0;34m(\u001b[0m\u001b[0mtexts\u001b[0m\u001b[0;34m=\u001b[0m\u001b[0mtexts\u001b[0m\u001b[0;34m)\u001b[0m\u001b[0;34m\u001b[0m\u001b[0;34m\u001b[0m\u001b[0m\n\u001b[0m\u001b[1;32m    170\u001b[0m \u001b[0;34m\u001b[0m\u001b[0m\n\u001b[1;32m    171\u001b[0m     \u001b[0;32mdef\u001b[0m \u001b[0membed_query\u001b[0m\u001b[0;34m(\u001b[0m\u001b[0mself\u001b[0m\u001b[0;34m,\u001b[0m \u001b[0mtext\u001b[0m\u001b[0;34m:\u001b[0m \u001b[0mstr\u001b[0m\u001b[0;34m)\u001b[0m \u001b[0;34m->\u001b[0m \u001b[0mList\u001b[0m\u001b[0;34m[\u001b[0m\u001b[0mfloat\u001b[0m\u001b[0;34m]\u001b[0m\u001b[0;34m:\u001b[0m\u001b[0;34m\u001b[0m\u001b[0;34m\u001b[0m\u001b[0m\n",
            "\u001b[0;32m/usr/local/lib/python3.10/dist-packages/ibm_watsonx_ai/foundation_models/embeddings/embeddings.py\u001b[0m in \u001b[0;36membed_documents\u001b[0;34m(self, texts, params, concurrency_limit)\u001b[0m\n\u001b[1;32m    289\u001b[0m         return [\n\u001b[1;32m    290\u001b[0m             \u001b[0mvector\u001b[0m\u001b[0;34m.\u001b[0m\u001b[0mget\u001b[0m\u001b[0;34m(\u001b[0m\u001b[0;34m\"embedding\"\u001b[0m\u001b[0;34m)\u001b[0m\u001b[0;34m\u001b[0m\u001b[0;34m\u001b[0m\u001b[0m\n\u001b[0;32m--> 291\u001b[0;31m             for vector in self.generate(\n\u001b[0m\u001b[1;32m    292\u001b[0m                 \u001b[0minputs\u001b[0m\u001b[0;34m=\u001b[0m\u001b[0mtexts\u001b[0m\u001b[0;34m,\u001b[0m \u001b[0mparams\u001b[0m\u001b[0;34m=\u001b[0m\u001b[0mparams\u001b[0m\u001b[0;34m,\u001b[0m \u001b[0mconcurrency_limit\u001b[0m\u001b[0;34m=\u001b[0m\u001b[0mconcurrency_limit\u001b[0m\u001b[0;34m\u001b[0m\u001b[0;34m\u001b[0m\u001b[0m\n\u001b[1;32m    293\u001b[0m             ).get(\"results\", [{}])\n",
            "\u001b[0;32m/usr/local/lib/python3.10/dist-packages/ibm_watsonx_ai/foundation_models/embeddings/embeddings.py\u001b[0m in \u001b[0;36mgenerate\u001b[0;34m(self, inputs, params, concurrency_limit)\u001b[0m\n\u001b[1;32m    246\u001b[0m \u001b[0;34m\u001b[0m\u001b[0m\n\u001b[1;32m    247\u001b[0m             \u001b[0;32melse\u001b[0m\u001b[0;34m:\u001b[0m\u001b[0;34m\u001b[0m\u001b[0;34m\u001b[0m\u001b[0m\n\u001b[0;32m--> 248\u001b[0;31m                 \u001b[0mresults\u001b[0m \u001b[0;34m=\u001b[0m \u001b[0mself\u001b[0m\u001b[0;34m.\u001b[0m\u001b[0m_generate\u001b[0m\u001b[0;34m(\u001b[0m\u001b[0mgenerate_url\u001b[0m\u001b[0;34m,\u001b[0m \u001b[0minputs\u001b[0m\u001b[0;34m,\u001b[0m \u001b[0mparams\u001b[0m\u001b[0;34m)\u001b[0m\u001b[0;34m\u001b[0m\u001b[0;34m\u001b[0m\u001b[0m\n\u001b[0m\u001b[1;32m    249\u001b[0m             \u001b[0;32mreturn\u001b[0m \u001b[0mresults\u001b[0m\u001b[0;34m\u001b[0m\u001b[0;34m\u001b[0m\u001b[0m\n\u001b[1;32m    250\u001b[0m         \u001b[0;32mexcept\u001b[0m \u001b[0mException\u001b[0m\u001b[0;34m:\u001b[0m\u001b[0;34m\u001b[0m\u001b[0;34m\u001b[0m\u001b[0m\n",
            "\u001b[0;32m/usr/local/lib/python3.10/dist-packages/ibm_watsonx_ai/foundation_models/embeddings/embeddings.py\u001b[0m in \u001b[0;36m_generate\u001b[0;34m(self, generate_url, inputs, params, _http_client)\u001b[0m\n\u001b[1;32m    358\u001b[0m \u001b[0;34m\u001b[0m\u001b[0m\n\u001b[1;32m    359\u001b[0m         \u001b[0mresponse_scoring\u001b[0m \u001b[0;34m=\u001b[0m \u001b[0mhttp_client\u001b[0m\u001b[0;34m.\u001b[0m\u001b[0mpost\u001b[0m\u001b[0;34m(\u001b[0m\u001b[0;34m**\u001b[0m\u001b[0mpost_params\u001b[0m\u001b[0;34m)\u001b[0m\u001b[0;34m\u001b[0m\u001b[0;34m\u001b[0m\u001b[0m\n\u001b[0;32m--> 360\u001b[0;31m         return self._handle_response(\n\u001b[0m\u001b[1;32m    361\u001b[0m             \u001b[0;36m200\u001b[0m\u001b[0;34m,\u001b[0m\u001b[0;34m\u001b[0m\u001b[0;34m\u001b[0m\u001b[0m\n\u001b[1;32m    362\u001b[0m             \u001b[0;34m\"generate\"\u001b[0m\u001b[0;34m,\u001b[0m\u001b[0;34m\u001b[0m\u001b[0;34m\u001b[0m\u001b[0m\n",
            "\u001b[0;32m/usr/local/lib/python3.10/dist-packages/ibm_watsonx_ai/wml_resource.py\u001b[0m in \u001b[0;36m_handle_response\u001b[0;34m(self, expected_status_code, operationName, response, json_response, _silent_response_logging, _field_to_hide)\u001b[0m\n\u001b[1;32m    153\u001b[0m                 \u001b[0;32mreturn\u001b[0m \u001b[0mresponse\u001b[0m\u001b[0;34m.\u001b[0m\u001b[0mtext\u001b[0m\u001b[0;34m\u001b[0m\u001b[0;34m\u001b[0m\u001b[0m\n\u001b[1;32m    154\u001b[0m         \u001b[0;32melse\u001b[0m\u001b[0;34m:\u001b[0m\u001b[0;34m\u001b[0m\u001b[0;34m\u001b[0m\u001b[0m\n\u001b[0;32m--> 155\u001b[0;31m             raise ApiRequestFailure(\n\u001b[0m\u001b[1;32m    156\u001b[0m                 \u001b[0;34m\"Failure during {}.\"\u001b[0m\u001b[0;34m.\u001b[0m\u001b[0mformat\u001b[0m\u001b[0;34m(\u001b[0m\u001b[0moperationName\u001b[0m\u001b[0;34m)\u001b[0m\u001b[0;34m,\u001b[0m\u001b[0;34m\u001b[0m\u001b[0;34m\u001b[0m\u001b[0m\n\u001b[1;32m    157\u001b[0m                 \u001b[0mresponse\u001b[0m\u001b[0;34m,\u001b[0m\u001b[0;34m\u001b[0m\u001b[0;34m\u001b[0m\u001b[0m\n",
            "\u001b[0;31mApiRequestFailure\u001b[0m: Failure during generate. (POST https://eu-de.ml.cloud.ibm.com/ml/v1/text/embeddings?version=2024-10-01)\nStatus code: 400, body: {\"errors\":[{\"code\":\"invalid_request_entity\",\"message\":\"Failed to deserialize json: 'invalid character 'N' looking for beginning of value'.\",\"more_info\":\"https://cloud.ibm.com/apidocs/watsonx-ai\"}],\"trace\":\"36af5b549a53deb3609ee3c5dd928294\",\"status_code\":400}"
          ]
        }
      ]
    },
    {
      "cell_type": "code",
      "source": [
        "# Initialize the Watsonx foundation model\n",
        "allam_llm_1 = Model(\n",
        "    model_id='ibm/granite-20b-multilingual',\n",
        "    params=parameters,\n",
        "    credentials = Credentials(\n",
        "    url=wxa_url,\n",
        "    api_key=wxa_api_key,\n",
        "),\n",
        "    project_id=wxa_project_id\n",
        ")\n",
        "\n",
        "allam_llm_1.get_details()"
      ],
      "metadata": {
        "id": "xjreSvYrCXOB"
      },
      "execution_count": null,
      "outputs": []
    },
    {
      "cell_type": "markdown",
      "source": [
        "### Elasticsearch method"
      ],
      "metadata": {
        "id": "7bfl_8m4Jy6C"
      }
    },
    {
      "cell_type": "code",
      "source": [
        "from langchain.embeddings import SentenceTransformerEmbeddings\n",
        "\n",
        "emb_func = SentenceTransformerEmbeddings(model_name=\"intfloat/multilingual-e5-large\")"
      ],
      "metadata": {
        "colab": {
          "base_uri": "https://localhost:8080/",
          "height": 575,
          "referenced_widgets": [
            "b4621f60d9f2446d8d3a31f90c33f0b6",
            "77621ac7b1054e4cbc158eb13082032b",
            "f8de44c1c26d429aac05f57e4890a904",
            "4ced44d455a141bd8b452b91fc254081",
            "3853c048ff954d0783f2e20cc5939eb4",
            "e028a198a46a47ad94fbba6c930b9d18",
            "e7a957dfb4dd42eb8379fdaaea3a22ee",
            "d13fe55e180948e4aa696e6c45be1ec2",
            "6f65983ed5284fd3b4ed063cc3bd77be",
            "452e307e95ec4f56912e700b66a0544e",
            "6e9669dbe80848d0ba3d3b0c49a0aa46",
            "389d7e82628d4dbfa311e3afcbc1484a",
            "0334739f1d9540f0835aa2948ede43a0",
            "750cb101095e42babb9e91d1b804e68b",
            "27b49ce90daa4c428e1f4961338f3ff1",
            "084d86f6e84e46a180aa024d43d013fa",
            "d78837c398f744f7afa0f0c810762eec",
            "4e99fe2b763d454db9e8deff47c37e92",
            "4bd4a2175d004416a18d5746ff4aca43",
            "ba1a98555e9f4a19bacbc1444bfb2599",
            "7e7c11189da9486ebf13cc0f167dd7c7",
            "d9ae2728d940493a80ee307a6b6ee94b",
            "ae03c1fa475b4f4caf30cbd1f15e1e38",
            "f94ac0ab61764b83b80973dc9c983219",
            "febc635fe66c4699b6329ec74a494046",
            "d25a2212254944729619599d0dd44c6f",
            "e1f96292c1144c75b2afdb95d8b8203c",
            "96ecba3dacf841c2a514d24c463c86b4",
            "978017e756774c69923be9c2ec5a021c",
            "e15c34f7872148499265bd5d2368e3ea",
            "b4f43565dba54c05b6508ec073ddaf94",
            "14ef020c607e47978ad881d32c2dc937",
            "d5d3ea510155448794fe38b9089fd46d",
            "1ac6b3b187f94f1281df25985b0669c2",
            "72cc6469a14e4509b8da171c07c19c55",
            "fadaa0f96a41485e905269fd44b39291",
            "6b151f15567442258701c1c0eb2ff973",
            "165d27bfd75140ccbcaddedcae357727",
            "6fd2d782e4834591bb30e0978c598692",
            "176aacd30cd9453a86f7fe12085b79de",
            "0feb3d14b1f6412eba5a4ace5ffef689",
            "b2b9a82fdcda48cca408f3c1aaff3416",
            "e21a5fe2eef147f39d70cb0d9c35ae89",
            "0b36a75825704104a2d48af4965af18b",
            "221b5b921a724d54a8c934c8cf916b03",
            "441ab968f28147b5926bbe5f0fdc3882",
            "fea38b214f8341d29902797369168c61",
            "33995bb99c274a02b8c86aa628c16923",
            "110f46bb13004716bf6691ddf071867a",
            "127872600a3c4ed995d7ebe2c6118112",
            "f0e7303e059d44de9d0e53249866d4c9",
            "7c9d1af9964944aaa3d7825eede1a968",
            "c5ff1de0caf64f6e9b5db93d22f8a75c",
            "0e6a2e338a214b73bd7cd0ca6539a778",
            "3438456251334ae5a649a3b9d53f689e",
            "95c225718634473f9d9cf8dbc349c113",
            "a463d06d5ba94274bbfbd35a6237761d",
            "2312c54db6f344e1b5e93cfff2db7b01",
            "f705bb605a3a446d93f5751dde2bdc43",
            "de10421600824375bb96a11c3d0f6266",
            "f917fb9512944de38afe92d5b862cebc",
            "f487833fdc5f423faa3cc99cc4e8c613",
            "c46b0d7b13c64bbb8d19ba0b118f8193",
            "dedba6e6c40a49788f7435b7cc5c8f9a",
            "64f7c9f9be2348539b0e2e3bf4cf7a83",
            "74e80e1487644d8f98be02f0f1acfe44",
            "1929bb3be9d54cb39ad9ba483be094cd",
            "194eb0105bb143e6aa974faeab64ae08",
            "8752f45e99944dc691adfd763d276fd9",
            "07cffd72e796452c800db76b94968352",
            "736ea64e76aa44bca087f4c0367e32c0",
            "23f312731835438ab37a06a0f0ec95ef",
            "51b4e77d9e0644698b3d5ebcc532957f",
            "f5a3777dbc0843869d5d3b37dd986d03",
            "2cb0ad2eb3ff43cdb51565af2550c236",
            "3695dc0f20bb413b90e3b1ff1f8aacb9",
            "97e7dcc7c4e14fa5b9b7570c197b5e3c",
            "47ed18055f1549d7b455b8dffec6551b",
            "227c7b7bd43e40fcbfa0f49b1ee287f1",
            "45a6212c22564244a0065c44a28e22aa",
            "2f8c383178a4408089ccf327da21fbf8",
            "01b988eecda24ef5bfd9a5290b08e9ed",
            "1b7228c2eafc47f1bf32877e7caa677b",
            "bcc0448fa36f47b385cb2e14130195c9",
            "995e5cf8506047cabcf83585d574fbbd",
            "3018bbc0013c46d3ad9efce3f6e9bc73",
            "16c3ba43d1234b69933a22c707445adf",
            "264e7c4bcd22473692d2480cb54cf600",
            "62df056b7b4041f0adc3c8087b236d5b",
            "af4544d4615c4a71aef8144412ad5f89",
            "5cf04be5c22c489086e0e06ba5b59658",
            "5ebe6397b3bb49bf87cb1fc7c38e08d0",
            "10c0510912c24755b1083f44939759d3",
            "a00f2988ca834da896845abcc9054cf4",
            "57713dcac4d844869d349777cbaffa11",
            "65b54d654eba4f1daa312a1c222b97ea",
            "7505fdc34d174c3bac2d7ac466b5d89d",
            "11046dcf96f8416586303765d5d8c9c8",
            "3351d5309e754e77aa73af7f88d56ac5",
            "c9c39cd73fbb43f6b46543608ff7798d",
            "01f412dd5afa45dfa33871c345e3667a",
            "6397b52e0fe346eb97eea3bbcff3d6ae",
            "cc2a6552bcd24515ac773d231ac8cf3d",
            "c4bf6d8cd94840dc9b3e3b4afbbcac34",
            "8deb5b295ee846108fb9efd01947cb26",
            "8d1ffff22b8d4e8687de2ae2a7aa1e7b",
            "d41cf0b04bc74c8face24570983b176e",
            "03860648db8b4bb5914b8864c824708d",
            "fa533d6e08764d80ba5fbdc94affaa8d",
            "924b0371bdeb4d839e08f76b748d8377"
          ]
        },
        "id": "du5JxW8gJ1aC",
        "outputId": "f7908a30-3089-42dd-9896-f1c72d1484df"
      },
      "execution_count": null,
      "outputs": [
        {
          "output_type": "stream",
          "name": "stderr",
          "text": [
            "/usr/local/lib/python3.10/dist-packages/requests/__init__.py:102: RequestsDependencyWarning: urllib3 (1.26.20) or chardet (5.2.0)/charset_normalizer (2.0.12) doesn't match a supported version!\n",
            "  warnings.warn(\"urllib3 ({}) or chardet ({})/charset_normalizer ({}) doesn't match a supported \"\n",
            "<ipython-input-1-a996f72d8854>:3: LangChainDeprecationWarning: The class `HuggingFaceEmbeddings` was deprecated in LangChain 0.2.2 and will be removed in 1.0. An updated version of the class exists in the langchain-huggingface package and should be used instead. To use it run `pip install -U langchain-huggingface` and import as `from langchain_huggingface import HuggingFaceEmbeddings`.\n",
            "  emb_func = SentenceTransformerEmbeddings(model_name=\"intfloat/multilingual-e5-large\")\n",
            "/usr/local/lib/python3.10/dist-packages/sentence_transformers/cross_encoder/CrossEncoder.py:13: TqdmExperimentalWarning: Using `tqdm.autonotebook.tqdm` in notebook mode. Use `tqdm.tqdm` instead to force console mode (e.g. in jupyter console)\n",
            "  from tqdm.autonotebook import tqdm, trange\n",
            "/usr/local/lib/python3.10/dist-packages/huggingface_hub/utils/_token.py:89: UserWarning: \n",
            "The secret `HF_TOKEN` does not exist in your Colab secrets.\n",
            "To authenticate with the Hugging Face Hub, create a token in your settings tab (https://huggingface.co/settings/tokens), set it as secret in your Google Colab and restart your session.\n",
            "You will be able to reuse this secret in all of your notebooks.\n",
            "Please note that authentication is recommended but still optional to access public models or datasets.\n",
            "  warnings.warn(\n"
          ]
        },
        {
          "output_type": "display_data",
          "data": {
            "text/plain": [
              "modules.json:   0%|          | 0.00/387 [00:00<?, ?B/s]"
            ],
            "application/vnd.jupyter.widget-view+json": {
              "version_major": 2,
              "version_minor": 0,
              "model_id": "b4621f60d9f2446d8d3a31f90c33f0b6"
            }
          },
          "metadata": {}
        },
        {
          "output_type": "display_data",
          "data": {
            "text/plain": [
              "README.md:   0%|          | 0.00/160k [00:00<?, ?B/s]"
            ],
            "application/vnd.jupyter.widget-view+json": {
              "version_major": 2,
              "version_minor": 0,
              "model_id": "389d7e82628d4dbfa311e3afcbc1484a"
            }
          },
          "metadata": {}
        },
        {
          "output_type": "display_data",
          "data": {
            "text/plain": [
              "sentence_bert_config.json:   0%|          | 0.00/57.0 [00:00<?, ?B/s]"
            ],
            "application/vnd.jupyter.widget-view+json": {
              "version_major": 2,
              "version_minor": 0,
              "model_id": "ae03c1fa475b4f4caf30cbd1f15e1e38"
            }
          },
          "metadata": {}
        },
        {
          "output_type": "display_data",
          "data": {
            "text/plain": [
              "config.json:   0%|          | 0.00/690 [00:00<?, ?B/s]"
            ],
            "application/vnd.jupyter.widget-view+json": {
              "version_major": 2,
              "version_minor": 0,
              "model_id": "1ac6b3b187f94f1281df25985b0669c2"
            }
          },
          "metadata": {}
        },
        {
          "output_type": "display_data",
          "data": {
            "text/plain": [
              "model.safetensors:   0%|          | 0.00/2.24G [00:00<?, ?B/s]"
            ],
            "application/vnd.jupyter.widget-view+json": {
              "version_major": 2,
              "version_minor": 0,
              "model_id": "221b5b921a724d54a8c934c8cf916b03"
            }
          },
          "metadata": {}
        },
        {
          "output_type": "display_data",
          "data": {
            "text/plain": [
              "tokenizer_config.json:   0%|          | 0.00/418 [00:00<?, ?B/s]"
            ],
            "application/vnd.jupyter.widget-view+json": {
              "version_major": 2,
              "version_minor": 0,
              "model_id": "95c225718634473f9d9cf8dbc349c113"
            }
          },
          "metadata": {}
        },
        {
          "output_type": "display_data",
          "data": {
            "text/plain": [
              "sentencepiece.bpe.model:   0%|          | 0.00/5.07M [00:00<?, ?B/s]"
            ],
            "application/vnd.jupyter.widget-view+json": {
              "version_major": 2,
              "version_minor": 0,
              "model_id": "1929bb3be9d54cb39ad9ba483be094cd"
            }
          },
          "metadata": {}
        },
        {
          "output_type": "display_data",
          "data": {
            "text/plain": [
              "tokenizer.json:   0%|          | 0.00/17.1M [00:00<?, ?B/s]"
            ],
            "application/vnd.jupyter.widget-view+json": {
              "version_major": 2,
              "version_minor": 0,
              "model_id": "47ed18055f1549d7b455b8dffec6551b"
            }
          },
          "metadata": {}
        },
        {
          "output_type": "display_data",
          "data": {
            "text/plain": [
              "special_tokens_map.json:   0%|          | 0.00/280 [00:00<?, ?B/s]"
            ],
            "application/vnd.jupyter.widget-view+json": {
              "version_major": 2,
              "version_minor": 0,
              "model_id": "62df056b7b4041f0adc3c8087b236d5b"
            }
          },
          "metadata": {}
        },
        {
          "output_type": "display_data",
          "data": {
            "text/plain": [
              "1_Pooling/config.json:   0%|          | 0.00/201 [00:00<?, ?B/s]"
            ],
            "application/vnd.jupyter.widget-view+json": {
              "version_major": 2,
              "version_minor": 0,
              "model_id": "c9c39cd73fbb43f6b46543608ff7798d"
            }
          },
          "metadata": {}
        }
      ]
    },
    {
      "cell_type": "code",
      "source": [
        "# Defining model\n",
        "model_id = ModelTypes.FLAN_UL2"
      ],
      "metadata": {
        "id": "J7llpNkVL_iV"
      },
      "execution_count": null,
      "outputs": []
    },
    {
      "cell_type": "code",
      "source": [
        "# Defining the model parameters\n",
        "parameters = {\n",
        "    GenParams.DECODING_METHOD: DecodingMethods.GREEDY,\n",
        "    GenParams.MIN_NEW_TOKENS: 1,\n",
        "    GenParams.MAX_NEW_TOKENS: 50\n",
        "}"
      ],
      "metadata": {
        "id": "fD_ZTmUgNr25"
      },
      "execution_count": null,
      "outputs": []
    },
    {
      "cell_type": "code",
      "source": [
        "# Initialize the Model class\n",
        "\n",
        "model = Model(\n",
        "    model_id=\"sdaia/allam-1-13b-instruct\",\n",
        "    credentials=Credentials(\n",
        "        api_key = \"9L8TsBVh597KH2qocdFOgBOFhwL93Rt-iayij5EYFyoM\",\n",
        "        url = \"https://eu-de.ml.cloud.ibm.com\"),\n",
        "    project_id=\"64d518b6-f02e-4572-be32-cb1ba20cfd7a\"\n",
        "    )"
      ],
      "metadata": {
        "id": "u_jRICC6N05K"
      },
      "execution_count": null,
      "outputs": []
    },
    {
      "cell_type": "markdown",
      "source": [
        "### Basic information how to connect to Elasticsearch\n"
      ],
      "metadata": {
        "id": "0NyFVqF6QW2R"
      }
    },
    {
      "cell_type": "code",
      "source": [
        "try:\n",
        "    esuser = os.environ[\"ESUSER\"]\n",
        "except KeyError:\n",
        "    esuser = input(\"Please enter your Elasticsearch user name (hit enter): \")\n",
        "try:\n",
        "    espassword = os.environ[\"ESPASSWORD\"]\n",
        "except KeyError:\n",
        "    espassword = getpass.getpass(\"Please enter your Elasticsearch password (hit enter): \")\n",
        "try:\n",
        "    eshost = os.environ[\"ESHOST\"]\n",
        "except KeyError:\n",
        "    eshost = input(\"Please enter your Elasticsearch hostname (hit enter): \")\n",
        "try:\n",
        "    esport = os.environ[\"ESPORT\"]\n",
        "except KeyError:\n",
        "    esport = input(\"Please enter your Elasticsearch port number (hit enter): \")"
      ],
      "metadata": {
        "colab": {
          "base_uri": "https://localhost:8080/",
          "height": 442
        },
        "id": "piWRRBeGOb11",
        "outputId": "2617f904-3d2b-4bf2-8f78-3039e10f1e86"
      },
      "execution_count": null,
      "outputs": [
        {
          "name": "stdout",
          "output_type": "stream",
          "text": [
            "Please enter your Elasticsearch user name (hit enter): \n"
          ]
        },
        {
          "output_type": "error",
          "ename": "NameError",
          "evalue": "name 'getpass' is not defined",
          "traceback": [
            "\u001b[0;31m---------------------------------------------------------------------------\u001b[0m",
            "\u001b[0;31mKeyError\u001b[0m                                  Traceback (most recent call last)",
            "\u001b[0;32m<ipython-input-15-32ac5138a7fb>\u001b[0m in \u001b[0;36m<cell line: 5>\u001b[0;34m()\u001b[0m\n\u001b[1;32m      5\u001b[0m \u001b[0;32mtry\u001b[0m\u001b[0;34m:\u001b[0m\u001b[0;34m\u001b[0m\u001b[0;34m\u001b[0m\u001b[0m\n\u001b[0;32m----> 6\u001b[0;31m     \u001b[0mespassword\u001b[0m \u001b[0;34m=\u001b[0m \u001b[0mos\u001b[0m\u001b[0;34m.\u001b[0m\u001b[0menviron\u001b[0m\u001b[0;34m[\u001b[0m\u001b[0;34m\"ESPASSWORD\"\u001b[0m\u001b[0;34m]\u001b[0m\u001b[0;34m\u001b[0m\u001b[0;34m\u001b[0m\u001b[0m\n\u001b[0m\u001b[1;32m      7\u001b[0m \u001b[0;32mexcept\u001b[0m \u001b[0mKeyError\u001b[0m\u001b[0;34m:\u001b[0m\u001b[0;34m\u001b[0m\u001b[0;34m\u001b[0m\u001b[0m\n",
            "\u001b[0;32m/usr/lib/python3.10/os.py\u001b[0m in \u001b[0;36m__getitem__\u001b[0;34m(self, key)\u001b[0m\n\u001b[1;32m    679\u001b[0m             \u001b[0;31m# raise KeyError with the original key value\u001b[0m\u001b[0;34m\u001b[0m\u001b[0;34m\u001b[0m\u001b[0m\n\u001b[0;32m--> 680\u001b[0;31m             \u001b[0;32mraise\u001b[0m \u001b[0mKeyError\u001b[0m\u001b[0;34m(\u001b[0m\u001b[0mkey\u001b[0m\u001b[0;34m)\u001b[0m \u001b[0;32mfrom\u001b[0m \u001b[0;32mNone\u001b[0m\u001b[0;34m\u001b[0m\u001b[0;34m\u001b[0m\u001b[0m\n\u001b[0m\u001b[1;32m    681\u001b[0m         \u001b[0;32mreturn\u001b[0m \u001b[0mself\u001b[0m\u001b[0;34m.\u001b[0m\u001b[0mdecodevalue\u001b[0m\u001b[0;34m(\u001b[0m\u001b[0mvalue\u001b[0m\u001b[0;34m)\u001b[0m\u001b[0;34m\u001b[0m\u001b[0;34m\u001b[0m\u001b[0m\n",
            "\u001b[0;31mKeyError\u001b[0m: 'ESPASSWORD'",
            "\nDuring handling of the above exception, another exception occurred:\n",
            "\u001b[0;31mNameError\u001b[0m                                 Traceback (most recent call last)",
            "\u001b[0;32m<ipython-input-15-32ac5138a7fb>\u001b[0m in \u001b[0;36m<cell line: 5>\u001b[0;34m()\u001b[0m\n\u001b[1;32m      6\u001b[0m     \u001b[0mespassword\u001b[0m \u001b[0;34m=\u001b[0m \u001b[0mos\u001b[0m\u001b[0;34m.\u001b[0m\u001b[0menviron\u001b[0m\u001b[0;34m[\u001b[0m\u001b[0;34m\"ESPASSWORD\"\u001b[0m\u001b[0;34m]\u001b[0m\u001b[0;34m\u001b[0m\u001b[0;34m\u001b[0m\u001b[0m\n\u001b[1;32m      7\u001b[0m \u001b[0;32mexcept\u001b[0m \u001b[0mKeyError\u001b[0m\u001b[0;34m:\u001b[0m\u001b[0;34m\u001b[0m\u001b[0;34m\u001b[0m\u001b[0m\n\u001b[0;32m----> 8\u001b[0;31m     \u001b[0mespassword\u001b[0m \u001b[0;34m=\u001b[0m \u001b[0mgetpass\u001b[0m\u001b[0;34m.\u001b[0m\u001b[0mgetpass\u001b[0m\u001b[0;34m(\u001b[0m\u001b[0;34m\"Please enter your Elasticsearch password (hit enter): \"\u001b[0m\u001b[0;34m)\u001b[0m\u001b[0;34m\u001b[0m\u001b[0;34m\u001b[0m\u001b[0m\n\u001b[0m\u001b[1;32m      9\u001b[0m \u001b[0;32mtry\u001b[0m\u001b[0;34m:\u001b[0m\u001b[0;34m\u001b[0m\u001b[0;34m\u001b[0m\u001b[0m\n\u001b[1;32m     10\u001b[0m     \u001b[0meshost\u001b[0m \u001b[0;34m=\u001b[0m \u001b[0mos\u001b[0m\u001b[0;34m.\u001b[0m\u001b[0menviron\u001b[0m\u001b[0;34m[\u001b[0m\u001b[0;34m\"ESHOST\"\u001b[0m\u001b[0;34m]\u001b[0m\u001b[0;34m\u001b[0m\u001b[0;34m\u001b[0m\u001b[0m\n",
            "\u001b[0;31mNameError\u001b[0m: name 'getpass' is not defined"
          ]
        }
      ]
    },
    {
      "cell_type": "code",
      "source": [
        "# Load the .env file\n",
        "_ = load_dotenv(find_dotenv())\n",
        "\n",
        "# Access the environment variables\n",
        "api_key = os.getenv(\"IBM_WATSONX_API_KEY\")\n",
        "\n",
        "print(f\"API Key: {api_key}\")"
      ],
      "metadata": {
        "id": "rX8GGP52R5tz"
      },
      "execution_count": null,
      "outputs": []
    }
  ]
}